{
 "cells": [
  {
   "cell_type": "markdown",
   "id": "51f04e5f",
   "metadata": {},
   "source": [
    "## DATA CLEANING"
   ]
  },
  {
   "cell_type": "markdown",
   "id": "b8f42284",
   "metadata": {},
   "source": [
    "Data cleaning is the process of identifying and rectifying errors, inconsistencies, and irrelevant information in a dataset to ensure its quality and reliability. It is a crucial step in the data preparation process as it enhances the integrity of data analysis, leading to more accurate and valid results. Clean data enables better decision-making and helps uncover meaningful insights, whereas dirty data can result in misleading conclusions and potentially costly mistakes. By thoroughly cleaning data, we ensure that our analyses are based on accurate and relevant information.\n",
    "\n",
    "Methods Used for Data Cleaning\n",
    "\n",
    "Removing Duplicates:\n",
    "Identifying and eliminating duplicate entries to ensure that each data point is unique.\n",
    "Duplicate entries can skew analysis results and distort findings. Removing them ensures a more accurate representation of the data.\n",
    "\n",
    "Handling Null Values:\n",
    "Identifying and addressing missing data points by either removing them or imputing values based on other observations.\n",
    "Null values can disrupt analysis and lead to biased results. Proper handling ensures the dataset is complete and ready for accurate analysis.\n",
    "\n",
    "Removing Extra White Spaces:\n",
    "Trimming leading, trailing, and excessive internal white spaces in text data.\n",
    "Extra white spaces can cause inconsistencies in data entry and affect string matching. Removing them ensures uniformity in text data.\n",
    "\n",
    "Standardizing Text Case:\n",
    "Converting all text to a consistent case, such as lowercase.\n",
    "Standardizing text case removes inconsistencies and ensures uniformity, which is essential for reliable text analysis.\n",
    "\n",
    "Relabeling Data:\n",
    "Replacing labels with standardized terms to ensure consistency.\n",
    "Consistent labeling is crucial for clear and accurate categorization. Standardizing labels ensures that similar data points are grouped correctly.\n",
    "\n",
    "Removing HTML Tags:\n",
    "Using regular expressions to remove HTML tags from text data.\n",
    "HTML tags can add unnecessary noise to text data, making it harder to analyze. Removing them ensures the text data is clean and only contains relevant information.\n",
    "\n",
    "Removing Unwanted Punctuation:\n",
    "Removing specified punctuation marks while retaining relevant ones.\n",
    "Punctuation marks can affect text analysis, especially if they are not relevant to the context. Removing unwanted punctuation simplifies the text data and focuses on the meaningful content."
   ]
  },
  {
   "cell_type": "code",
   "execution_count": 54,
   "id": "dd7693cf",
   "metadata": {},
   "outputs": [],
   "source": [
    "import pandas as pd\n",
    "import matplotlib.pyplot as plt"
   ]
  },
  {
   "cell_type": "code",
   "execution_count": 55,
   "id": "21ff8239",
   "metadata": {},
   "outputs": [
    {
     "data": {
      "text/html": [
       "<div>\n",
       "<style scoped>\n",
       "    .dataframe tbody tr th:only-of-type {\n",
       "        vertical-align: middle;\n",
       "    }\n",
       "\n",
       "    .dataframe tbody tr th {\n",
       "        vertical-align: top;\n",
       "    }\n",
       "\n",
       "    .dataframe thead th {\n",
       "        text-align: right;\n",
       "    }\n",
       "</style>\n",
       "<table border=\"1\" class=\"dataframe\">\n",
       "  <thead>\n",
       "    <tr style=\"text-align: right;\">\n",
       "      <th></th>\n",
       "      <th>Review</th>\n",
       "      <th>Sentiment</th>\n",
       "      <th>Sarcasm</th>\n",
       "    </tr>\n",
       "  </thead>\n",
       "  <tbody>\n",
       "    <tr>\n",
       "      <th>0</th>\n",
       "      <td>One of the other reviewers has mentioned that ...</td>\n",
       "      <td>Positive</td>\n",
       "      <td>Non-Sarcastic</td>\n",
       "    </tr>\n",
       "    <tr>\n",
       "      <th>1</th>\n",
       "      <td>A wonderful little production. &lt;br /&gt;&lt;br /&gt;The...</td>\n",
       "      <td>Positive</td>\n",
       "      <td>Non-Sarcastic</td>\n",
       "    </tr>\n",
       "    <tr>\n",
       "      <th>2</th>\n",
       "      <td>This movie was a groundbreaking experience!&lt;br...</td>\n",
       "      <td>Positive</td>\n",
       "      <td>Sarcastic</td>\n",
       "    </tr>\n",
       "    <tr>\n",
       "      <th>3</th>\n",
       "      <td>I thought this was a wonderful way to spend ti...</td>\n",
       "      <td>Positive</td>\n",
       "      <td>Non-Sarcastic</td>\n",
       "    </tr>\n",
       "    <tr>\n",
       "      <th>4</th>\n",
       "      <td>Basically there's a family where a little boy ...</td>\n",
       "      <td>Negative</td>\n",
       "      <td>Sarcastic</td>\n",
       "    </tr>\n",
       "    <tr>\n",
       "      <th>...</th>\n",
       "      <td>...</td>\n",
       "      <td>...</td>\n",
       "      <td>...</td>\n",
       "    </tr>\n",
       "    <tr>\n",
       "      <th>6539</th>\n",
       "      <td>This movie's idea of character development is ...</td>\n",
       "      <td>Negative</td>\n",
       "      <td>Sarcastic</td>\n",
       "    </tr>\n",
       "    <tr>\n",
       "      <th>6540</th>\n",
       "      <td>I guess they ran out of budget for a decent sc...</td>\n",
       "      <td>Negative</td>\n",
       "      <td>Sarcastic</td>\n",
       "    </tr>\n",
       "    <tr>\n",
       "      <th>6541</th>\n",
       "      <td>Who needs a plot when you have explosions ever...</td>\n",
       "      <td>Negative</td>\n",
       "      <td>Sarcastic</td>\n",
       "    </tr>\n",
       "    <tr>\n",
       "      <th>6542</th>\n",
       "      <td>Is there an award for most generic action movi...</td>\n",
       "      <td>Negative</td>\n",
       "      <td>Sarcastic</td>\n",
       "    </tr>\n",
       "    <tr>\n",
       "      <th>6543</th>\n",
       "      <td>Two hours of non-stop, mind-numbing action.</td>\n",
       "      <td>Negative</td>\n",
       "      <td>Sarcastic</td>\n",
       "    </tr>\n",
       "  </tbody>\n",
       "</table>\n",
       "<p>6544 rows × 3 columns</p>\n",
       "</div>"
      ],
      "text/plain": [
       "                                                 Review Sentiment  \\\n",
       "0     One of the other reviewers has mentioned that ...  Positive   \n",
       "1     A wonderful little production. <br /><br />The...  Positive   \n",
       "2     This movie was a groundbreaking experience!<br...  Positive   \n",
       "3     I thought this was a wonderful way to spend ti...  Positive   \n",
       "4     Basically there's a family where a little boy ...  Negative   \n",
       "...                                                 ...       ...   \n",
       "6539  This movie's idea of character development is ...  Negative   \n",
       "6540  I guess they ran out of budget for a decent sc...  Negative   \n",
       "6541  Who needs a plot when you have explosions ever...  Negative   \n",
       "6542  Is there an award for most generic action movi...  Negative   \n",
       "6543        Two hours of non-stop, mind-numbing action.  Negative   \n",
       "\n",
       "            Sarcasm  \n",
       "0     Non-Sarcastic  \n",
       "1     Non-Sarcastic  \n",
       "2         Sarcastic  \n",
       "3     Non-Sarcastic  \n",
       "4         Sarcastic  \n",
       "...             ...  \n",
       "6539      Sarcastic  \n",
       "6540      Sarcastic  \n",
       "6541      Sarcastic  \n",
       "6542      Sarcastic  \n",
       "6543      Sarcastic  \n",
       "\n",
       "[6544 rows x 3 columns]"
      ]
     },
     "execution_count": 55,
     "metadata": {},
     "output_type": "execute_result"
    }
   ],
   "source": [
    "# Importing the dataset excel sheet\n",
    "df = pd.read_excel('Movie sarcasm Final Dataset.xlsx')\n",
    "df"
   ]
  },
  {
   "cell_type": "code",
   "execution_count": 56,
   "id": "0efdcecd",
   "metadata": {},
   "outputs": [
    {
     "name": "stdout",
     "output_type": "stream",
     "text": [
      "no.of datapoints 6544\n"
     ]
    }
   ],
   "source": [
    "# The size of the dataset \n",
    "df.shape\n",
    "rows=df.shape[0]\n",
    "print(f\"no.of datapoints {rows}\")"
   ]
  },
  {
   "cell_type": "markdown",
   "id": "8cf7c569",
   "metadata": {},
   "source": [
    "# 1)checking for null values"
   ]
  },
  {
   "cell_type": "code",
   "execution_count": 57,
   "id": "3b37fa86",
   "metadata": {},
   "outputs": [
    {
     "name": "stdout",
     "output_type": "stream",
     "text": [
      "Rows with any null values:\n",
      "                                                 Review Sentiment Sarcasm\n",
      "2604  Everyone should totally see this movie! It's f...  positive     NaN\n",
      "2605  as a sequel,this is not a bad movie.i actually...  positive     NaN\n",
      "2606  I've just seen this movie in a preview and I c...  positive     NaN\n",
      "2607  This TV show is possibly the most pathetic dis...  negative     NaN\n",
      "2608  The first film ever made. Workers streaming fr...  positive     NaN\n",
      "2609  Just kidding.<br /><br />Seeking greener pastu...  positive     NaN\n",
      "2610  This film is a total bore. Entrapment is way b...  negative     NaN\n",
      "2611  This was an attempt toward a romantic comedy, ...  negative     NaN\n",
      "2612  There are some redeeming qualities to this sho...  negative     NaN\n",
      "2613  I like David Hamilton's artistic photographs o...  positive     NaN\n",
      "3087  For anyone who has ever sought happiness, \"Hal...  positive     NaN\n",
      "3389  The ending of this horror movie is so ambiguou...   Neutral     NaN\n",
      "3402  The acting in this superhero movie is surprisi...   Neutral     NaN\n",
      "\n",
      "DataFrame with rows containing any null values removed:\n",
      "the size of the dataset after the removal of null values (6531, 3)\n"
     ]
    },
    {
     "data": {
      "text/html": [
       "<div>\n",
       "<style scoped>\n",
       "    .dataframe tbody tr th:only-of-type {\n",
       "        vertical-align: middle;\n",
       "    }\n",
       "\n",
       "    .dataframe tbody tr th {\n",
       "        vertical-align: top;\n",
       "    }\n",
       "\n",
       "    .dataframe thead th {\n",
       "        text-align: right;\n",
       "    }\n",
       "</style>\n",
       "<table border=\"1\" class=\"dataframe\">\n",
       "  <thead>\n",
       "    <tr style=\"text-align: right;\">\n",
       "      <th></th>\n",
       "      <th>Review</th>\n",
       "      <th>Sentiment</th>\n",
       "      <th>Sarcasm</th>\n",
       "    </tr>\n",
       "  </thead>\n",
       "  <tbody>\n",
       "    <tr>\n",
       "      <th>0</th>\n",
       "      <td>One of the other reviewers has mentioned that ...</td>\n",
       "      <td>Positive</td>\n",
       "      <td>Non-Sarcastic</td>\n",
       "    </tr>\n",
       "    <tr>\n",
       "      <th>1</th>\n",
       "      <td>A wonderful little production. &lt;br /&gt;&lt;br /&gt;The...</td>\n",
       "      <td>Positive</td>\n",
       "      <td>Non-Sarcastic</td>\n",
       "    </tr>\n",
       "    <tr>\n",
       "      <th>2</th>\n",
       "      <td>This movie was a groundbreaking experience!&lt;br...</td>\n",
       "      <td>Positive</td>\n",
       "      <td>Sarcastic</td>\n",
       "    </tr>\n",
       "    <tr>\n",
       "      <th>3</th>\n",
       "      <td>I thought this was a wonderful way to spend ti...</td>\n",
       "      <td>Positive</td>\n",
       "      <td>Non-Sarcastic</td>\n",
       "    </tr>\n",
       "    <tr>\n",
       "      <th>4</th>\n",
       "      <td>Basically there's a family where a little boy ...</td>\n",
       "      <td>Negative</td>\n",
       "      <td>Sarcastic</td>\n",
       "    </tr>\n",
       "    <tr>\n",
       "      <th>...</th>\n",
       "      <td>...</td>\n",
       "      <td>...</td>\n",
       "      <td>...</td>\n",
       "    </tr>\n",
       "    <tr>\n",
       "      <th>6539</th>\n",
       "      <td>This movie's idea of character development is ...</td>\n",
       "      <td>Negative</td>\n",
       "      <td>Sarcastic</td>\n",
       "    </tr>\n",
       "    <tr>\n",
       "      <th>6540</th>\n",
       "      <td>I guess they ran out of budget for a decent sc...</td>\n",
       "      <td>Negative</td>\n",
       "      <td>Sarcastic</td>\n",
       "    </tr>\n",
       "    <tr>\n",
       "      <th>6541</th>\n",
       "      <td>Who needs a plot when you have explosions ever...</td>\n",
       "      <td>Negative</td>\n",
       "      <td>Sarcastic</td>\n",
       "    </tr>\n",
       "    <tr>\n",
       "      <th>6542</th>\n",
       "      <td>Is there an award for most generic action movi...</td>\n",
       "      <td>Negative</td>\n",
       "      <td>Sarcastic</td>\n",
       "    </tr>\n",
       "    <tr>\n",
       "      <th>6543</th>\n",
       "      <td>Two hours of non-stop, mind-numbing action.</td>\n",
       "      <td>Negative</td>\n",
       "      <td>Sarcastic</td>\n",
       "    </tr>\n",
       "  </tbody>\n",
       "</table>\n",
       "<p>6531 rows × 3 columns</p>\n",
       "</div>"
      ],
      "text/plain": [
       "                                                 Review Sentiment  \\\n",
       "0     One of the other reviewers has mentioned that ...  Positive   \n",
       "1     A wonderful little production. <br /><br />The...  Positive   \n",
       "2     This movie was a groundbreaking experience!<br...  Positive   \n",
       "3     I thought this was a wonderful way to spend ti...  Positive   \n",
       "4     Basically there's a family where a little boy ...  Negative   \n",
       "...                                                 ...       ...   \n",
       "6539  This movie's idea of character development is ...  Negative   \n",
       "6540  I guess they ran out of budget for a decent sc...  Negative   \n",
       "6541  Who needs a plot when you have explosions ever...  Negative   \n",
       "6542  Is there an award for most generic action movi...  Negative   \n",
       "6543        Two hours of non-stop, mind-numbing action.  Negative   \n",
       "\n",
       "            Sarcasm  \n",
       "0     Non-Sarcastic  \n",
       "1     Non-Sarcastic  \n",
       "2         Sarcastic  \n",
       "3     Non-Sarcastic  \n",
       "4         Sarcastic  \n",
       "...             ...  \n",
       "6539      Sarcastic  \n",
       "6540      Sarcastic  \n",
       "6541      Sarcastic  \n",
       "6542      Sarcastic  \n",
       "6543      Sarcastic  \n",
       "\n",
       "[6531 rows x 3 columns]"
      ]
     },
     "execution_count": 57,
     "metadata": {},
     "output_type": "execute_result"
    }
   ],
   "source": [
    "#checking for null values\n",
    "rows_with_nulls = df[df.isnull().any(axis=1)]\n",
    "\n",
    "print(\"Rows with any null values:\")\n",
    "print(rows_with_nulls)\n",
    "\n",
    "# Remove rows with any null values\n",
    "df = df.dropna()\n",
    "\n",
    "print(\"\\nDataFrame with rows containing any null values removed:\")\n",
    "print(f\"the size of the dataset after the removal of null values {df.shape}\")\n",
    "\n",
    "df"
   ]
  },
  {
   "cell_type": "markdown",
   "id": "425bd6f6",
   "metadata": {},
   "source": [
    "# 2)working on labels columns"
   ]
  },
  {
   "cell_type": "markdown",
   "id": "691e1307",
   "metadata": {},
   "source": [
    "## a) converting uppercase to lowercase "
   ]
  },
  {
   "cell_type": "code",
   "execution_count": 58,
   "id": "8bed3806",
   "metadata": {},
   "outputs": [
    {
     "name": "stderr",
     "output_type": "stream",
     "text": [
      "C:\\Users\\LENOVO\\AppData\\Local\\Temp\\ipykernel_8112\\4254708946.py:3: SettingWithCopyWarning: \n",
      "A value is trying to be set on a copy of a slice from a DataFrame.\n",
      "Try using .loc[row_indexer,col_indexer] = value instead\n",
      "\n",
      "See the caveats in the documentation: https://pandas.pydata.org/pandas-docs/stable/user_guide/indexing.html#returning-a-view-versus-a-copy\n",
      "  df['Sarcasm'] = df['Sarcasm'].str.lower()\n",
      "C:\\Users\\LENOVO\\AppData\\Local\\Temp\\ipykernel_8112\\4254708946.py:4: SettingWithCopyWarning: \n",
      "A value is trying to be set on a copy of a slice from a DataFrame.\n",
      "Try using .loc[row_indexer,col_indexer] = value instead\n",
      "\n",
      "See the caveats in the documentation: https://pandas.pydata.org/pandas-docs/stable/user_guide/indexing.html#returning-a-view-versus-a-copy\n",
      "  df['Sentiment'] = df['Sentiment'].str.lower()\n"
     ]
    }
   ],
   "source": [
    "#converting all the uppercases to lower cases in labels columns \n",
    "df[['Sarcasm', 'Sentiment']]\n",
    "df['Sarcasm'] = df['Sarcasm'].str.lower()\n",
    "df['Sentiment'] = df['Sentiment'].str.lower()"
   ]
  },
  {
   "cell_type": "code",
   "execution_count": 59,
   "id": "6a8947a0",
   "metadata": {},
   "outputs": [
    {
     "data": {
      "text/html": [
       "<div>\n",
       "<style scoped>\n",
       "    .dataframe tbody tr th:only-of-type {\n",
       "        vertical-align: middle;\n",
       "    }\n",
       "\n",
       "    .dataframe tbody tr th {\n",
       "        vertical-align: top;\n",
       "    }\n",
       "\n",
       "    .dataframe thead th {\n",
       "        text-align: right;\n",
       "    }\n",
       "</style>\n",
       "<table border=\"1\" class=\"dataframe\">\n",
       "  <thead>\n",
       "    <tr style=\"text-align: right;\">\n",
       "      <th></th>\n",
       "      <th>Sarcasm</th>\n",
       "      <th>Sentiment</th>\n",
       "    </tr>\n",
       "  </thead>\n",
       "  <tbody>\n",
       "    <tr>\n",
       "      <th>0</th>\n",
       "      <td>non-sarcastic</td>\n",
       "      <td>positive</td>\n",
       "    </tr>\n",
       "    <tr>\n",
       "      <th>1</th>\n",
       "      <td>non-sarcastic</td>\n",
       "      <td>positive</td>\n",
       "    </tr>\n",
       "    <tr>\n",
       "      <th>2</th>\n",
       "      <td>sarcastic</td>\n",
       "      <td>positive</td>\n",
       "    </tr>\n",
       "    <tr>\n",
       "      <th>3</th>\n",
       "      <td>non-sarcastic</td>\n",
       "      <td>positive</td>\n",
       "    </tr>\n",
       "    <tr>\n",
       "      <th>4</th>\n",
       "      <td>sarcastic</td>\n",
       "      <td>negative</td>\n",
       "    </tr>\n",
       "    <tr>\n",
       "      <th>...</th>\n",
       "      <td>...</td>\n",
       "      <td>...</td>\n",
       "    </tr>\n",
       "    <tr>\n",
       "      <th>6539</th>\n",
       "      <td>sarcastic</td>\n",
       "      <td>negative</td>\n",
       "    </tr>\n",
       "    <tr>\n",
       "      <th>6540</th>\n",
       "      <td>sarcastic</td>\n",
       "      <td>negative</td>\n",
       "    </tr>\n",
       "    <tr>\n",
       "      <th>6541</th>\n",
       "      <td>sarcastic</td>\n",
       "      <td>negative</td>\n",
       "    </tr>\n",
       "    <tr>\n",
       "      <th>6542</th>\n",
       "      <td>sarcastic</td>\n",
       "      <td>negative</td>\n",
       "    </tr>\n",
       "    <tr>\n",
       "      <th>6543</th>\n",
       "      <td>sarcastic</td>\n",
       "      <td>negative</td>\n",
       "    </tr>\n",
       "  </tbody>\n",
       "</table>\n",
       "<p>6531 rows × 2 columns</p>\n",
       "</div>"
      ],
      "text/plain": [
       "            Sarcasm Sentiment\n",
       "0     non-sarcastic  positive\n",
       "1     non-sarcastic  positive\n",
       "2         sarcastic  positive\n",
       "3     non-sarcastic  positive\n",
       "4         sarcastic  negative\n",
       "...             ...       ...\n",
       "6539      sarcastic  negative\n",
       "6540      sarcastic  negative\n",
       "6541      sarcastic  negative\n",
       "6542      sarcastic  negative\n",
       "6543      sarcastic  negative\n",
       "\n",
       "[6531 rows x 2 columns]"
      ]
     },
     "execution_count": 59,
     "metadata": {},
     "output_type": "execute_result"
    }
   ],
   "source": [
    "(df[['Sarcasm', 'Sentiment']])"
   ]
  },
  {
   "cell_type": "markdown",
   "id": "f18fa72e",
   "metadata": {},
   "source": [
    "## b) replacing all the labels uniformly"
   ]
  },
  {
   "cell_type": "code",
   "execution_count": 60,
   "id": "13a15223",
   "metadata": {},
   "outputs": [
    {
     "name": "stderr",
     "output_type": "stream",
     "text": [
      "C:\\Users\\LENOVO\\AppData\\Local\\Temp\\ipykernel_8112\\1653297922.py:2: SettingWithCopyWarning: \n",
      "A value is trying to be set on a copy of a slice from a DataFrame.\n",
      "Try using .loc[row_indexer,col_indexer] = value instead\n",
      "\n",
      "See the caveats in the documentation: https://pandas.pydata.org/pandas-docs/stable/user_guide/indexing.html#returning-a-view-versus-a-copy\n",
      "  df['Sarcasm'] = df['Sarcasm'].str.strip()\n",
      "C:\\Users\\LENOVO\\AppData\\Local\\Temp\\ipykernel_8112\\1653297922.py:3: SettingWithCopyWarning: \n",
      "A value is trying to be set on a copy of a slice from a DataFrame.\n",
      "Try using .loc[row_indexer,col_indexer] = value instead\n",
      "\n",
      "See the caveats in the documentation: https://pandas.pydata.org/pandas-docs/stable/user_guide/indexing.html#returning-a-view-versus-a-copy\n",
      "  df['Sarcasm'] = df['Sarcasm'].replace({\n"
     ]
    },
    {
     "data": {
      "text/plain": [
       "0       not sarcastic\n",
       "1       not sarcastic\n",
       "2           sarcastic\n",
       "3       not sarcastic\n",
       "4           sarcastic\n",
       "            ...      \n",
       "6539        sarcastic\n",
       "6540        sarcastic\n",
       "6541        sarcastic\n",
       "6542        sarcastic\n",
       "6543        sarcastic\n",
       "Name: Sarcasm, Length: 6531, dtype: object"
      ]
     },
     "execution_count": 60,
     "metadata": {},
     "output_type": "execute_result"
    }
   ],
   "source": [
    "# replacing all the labels to sarcastic and not sarcastic\n",
    "df['Sarcasm'] = df['Sarcasm'].str.strip()\n",
    "df['Sarcasm'] = df['Sarcasm'].replace({\n",
    "    'sarcasm': 'sarcastic',\n",
    "    'saracstic': 'sarcastic',\n",
    "    'not sarcasm': 'not sarcastic',\n",
    "    'non sarcasm': 'not sarcastic',\n",
    "    'not-sarcasm': 'not sarcastic',\n",
    "    'non-sarcasm' : 'not sarcastic',\n",
    "    'non-sarcastic' : 'not sarcastic',\n",
    "    'nsa': 'not sarcastic'\n",
    "})\n",
    "df.Sarcasm"
   ]
  },
  {
   "cell_type": "markdown",
   "id": "8ac9d98a",
   "metadata": {},
   "source": [
    "                                        # cleaning the reviews section"
   ]
  },
  {
   "cell_type": "markdown",
   "id": "dc5e7e6e",
   "metadata": {},
   "source": [
    "# 3) Removing the duplicate reviews in the dataset"
   ]
  },
  {
   "cell_type": "code",
   "execution_count": 61,
   "id": "1e166ca4",
   "metadata": {},
   "outputs": [
    {
     "name": "stdout",
     "output_type": "stream",
     "text": [
      "no.of rows dropped 47\n",
      "(6497, 3)\n"
     ]
    }
   ],
   "source": [
    "df = df.drop_duplicates(subset='Review' , keep ='first')\n",
    "df\n",
    "finalrows = df.shape[0]\n",
    "print(f\"no.of rows dropped {rows-finalrows}\") \n",
    "print(df.shape)"
   ]
  },
  {
   "cell_type": "markdown",
   "id": "a2cd8306",
   "metadata": {},
   "source": [
    "# 4) Removing HTML tags "
   ]
  },
  {
   "cell_type": "code",
   "execution_count": 62,
   "id": "10855d65",
   "metadata": {},
   "outputs": [
    {
     "name": "stderr",
     "output_type": "stream",
     "text": [
      "C:\\Users\\LENOVO\\AppData\\Local\\Temp\\ipykernel_8112\\2872427168.py:6: SettingWithCopyWarning: \n",
      "A value is trying to be set on a copy of a slice from a DataFrame.\n",
      "Try using .loc[row_indexer,col_indexer] = value instead\n",
      "\n",
      "See the caveats in the documentation: https://pandas.pydata.org/pandas-docs/stable/user_guide/indexing.html#returning-a-view-versus-a-copy\n",
      "  df['cleaned_data'] = df['Review'].apply(remove_html)\n"
     ]
    },
    {
     "data": {
      "text/plain": [
       "0       One of the other reviewers has mentioned that ...\n",
       "1       A wonderful little production. The filming tec...\n",
       "2       This movie was a groundbreaking experience! I'...\n",
       "3       I thought this was a wonderful way to spend ti...\n",
       "4       Basically there's a family where a little boy ...\n",
       "                              ...                        \n",
       "6539    This movie's idea of character development is ...\n",
       "6540    I guess they ran out of budget for a decent sc...\n",
       "6541    Who needs a plot when you have explosions ever...\n",
       "6542    Is there an award for most generic action movi...\n",
       "6543          Two hours of non-stop, mind-numbing action.\n",
       "Name: cleaned_data, Length: 6497, dtype: object"
      ]
     },
     "execution_count": 62,
     "metadata": {},
     "output_type": "execute_result"
    }
   ],
   "source": [
    "import re\n",
    "def remove_html(text):\n",
    "    html_pattern = re.compile('<.*?>')\n",
    "    return html_pattern.sub(r'', text)\n",
    "\n",
    "df['cleaned_data'] = df['Review'].apply(remove_html)\n",
    "df.cleaned_data"
   ]
  },
  {
   "cell_type": "markdown",
   "id": "c2db0d2d",
   "metadata": {},
   "source": [
    "# 5) Removing the punctuation marks"
   ]
  },
  {
   "cell_type": "code",
   "execution_count": 63,
   "id": "87a4d11d",
   "metadata": {},
   "outputs": [
    {
     "name": "stderr",
     "output_type": "stream",
     "text": [
      "C:\\Users\\LENOVO\\AppData\\Local\\Temp\\ipykernel_8112\\536777500.py:10: SettingWithCopyWarning: \n",
      "A value is trying to be set on a copy of a slice from a DataFrame.\n",
      "Try using .loc[row_indexer,col_indexer] = value instead\n",
      "\n",
      "See the caveats in the documentation: https://pandas.pydata.org/pandas-docs/stable/user_guide/indexing.html#returning-a-view-versus-a-copy\n",
      "  df['cleaned_data'] = df['cleaned_data'].apply(remove_punctuation)\n"
     ]
    },
    {
     "data": {
      "text/plain": [
       "0       One of the other reviewers has mentioned that ...\n",
       "1       A wonderful little production. The filming tec...\n",
       "2       This movie was a groundbreaking experience! Iv...\n",
       "3       I thought this was a wonderful way to spend ti...\n",
       "4       Basically theres a family where a little boy J...\n",
       "                              ...                        \n",
       "6539    This movies idea of character development is m...\n",
       "6540    I guess they ran out of budget for a decent sc...\n",
       "6541    Who needs a plot when you have explosions ever...\n",
       "6542    Is there an award for most generic action movi...\n",
       "6543             Two hours of nonstop mindnumbing action.\n",
       "Name: cleaned_data, Length: 6497, dtype: object"
      ]
     },
     "execution_count": 63,
     "metadata": {},
     "output_type": "execute_result"
    }
   ],
   "source": [
    "import string\n",
    "def remove_punctuation(text):\n",
    "    # Define the punctuation marks to keep\n",
    "    keep = ['?', '!', '.',]\n",
    "    punctuation_to_remove = ''.join(p for p in string.punctuation if p not in keep)\n",
    "    translation_table = str.maketrans('', '', punctuation_to_remove)\n",
    "    return text.translate(translation_table)\n",
    "\n",
    "# Apply the function to the 'cleaned_data' column\n",
    "df['cleaned_data'] = df['cleaned_data'].apply(remove_punctuation)\n",
    "df.cleaned_data"
   ]
  },
  {
   "cell_type": "markdown",
   "id": "ed74c24c",
   "metadata": {},
   "source": [
    "# 6) Removing the urls"
   ]
  },
  {
   "cell_type": "code",
   "execution_count": 64,
   "id": "97e74c01",
   "metadata": {
    "scrolled": true
   },
   "outputs": [
    {
     "name": "stdout",
     "output_type": "stream",
     "text": [
      "Rows with URLs:\n",
      "                                                 Review Sentiment  \\\n",
      "674   Pendragon Pictures' new film \"H G Wells' War o...  positive   \n",
      "1002  Heya Denver fans! The animation is a cartoon's...  positive   \n",
      "1271  This show is totally worth watching. It has th...  positive   \n",
      "1570  As with all the other reviewers, this movie ha...  positive   \n",
      "1610  Chop Shop, the second feature from Ramin Bahra...  positive   \n",
      "2777  I don't hand out \"ones\" often, but if there wa...  negative   \n",
      "\n",
      "            Sarcasm                                       cleaned_data  \n",
      "674   not sarcastic  Pendragon Pictures new film H G Wells War of t...  \n",
      "1002  not sarcastic  Heya Denver fans! The animation is a cartoons ...  \n",
      "1271  not sarcastic  This show is totally worth watching. It has th...  \n",
      "1570  not sarcastic  As with all the other reviewers this movie has...  \n",
      "1610  not sarcastic  Chop Shop the second feature from Ramin Bahran...  \n",
      "2777  not sarcastic  I dont hand out ones often but if there was ev...  \n"
     ]
    },
    {
     "name": "stderr",
     "output_type": "stream",
     "text": [
      "C:\\Users\\LENOVO\\AppData\\Local\\Temp\\ipykernel_8112\\1698326960.py:12: SettingWithCopyWarning: \n",
      "A value is trying to be set on a copy of a slice from a DataFrame.\n",
      "Try using .loc[row_indexer,col_indexer] = value instead\n",
      "\n",
      "See the caveats in the documentation: https://pandas.pydata.org/pandas-docs/stable/user_guide/indexing.html#returning-a-view-versus-a-copy\n",
      "  df['cleaned_data'] = df['cleaned_data'].apply(remove_urls)\n"
     ]
    },
    {
     "data": {
      "text/plain": [
       "0       One of the other reviewers has mentioned that ...\n",
       "1       A wonderful little production. The filming tec...\n",
       "2       This movie was a groundbreaking experience! Iv...\n",
       "3       I thought this was a wonderful way to spend ti...\n",
       "4       Basically theres a family where a little boy J...\n",
       "                              ...                        \n",
       "6539    This movies idea of character development is m...\n",
       "6540    I guess they ran out of budget for a decent sc...\n",
       "6541    Who needs a plot when you have explosions ever...\n",
       "6542    Is there an award for most generic action movi...\n",
       "6543             Two hours of nonstop mindnumbing action.\n",
       "Name: cleaned_data, Length: 6497, dtype: object"
      ]
     },
     "execution_count": 64,
     "metadata": {},
     "output_type": "execute_result"
    }
   ],
   "source": [
    "# removal of urls in reviews\n",
    "import re\n",
    "def remove_urls(text):\n",
    "    url_pattern = re.compile(r'https?://\\S+|www\\.\\S+')\n",
    "    return url_pattern.sub(r'', text)\n",
    "\n",
    "contains_url = df['Review'].str.contains(r'https?://\\S+|www\\.\\S+', regex=True)\n",
    "# Display rows with URLs\n",
    "print(\"Rows with URLs:\")\n",
    "print(df[contains_url])\n",
    "\n",
    "df['cleaned_data'] = df['cleaned_data'].apply(remove_urls)\n",
    "df.cleaned_data"
   ]
  },
  {
   "cell_type": "markdown",
   "id": "564d8ffb",
   "metadata": {},
   "source": [
    "# 7) Removing extra spaces and lines "
   ]
  },
  {
   "cell_type": "code",
   "execution_count": 65,
   "id": "1f98d649",
   "metadata": {},
   "outputs": [
    {
     "data": {
      "text/plain": [
       "0       One of the other reviewers has mentioned that ...\n",
       "1       A wonderful little production. The filming tec...\n",
       "2       This movie was a groundbreaking experience! Iv...\n",
       "3       I thought this was a wonderful way to spend ti...\n",
       "4       Basically theres a family where a little boy J...\n",
       "                              ...                        \n",
       "6539    This movies idea of character development is m...\n",
       "6540    I guess they ran out of budget for a decent sc...\n",
       "6541    Who needs a plot when you have explosions ever...\n",
       "6542    Is there an award for most generic action movi...\n",
       "6543             Two hours of nonstop mindnumbing action.\n",
       "Name: cleaned_data, Length: 6497, dtype: object"
      ]
     },
     "execution_count": 65,
     "metadata": {},
     "output_type": "execute_result"
    }
   ],
   "source": [
    "#removing the extra white spaces\n",
    "df = df[df['cleaned_data'].astype(bool)]\n",
    "df['cleaned_data'] = df['cleaned_data'].replace(r'\\s+', ' ', regex=True).str.strip()\n",
    "df.cleaned_data"
   ]
  },
  {
   "cell_type": "code",
   "execution_count": 66,
   "id": "52a15c7d",
   "metadata": {},
   "outputs": [
    {
     "data": {
      "text/html": [
       "<div>\n",
       "<style scoped>\n",
       "    .dataframe tbody tr th:only-of-type {\n",
       "        vertical-align: middle;\n",
       "    }\n",
       "\n",
       "    .dataframe tbody tr th {\n",
       "        vertical-align: top;\n",
       "    }\n",
       "\n",
       "    .dataframe thead th {\n",
       "        text-align: right;\n",
       "    }\n",
       "</style>\n",
       "<table border=\"1\" class=\"dataframe\">\n",
       "  <thead>\n",
       "    <tr style=\"text-align: right;\">\n",
       "      <th></th>\n",
       "      <th>Review</th>\n",
       "      <th>Sentiment</th>\n",
       "      <th>Sarcasm</th>\n",
       "      <th>cleaned_data</th>\n",
       "    </tr>\n",
       "  </thead>\n",
       "  <tbody>\n",
       "    <tr>\n",
       "      <th>0</th>\n",
       "      <td>One of the other reviewers has mentioned that ...</td>\n",
       "      <td>positive</td>\n",
       "      <td>not sarcastic</td>\n",
       "      <td>One of the other reviewers has mentioned that ...</td>\n",
       "    </tr>\n",
       "    <tr>\n",
       "      <th>1</th>\n",
       "      <td>A wonderful little production. &lt;br /&gt;&lt;br /&gt;The...</td>\n",
       "      <td>positive</td>\n",
       "      <td>not sarcastic</td>\n",
       "      <td>A wonderful little production. The filming tec...</td>\n",
       "    </tr>\n",
       "    <tr>\n",
       "      <th>2</th>\n",
       "      <td>This movie was a groundbreaking experience!&lt;br...</td>\n",
       "      <td>positive</td>\n",
       "      <td>sarcastic</td>\n",
       "      <td>This movie was a groundbreaking experience! Iv...</td>\n",
       "    </tr>\n",
       "    <tr>\n",
       "      <th>3</th>\n",
       "      <td>I thought this was a wonderful way to spend ti...</td>\n",
       "      <td>positive</td>\n",
       "      <td>not sarcastic</td>\n",
       "      <td>I thought this was a wonderful way to spend ti...</td>\n",
       "    </tr>\n",
       "    <tr>\n",
       "      <th>4</th>\n",
       "      <td>Basically there's a family where a little boy ...</td>\n",
       "      <td>negative</td>\n",
       "      <td>sarcastic</td>\n",
       "      <td>Basically theres a family where a little boy J...</td>\n",
       "    </tr>\n",
       "    <tr>\n",
       "      <th>...</th>\n",
       "      <td>...</td>\n",
       "      <td>...</td>\n",
       "      <td>...</td>\n",
       "      <td>...</td>\n",
       "    </tr>\n",
       "    <tr>\n",
       "      <th>6539</th>\n",
       "      <td>This movie's idea of character development is ...</td>\n",
       "      <td>negative</td>\n",
       "      <td>sarcastic</td>\n",
       "      <td>This movies idea of character development is m...</td>\n",
       "    </tr>\n",
       "    <tr>\n",
       "      <th>6540</th>\n",
       "      <td>I guess they ran out of budget for a decent sc...</td>\n",
       "      <td>negative</td>\n",
       "      <td>sarcastic</td>\n",
       "      <td>I guess they ran out of budget for a decent sc...</td>\n",
       "    </tr>\n",
       "    <tr>\n",
       "      <th>6541</th>\n",
       "      <td>Who needs a plot when you have explosions ever...</td>\n",
       "      <td>negative</td>\n",
       "      <td>sarcastic</td>\n",
       "      <td>Who needs a plot when you have explosions ever...</td>\n",
       "    </tr>\n",
       "    <tr>\n",
       "      <th>6542</th>\n",
       "      <td>Is there an award for most generic action movi...</td>\n",
       "      <td>negative</td>\n",
       "      <td>sarcastic</td>\n",
       "      <td>Is there an award for most generic action movi...</td>\n",
       "    </tr>\n",
       "    <tr>\n",
       "      <th>6543</th>\n",
       "      <td>Two hours of non-stop, mind-numbing action.</td>\n",
       "      <td>negative</td>\n",
       "      <td>sarcastic</td>\n",
       "      <td>Two hours of nonstop mindnumbing action.</td>\n",
       "    </tr>\n",
       "  </tbody>\n",
       "</table>\n",
       "<p>6497 rows × 4 columns</p>\n",
       "</div>"
      ],
      "text/plain": [
       "                                                 Review Sentiment  \\\n",
       "0     One of the other reviewers has mentioned that ...  positive   \n",
       "1     A wonderful little production. <br /><br />The...  positive   \n",
       "2     This movie was a groundbreaking experience!<br...  positive   \n",
       "3     I thought this was a wonderful way to spend ti...  positive   \n",
       "4     Basically there's a family where a little boy ...  negative   \n",
       "...                                                 ...       ...   \n",
       "6539  This movie's idea of character development is ...  negative   \n",
       "6540  I guess they ran out of budget for a decent sc...  negative   \n",
       "6541  Who needs a plot when you have explosions ever...  negative   \n",
       "6542  Is there an award for most generic action movi...  negative   \n",
       "6543        Two hours of non-stop, mind-numbing action.  negative   \n",
       "\n",
       "            Sarcasm                                       cleaned_data  \n",
       "0     not sarcastic  One of the other reviewers has mentioned that ...  \n",
       "1     not sarcastic  A wonderful little production. The filming tec...  \n",
       "2         sarcastic  This movie was a groundbreaking experience! Iv...  \n",
       "3     not sarcastic  I thought this was a wonderful way to spend ti...  \n",
       "4         sarcastic  Basically theres a family where a little boy J...  \n",
       "...             ...                                                ...  \n",
       "6539      sarcastic  This movies idea of character development is m...  \n",
       "6540      sarcastic  I guess they ran out of budget for a decent sc...  \n",
       "6541      sarcastic  Who needs a plot when you have explosions ever...  \n",
       "6542      sarcastic  Is there an award for most generic action movi...  \n",
       "6543      sarcastic           Two hours of nonstop mindnumbing action.  \n",
       "\n",
       "[6497 rows x 4 columns]"
      ]
     },
     "execution_count": 66,
     "metadata": {},
     "output_type": "execute_result"
    }
   ],
   "source": [
    "df"
   ]
  },
  {
   "cell_type": "code",
   "execution_count": null,
   "id": "612c4a2a",
   "metadata": {},
   "outputs": [],
   "source": []
  },
  {
   "cell_type": "markdown",
   "id": "886b300c",
   "metadata": {},
   "source": [
    "# Analysis on dataset "
   ]
  },
  {
   "cell_type": "code",
   "execution_count": 67,
   "id": "9b7b5a3f",
   "metadata": {},
   "outputs": [
    {
     "name": "stdout",
     "output_type": "stream",
     "text": [
      "Number of sarcastic labels: 3518\n",
      "Number of not sarcastic labels: 2979\n",
      "Number of positive reviews: 2299\n",
      "Number of negative reviews: 4183\n"
     ]
    }
   ],
   "source": [
    "# analysis on no.of reviews on each category\n",
    "sarcastic_reviews = df['Sarcasm'].value_counts().get('sarcastic', 0)\n",
    "not_sarcastic_reviews = df['Sarcasm'].value_counts().get('not sarcastic', 0)\n",
    "\n",
    "print(f\"Number of sarcastic labels: {sarcastic_reviews}\")\n",
    "print(f\"Number of not sarcastic labels: {not_sarcastic_reviews}\")\n",
    "\n",
    "positive_reviews = df['Sentiment'].value_counts().get('positive', 0)\n",
    "negative_reviews = df['Sentiment'].value_counts().get('negative', 0)\n",
    "\n",
    "print(f\"Number of positive reviews: {positive_reviews}\")\n",
    "print(f\"Number of negative reviews: {negative_reviews}\")\n"
   ]
  },
  {
   "cell_type": "code",
   "execution_count": 68,
   "id": "809a8d8e",
   "metadata": {},
   "outputs": [
    {
     "name": "stdout",
     "output_type": "stream",
     "text": [
      "Percentage of reviews:\n",
      "Sarcastic and Positive: 5.3%\n",
      "Sarcastic and Negative: 48.6%\n",
      "Not Sarcastic and Positive: 30.1%\n",
      "Not Sarcastic and Negative: 15.8%\n"
     ]
    },
    {
     "data": {
      "image/png": "[encoded data removed]",
      "text/plain": [
       "<Figure size 800x800 with 1 Axes>"
      ]
     },
     "metadata": {},
     "output_type": "display_data"
    }
   ],
   "source": [
    "# calculating the percentages of different categories\n",
    "# categories considered 1)positive_sarcastic 2)negative_sarcastic 3)positive_non_sarcastic 4)negative_non_sarcastic\n",
    "\n",
    "# Calculate percentages\n",
    "total_reviews = len(df)\n",
    "sarcastic_positive_percentage = (df[(df['Sarcasm'] == 'sarcastic') & (df['Sentiment'] == 'positive')].shape[0] / total_reviews) * 100\n",
    "sarcastic_negative_percentage = (df[(df['Sarcasm'] == 'sarcastic') & (df['Sentiment'] == 'negative')].shape[0] / total_reviews) * 100\n",
    "non_sarcastic_positive_percentage = (df[(df['Sarcasm'] == 'not sarcastic') & (df['Sentiment'] == 'positive')].shape[0] / total_reviews) * 100\n",
    "non_sarcastic_negative_percentage = (df[(df['Sarcasm'] == 'not sarcastic') & (df['Sentiment'] == 'negative')].shape[0] / total_reviews) * 100\n",
    "\n",
    "# Print the percentages\n",
    "print(\"Percentage of reviews:\")\n",
    "print(f\"Sarcastic and Positive: {sarcastic_positive_percentage:.1f}%\")\n",
    "print(f\"Sarcastic and Negative: {sarcastic_negative_percentage:.1f}%\")\n",
    "print(f\"Not Sarcastic and Positive: {non_sarcastic_positive_percentage:.1f}%\")\n",
    "print(f\"Not Sarcastic and Negative: {non_sarcastic_negative_percentage:.1f}%\")\n",
    "\n",
    "# Plot the pie chart\n",
    "labels = ['Sarcastic and Positive', 'Sarcastic and Negative', 'Not Sarcastic and Positive', 'Not Sarcastic and Negative']\n",
    "sizes = [sarcastic_positive_percentage, sarcastic_negative_percentage, non_sarcastic_positive_percentage, non_sarcastic_negative_percentage]\n",
    "\n",
    "plt.figure(figsize=(8, 8))\n",
    "plt.pie(sizes, labels=labels, autopct='%1.1f%%', startangle=90)\n",
    "plt.title('Percentage of Each Combined Category')\n",
    "plt.show()\n"
   ]
  },
  {
   "cell_type": "code",
   "execution_count": 69,
   "id": "cbd2f017",
   "metadata": {},
   "outputs": [
    {
     "data": {
      "image/png": "[encoded data removed]",
      "text/plain": [
       "<Figure size 640x480 with 1 Axes>"
      ]
     },
     "metadata": {},
     "output_type": "display_data"
    },
    {
     "data": {
      "text/plain": [
       "Sarcasm\n",
       "sarcastic        3518\n",
       "not sarcastic    2979\n",
       "Name: count, dtype: int64"
      ]
     },
     "execution_count": 69,
     "metadata": {},
     "output_type": "execute_result"
    }
   ],
   "source": [
    "df['Sarcasm'].value_counts().plot(kind='bar', color=['darkblue', 'r'], rot=0, fontsize='large')\n",
    "plt.title('Sarcasm Value Counts')\n",
    "plt.xlabel('Sarcasm')\n",
    "plt.ylabel('Count')\n",
    "plt.show()\n",
    "df['Sarcasm'].value_counts()"
   ]
  },
  {
   "cell_type": "code",
   "execution_count": 70,
   "id": "070c3289",
   "metadata": {},
   "outputs": [
    {
     "data": {
      "text/plain": [
       "654.9422810527936"
      ]
     },
     "execution_count": 70,
     "metadata": {},
     "output_type": "execute_result"
    }
   ],
   "source": [
    "# finding the average length of review in the dataset\n",
    "avg_length = df['Review'].str.len().mean()\n",
    "avg_length"
   ]
  },
  {
   "cell_type": "markdown",
   "id": "a5e281fc",
   "metadata": {},
   "source": [
    "## creating the excel sheet with cleaned dataset"
   ]
  },
  {
   "cell_type": "code",
   "execution_count": 71,
   "id": "48dcda95",
   "metadata": {},
   "outputs": [
    {
     "data": {
      "text/html": [
       "<div>\n",
       "<style scoped>\n",
       "    .dataframe tbody tr th:only-of-type {\n",
       "        vertical-align: middle;\n",
       "    }\n",
       "\n",
       "    .dataframe tbody tr th {\n",
       "        vertical-align: top;\n",
       "    }\n",
       "\n",
       "    .dataframe thead th {\n",
       "        text-align: right;\n",
       "    }\n",
       "</style>\n",
       "<table border=\"1\" class=\"dataframe\">\n",
       "  <thead>\n",
       "    <tr style=\"text-align: right;\">\n",
       "      <th></th>\n",
       "      <th>cleaned_data</th>\n",
       "      <th>Sentiment</th>\n",
       "      <th>Sarcasm</th>\n",
       "    </tr>\n",
       "  </thead>\n",
       "  <tbody>\n",
       "    <tr>\n",
       "      <th>0</th>\n",
       "      <td>One of the other reviewers has mentioned that ...</td>\n",
       "      <td>positive</td>\n",
       "      <td>not sarcastic</td>\n",
       "    </tr>\n",
       "    <tr>\n",
       "      <th>1</th>\n",
       "      <td>A wonderful little production. The filming tec...</td>\n",
       "      <td>positive</td>\n",
       "      <td>not sarcastic</td>\n",
       "    </tr>\n",
       "    <tr>\n",
       "      <th>2</th>\n",
       "      <td>This movie was a groundbreaking experience! Iv...</td>\n",
       "      <td>positive</td>\n",
       "      <td>sarcastic</td>\n",
       "    </tr>\n",
       "    <tr>\n",
       "      <th>3</th>\n",
       "      <td>I thought this was a wonderful way to spend ti...</td>\n",
       "      <td>positive</td>\n",
       "      <td>not sarcastic</td>\n",
       "    </tr>\n",
       "    <tr>\n",
       "      <th>4</th>\n",
       "      <td>Basically theres a family where a little boy J...</td>\n",
       "      <td>negative</td>\n",
       "      <td>sarcastic</td>\n",
       "    </tr>\n",
       "    <tr>\n",
       "      <th>...</th>\n",
       "      <td>...</td>\n",
       "      <td>...</td>\n",
       "      <td>...</td>\n",
       "    </tr>\n",
       "    <tr>\n",
       "      <th>6539</th>\n",
       "      <td>This movies idea of character development is m...</td>\n",
       "      <td>negative</td>\n",
       "      <td>sarcastic</td>\n",
       "    </tr>\n",
       "    <tr>\n",
       "      <th>6540</th>\n",
       "      <td>I guess they ran out of budget for a decent sc...</td>\n",
       "      <td>negative</td>\n",
       "      <td>sarcastic</td>\n",
       "    </tr>\n",
       "    <tr>\n",
       "      <th>6541</th>\n",
       "      <td>Who needs a plot when you have explosions ever...</td>\n",
       "      <td>negative</td>\n",
       "      <td>sarcastic</td>\n",
       "    </tr>\n",
       "    <tr>\n",
       "      <th>6542</th>\n",
       "      <td>Is there an award for most generic action movi...</td>\n",
       "      <td>negative</td>\n",
       "      <td>sarcastic</td>\n",
       "    </tr>\n",
       "    <tr>\n",
       "      <th>6543</th>\n",
       "      <td>Two hours of nonstop mindnumbing action.</td>\n",
       "      <td>negative</td>\n",
       "      <td>sarcastic</td>\n",
       "    </tr>\n",
       "  </tbody>\n",
       "</table>\n",
       "<p>6497 rows × 3 columns</p>\n",
       "</div>"
      ],
      "text/plain": [
       "                                           cleaned_data Sentiment  \\\n",
       "0     One of the other reviewers has mentioned that ...  positive   \n",
       "1     A wonderful little production. The filming tec...  positive   \n",
       "2     This movie was a groundbreaking experience! Iv...  positive   \n",
       "3     I thought this was a wonderful way to spend ti...  positive   \n",
       "4     Basically theres a family where a little boy J...  negative   \n",
       "...                                                 ...       ...   \n",
       "6539  This movies idea of character development is m...  negative   \n",
       "6540  I guess they ran out of budget for a decent sc...  negative   \n",
       "6541  Who needs a plot when you have explosions ever...  negative   \n",
       "6542  Is there an award for most generic action movi...  negative   \n",
       "6543           Two hours of nonstop mindnumbing action.  negative   \n",
       "\n",
       "            Sarcasm  \n",
       "0     not sarcastic  \n",
       "1     not sarcastic  \n",
       "2         sarcastic  \n",
       "3     not sarcastic  \n",
       "4         sarcastic  \n",
       "...             ...  \n",
       "6539      sarcastic  \n",
       "6540      sarcastic  \n",
       "6541      sarcastic  \n",
       "6542      sarcastic  \n",
       "6543      sarcastic  \n",
       "\n",
       "[6497 rows x 3 columns]"
      ]
     },
     "execution_count": 71,
     "metadata": {},
     "output_type": "execute_result"
    }
   ],
   "source": [
    "df_new = pd.read_excel('Cleaned_Dataset.xlsx')\n",
    "df_new['cleaned_data'] = df['cleaned_data']\n",
    "df_new['Sentiment'] = df['Sentiment']\n",
    "df_new['Sarcasm'] = df['Sarcasm']\n",
    "df_new.to_excel('Cleaned new Dataset.xlsx', index=False)\n",
    "df_new"
   ]
  },
  {
   "cell_type": "code",
   "execution_count": null,
   "id": "7c60ecf1",
   "metadata": {},
   "outputs": [],
   "source": []
  },
  {
   "cell_type": "code",
   "execution_count": null,
   "id": "7a6fd4fa",
   "metadata": {},
   "outputs": [],
   "source": []
  }
 ],
 "metadata": {
  "kernelspec": {
   "display_name": "Python 3 (ipykernel)",
   "language": "python",
   "name": "python3"
  },
  "language_info": {
   "codemirror_mode": {
    "name": "ipython",
    "version": 3
   },
   "file_extension": ".py",
   "mimetype": "text/x-python",
   "name": "python",
   "nbconvert_exporter": "python",
   "pygments_lexer": "ipython3",
   "version": "3.11.5"
  }
 },
 "nbformat": 4,
 "nbformat_minor": 5
}
