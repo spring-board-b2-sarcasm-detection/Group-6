{
 "cells": [
  {
   "cell_type": "markdown",
   "id": "51f04e5f",
   "metadata": {},
   "source": [
    "## DATA CLEANING"
   ]
  },
  {
   "cell_type": "markdown",
   "id": "b8f42284",
   "metadata": {},
   "source": [
    "                                                Summary of Data Cleaning \n",
    "Data cleaning is the process of correcting or removing incorrect, corrupted, incorrectly formatted, duplicate, or incomplete data from a dataset. This step is crucial for ensuring the accuracy and reliability of your project's outcomes and analyses. Here's a general framework for cleaning your data:\n",
    "\n",
    "Remove Duplicate or Irrelevant Observations: \n",
    "      Identify and eliminate duplicate entries and any data points that are not relevant to your project's focus. This step helps to streamline your dataset, making it more manageable and focused.\n",
    "\n",
    "Fix Structural Errors: \n",
    "    Correct inconsistencies such as strange naming conventions, typos, and incorrect capitalization. Standardizing these elements helps ensure your data is consistent and accurately labeled.\n",
    "\n",
    "Filter Unwanted Outliers: \n",
    "    Look for data points that do not fit with the rest of your data. Determine if these outliers are errors or legitimate observations. If they are mistakes or irrelevant, consider removing them to improve your analysis.\n",
    "\n",
    "Handle Missing Data: \n",
    "    Address missing values by either:\n",
    "    Removing observations with missing data, though this can lead to loss of information.\n",
    "    Imputing missing values based on other observations, which involves making educated guesses that might introduce some assumptions.\n",
    "    Adjusting your analysis to work around the missing data without imputing or removing it.\n",
    "\n",
    "Validate and QA: After cleaning your data, check to ensure:\n",
    "The data makes sense and follows the appropriate rules.\n",
    "    It supports or challenges your initial hypotheses.\n",
    "    It reveals any trends or insights relevant to your project.\n",
    "    If any issues arise, determine if they are due to data quality problems."
   ]
  },
  {
   "cell_type": "code",
   "execution_count": 1,
   "id": "dd7693cf",
   "metadata": {},
   "outputs": [],
   "source": [
    "import pandas as pd\n",
    "import matplotlib.pyplot as plt"
   ]
  },
  {
   "cell_type": "code",
   "execution_count": 2,
   "id": "21ff8239",
   "metadata": {},
   "outputs": [
    {
     "data": {
      "text/html": [
       "<div>\n",
       "<style scoped>\n",
       "    .dataframe tbody tr th:only-of-type {\n",
       "        vertical-align: middle;\n",
       "    }\n",
       "\n",
       "    .dataframe tbody tr th {\n",
       "        vertical-align: top;\n",
       "    }\n",
       "\n",
       "    .dataframe thead th {\n",
       "        text-align: right;\n",
       "    }\n",
       "</style>\n",
       "<table border=\"1\" class=\"dataframe\">\n",
       "  <thead>\n",
       "    <tr style=\"text-align: right;\">\n",
       "      <th></th>\n",
       "      <th>Review</th>\n",
       "      <th>Sentiment</th>\n",
       "      <th>Sarcasm</th>\n",
       "    </tr>\n",
       "  </thead>\n",
       "  <tbody>\n",
       "    <tr>\n",
       "      <th>0</th>\n",
       "      <td>One of the other reviewers has mentioned that ...</td>\n",
       "      <td>Positive</td>\n",
       "      <td>Non-Sarcastic</td>\n",
       "    </tr>\n",
       "    <tr>\n",
       "      <th>1</th>\n",
       "      <td>A wonderful little production. &lt;br /&gt;&lt;br /&gt;The...</td>\n",
       "      <td>Positive</td>\n",
       "      <td>Non-Sarcastic</td>\n",
       "    </tr>\n",
       "    <tr>\n",
       "      <th>2</th>\n",
       "      <td>This movie was a groundbreaking experience!&lt;br...</td>\n",
       "      <td>Positive</td>\n",
       "      <td>Sarcastic</td>\n",
       "    </tr>\n",
       "    <tr>\n",
       "      <th>3</th>\n",
       "      <td>I thought this was a wonderful way to spend ti...</td>\n",
       "      <td>Positive</td>\n",
       "      <td>Non-Sarcastic</td>\n",
       "    </tr>\n",
       "    <tr>\n",
       "      <th>4</th>\n",
       "      <td>Basically there's a family where a little boy ...</td>\n",
       "      <td>Negative</td>\n",
       "      <td>Sarcastic</td>\n",
       "    </tr>\n",
       "    <tr>\n",
       "      <th>...</th>\n",
       "      <td>...</td>\n",
       "      <td>...</td>\n",
       "      <td>...</td>\n",
       "    </tr>\n",
       "    <tr>\n",
       "      <th>6539</th>\n",
       "      <td>This movie's idea of character development is ...</td>\n",
       "      <td>Negative</td>\n",
       "      <td>Sarcastic</td>\n",
       "    </tr>\n",
       "    <tr>\n",
       "      <th>6540</th>\n",
       "      <td>I guess they ran out of budget for a decent sc...</td>\n",
       "      <td>Negative</td>\n",
       "      <td>Sarcastic</td>\n",
       "    </tr>\n",
       "    <tr>\n",
       "      <th>6541</th>\n",
       "      <td>Who needs a plot when you have explosions ever...</td>\n",
       "      <td>Negative</td>\n",
       "      <td>Sarcastic</td>\n",
       "    </tr>\n",
       "    <tr>\n",
       "      <th>6542</th>\n",
       "      <td>Is there an award for most generic action movi...</td>\n",
       "      <td>Negative</td>\n",
       "      <td>Sarcastic</td>\n",
       "    </tr>\n",
       "    <tr>\n",
       "      <th>6543</th>\n",
       "      <td>Two hours of non-stop, mind-numbing action.</td>\n",
       "      <td>Negative</td>\n",
       "      <td>Sarcastic</td>\n",
       "    </tr>\n",
       "  </tbody>\n",
       "</table>\n",
       "<p>6544 rows × 3 columns</p>\n",
       "</div>"
      ],
      "text/plain": [
       "                                                 Review Sentiment  \\\n",
       "0     One of the other reviewers has mentioned that ...  Positive   \n",
       "1     A wonderful little production. <br /><br />The...  Positive   \n",
       "2     This movie was a groundbreaking experience!<br...  Positive   \n",
       "3     I thought this was a wonderful way to spend ti...  Positive   \n",
       "4     Basically there's a family where a little boy ...  Negative   \n",
       "...                                                 ...       ...   \n",
       "6539  This movie's idea of character development is ...  Negative   \n",
       "6540  I guess they ran out of budget for a decent sc...  Negative   \n",
       "6541  Who needs a plot when you have explosions ever...  Negative   \n",
       "6542  Is there an award for most generic action movi...  Negative   \n",
       "6543        Two hours of non-stop, mind-numbing action.  Negative   \n",
       "\n",
       "            Sarcasm  \n",
       "0     Non-Sarcastic  \n",
       "1     Non-Sarcastic  \n",
       "2         Sarcastic  \n",
       "3     Non-Sarcastic  \n",
       "4         Sarcastic  \n",
       "...             ...  \n",
       "6539      Sarcastic  \n",
       "6540      Sarcastic  \n",
       "6541      Sarcastic  \n",
       "6542      Sarcastic  \n",
       "6543      Sarcastic  \n",
       "\n",
       "[6544 rows x 3 columns]"
      ]
     },
     "execution_count": 2,
     "metadata": {},
     "output_type": "execute_result"
    }
   ],
   "source": [
    "# Importing the dataset excel sheet\n",
    "df = pd.read_excel('Movie sarcasm Final Dataset.xlsx')\n",
    "df"
   ]
  },
  {
   "cell_type": "code",
   "execution_count": 3,
   "id": "0efdcecd",
   "metadata": {},
   "outputs": [
    {
     "name": "stdout",
     "output_type": "stream",
     "text": [
      "no.of datapoints 6544\n"
     ]
    }
   ],
   "source": [
    "# The size of the dataset \n",
    "df.shape\n",
    "rows=df.shape[0]\n",
    "print(f\"no.of datapoints {rows}\")"
   ]
  },
  {
   "cell_type": "markdown",
   "id": "425bd6f6",
   "metadata": {},
   "source": [
    "## working on labels columns"
   ]
  },
  {
   "cell_type": "code",
   "execution_count": 4,
   "id": "8bed3806",
   "metadata": {},
   "outputs": [],
   "source": [
    "df[['Sarcasm', 'Sentiment']]\n",
    "df['Sarcasm'] = df['Sarcasm'].str.lower()\n",
    "df['Sentiment'] = df['Sentiment'].str.lower()"
   ]
  },
  {
   "cell_type": "code",
   "execution_count": 5,
   "id": "6a8947a0",
   "metadata": {},
   "outputs": [
    {
     "data": {
      "text/html": [
       "<div>\n",
       "<style scoped>\n",
       "    .dataframe tbody tr th:only-of-type {\n",
       "        vertical-align: middle;\n",
       "    }\n",
       "\n",
       "    .dataframe tbody tr th {\n",
       "        vertical-align: top;\n",
       "    }\n",
       "\n",
       "    .dataframe thead th {\n",
       "        text-align: right;\n",
       "    }\n",
       "</style>\n",
       "<table border=\"1\" class=\"dataframe\">\n",
       "  <thead>\n",
       "    <tr style=\"text-align: right;\">\n",
       "      <th></th>\n",
       "      <th>Sarcasm</th>\n",
       "      <th>Sentiment</th>\n",
       "    </tr>\n",
       "  </thead>\n",
       "  <tbody>\n",
       "    <tr>\n",
       "      <th>0</th>\n",
       "      <td>non-sarcastic</td>\n",
       "      <td>positive</td>\n",
       "    </tr>\n",
       "    <tr>\n",
       "      <th>1</th>\n",
       "      <td>non-sarcastic</td>\n",
       "      <td>positive</td>\n",
       "    </tr>\n",
       "    <tr>\n",
       "      <th>2</th>\n",
       "      <td>sarcastic</td>\n",
       "      <td>positive</td>\n",
       "    </tr>\n",
       "    <tr>\n",
       "      <th>3</th>\n",
       "      <td>non-sarcastic</td>\n",
       "      <td>positive</td>\n",
       "    </tr>\n",
       "    <tr>\n",
       "      <th>4</th>\n",
       "      <td>sarcastic</td>\n",
       "      <td>negative</td>\n",
       "    </tr>\n",
       "    <tr>\n",
       "      <th>...</th>\n",
       "      <td>...</td>\n",
       "      <td>...</td>\n",
       "    </tr>\n",
       "    <tr>\n",
       "      <th>6539</th>\n",
       "      <td>sarcastic</td>\n",
       "      <td>negative</td>\n",
       "    </tr>\n",
       "    <tr>\n",
       "      <th>6540</th>\n",
       "      <td>sarcastic</td>\n",
       "      <td>negative</td>\n",
       "    </tr>\n",
       "    <tr>\n",
       "      <th>6541</th>\n",
       "      <td>sarcastic</td>\n",
       "      <td>negative</td>\n",
       "    </tr>\n",
       "    <tr>\n",
       "      <th>6542</th>\n",
       "      <td>sarcastic</td>\n",
       "      <td>negative</td>\n",
       "    </tr>\n",
       "    <tr>\n",
       "      <th>6543</th>\n",
       "      <td>sarcastic</td>\n",
       "      <td>negative</td>\n",
       "    </tr>\n",
       "  </tbody>\n",
       "</table>\n",
       "<p>6544 rows × 2 columns</p>\n",
       "</div>"
      ],
      "text/plain": [
       "            Sarcasm Sentiment\n",
       "0     non-sarcastic  positive\n",
       "1     non-sarcastic  positive\n",
       "2         sarcastic  positive\n",
       "3     non-sarcastic  positive\n",
       "4         sarcastic  negative\n",
       "...             ...       ...\n",
       "6539      sarcastic  negative\n",
       "6540      sarcastic  negative\n",
       "6541      sarcastic  negative\n",
       "6542      sarcastic  negative\n",
       "6543      sarcastic  negative\n",
       "\n",
       "[6544 rows x 2 columns]"
      ]
     },
     "execution_count": 5,
     "metadata": {},
     "output_type": "execute_result"
    }
   ],
   "source": [
    "(df[['Sarcasm', 'Sentiment']])"
   ]
  },
  {
   "cell_type": "code",
   "execution_count": 6,
   "id": "13a15223",
   "metadata": {},
   "outputs": [
    {
     "data": {
      "text/plain": [
       "0       non-sarcastic\n",
       "1       non-sarcastic\n",
       "2           sarcastic\n",
       "3       non-sarcastic\n",
       "4           sarcastic\n",
       "            ...      \n",
       "6539        sarcastic\n",
       "6540        sarcastic\n",
       "6541        sarcastic\n",
       "6542        sarcastic\n",
       "6543        sarcastic\n",
       "Name: Sarcasm, Length: 6544, dtype: object"
      ]
     },
     "execution_count": 6,
     "metadata": {},
     "output_type": "execute_result"
    }
   ],
   "source": [
    "# replacing all the labels to sarcastic and not sarcastic\n",
    "df['Sarcasm'] = df['Sarcasm'].replace({\n",
    "    'sarcasm': 'sarcastic',\n",
    "    'saracstic': 'sarcastic',\n",
    "    'not sarcasm': 'not sarcastic'\n",
    "})\n",
    "df.Sarcasm"
   ]
  },
  {
   "cell_type": "markdown",
   "id": "dc5e7e6e",
   "metadata": {},
   "source": [
    "## removing the duplicate reviews in the dataset"
   ]
  },
  {
   "cell_type": "code",
   "execution_count": 7,
   "id": "1e166ca4",
   "metadata": {},
   "outputs": [
    {
     "name": "stdout",
     "output_type": "stream",
     "text": [
      "no.of rows dropped 34\n",
      "(6510, 3)\n"
     ]
    }
   ],
   "source": [
    "df = df.drop_duplicates(subset='Review' , keep ='first')\n",
    "df\n",
    "finalrows = df.shape[0]\n",
    "print(f\"no.of rows dropped {rows-finalrows}\") \n",
    "print(df.shape)"
   ]
  },
  {
   "cell_type": "markdown",
   "id": "97945dc7",
   "metadata": {},
   "source": [
    "## analysis on dataset "
   ]
  },
  {
   "cell_type": "code",
   "execution_count": 14,
   "id": "2fc61707",
   "metadata": {},
   "outputs": [
    {
     "name": "stdout",
     "output_type": "stream",
     "text": [
      "Number of sarcastic labels: 3517\n",
      "Number of not sarcastic labels: 2039\n",
      "Number of positive reviews: 2306\n",
      "Number of negative reviews: 4187\n"
     ]
    }
   ],
   "source": [
    "# analysis on no.of reviews on each category\n",
    "sarcastic_reviews = df['Sarcasm'].value_counts().get('sarcastic', 0)\n",
    "not_sarcastic_reviews = df['Sarcasm'].value_counts().get('not sarcastic', 0)\n",
    "\n",
    "print(f\"Number of sarcastic labels: {sarcastic_reviews}\")\n",
    "print(f\"Number of not sarcastic labels: {not_sarcastic_reviews}\")\n",
    "\n",
    "positive_reviews = df['Sentiment'].value_counts().get('positive', 0)\n",
    "negative_reviews = df['Sentiment'].value_counts().get('negative', 0)\n",
    "\n",
    "print(f\"Number of positive reviews: {positive_reviews}\")\n",
    "print(f\"Number of negative reviews: {negative_reviews}\")\n"
   ]
  },
  {
   "cell_type": "code",
   "execution_count": 9,
   "id": "8c988420",
   "metadata": {},
   "outputs": [
    {
     "name": "stdout",
     "output_type": "stream",
     "text": [
      "Percentage of reviews:\n",
      "Sarcastic and Positive: 5.3%\n",
      "Sarcastic and Negative: 48.5%\n",
      "Not Sarcastic and Positive: 18.7%\n",
      "Not Sarcastic and Negative: 12.6%\n"
     ]
    },
    {
     "data": {
      "image/png": "[encoded data removed]",
      "text/plain": [
       "<Figure size 800x800 with 1 Axes>"
      ]
     },
     "metadata": {},
     "output_type": "display_data"
    }
   ],
   "source": [
    "# calculating the percentages of different categories\n",
    "# categories considered 1)positive_sarcastic 2)negative_sarcastic 3)positive_non_sarcastic 4)negative_non_sarcastic\n",
    "\n",
    "# Calculate percentages\n",
    "total_reviews = len(df)\n",
    "sarcastic_positive_percentage = (df[(df['Sarcasm'] == 'sarcastic') & (df['Sentiment'] == 'positive')].shape[0] / total_reviews) * 100\n",
    "sarcastic_negative_percentage = (df[(df['Sarcasm'] == 'sarcastic') & (df['Sentiment'] == 'negative')].shape[0] / total_reviews) * 100\n",
    "non_sarcastic_positive_percentage = (df[(df['Sarcasm'] == 'not sarcastic') & (df['Sentiment'] == 'positive')].shape[0] / total_reviews) * 100\n",
    "non_sarcastic_negative_percentage = (df[(df['Sarcasm'] == 'not sarcastic') & (df['Sentiment'] == 'negative')].shape[0] / total_reviews) * 100\n",
    "\n",
    "# Print the percentages\n",
    "print(\"Percentage of reviews:\")\n",
    "print(f\"Sarcastic and Positive: {sarcastic_positive_percentage:.1f}%\")\n",
    "print(f\"Sarcastic and Negative: {sarcastic_negative_percentage:.1f}%\")\n",
    "print(f\"Not Sarcastic and Positive: {non_sarcastic_positive_percentage:.1f}%\")\n",
    "print(f\"Not Sarcastic and Negative: {non_sarcastic_negative_percentage:.1f}%\")\n",
    "\n",
    "# Plot the pie chart\n",
    "labels = ['Sarcastic and Positive', 'Sarcastic and Negative', 'Not Sarcastic and Positive', 'Not Sarcastic and Negative']\n",
    "sizes = [sarcastic_positive_percentage, sarcastic_negative_percentage, non_sarcastic_positive_percentage, non_sarcastic_negative_percentage]\n",
    "\n",
    "plt.figure(figsize=(8, 8))\n",
    "plt.pie(sizes, labels=labels, autopct='%1.1f%%', startangle=90)\n",
    "plt.title('Percentage of Each Combined Category')\n",
    "plt.show()\n"
   ]
  },
  {
   "cell_type": "code",
   "execution_count": 10,
   "id": "5294d758",
   "metadata": {},
   "outputs": [
    {
     "data": {
      "text/plain": [
       "655.8513056835637"
      ]
     },
     "execution_count": 10,
     "metadata": {},
     "output_type": "execute_result"
    }
   ],
   "source": [
    "# finding the average length of review in the dataset\n",
    "avg_length = df['Review'].str.len().mean()\n",
    "avg_length"
   ]
  },
  {
   "cell_type": "markdown",
   "id": "139baa10",
   "metadata": {},
   "source": [
    "## cleaning the reviews section"
   ]
  },
  {
   "cell_type": "markdown",
   "id": "a2cd8306",
   "metadata": {},
   "source": [
    "removing the punctuation marks except ! ' . "
   ]
  },
  {
   "cell_type": "code",
   "execution_count": 11,
   "id": "87a4d11d",
   "metadata": {},
   "outputs": [
    {
     "name": "stderr",
     "output_type": "stream",
     "text": [
      "C:\\Users\\LENOVO\\AppData\\Local\\Temp\\ipykernel_11328\\3466637572.py:10: SettingWithCopyWarning: \n",
      "A value is trying to be set on a copy of a slice from a DataFrame.\n",
      "Try using .loc[row_indexer,col_indexer] = value instead\n",
      "\n",
      "See the caveats in the documentation: https://pandas.pydata.org/pandas-docs/stable/user_guide/indexing.html#returning-a-view-versus-a-copy\n",
      "  df['cleaned_data'] = df['Review'].apply(remove_punctuation)\n"
     ]
    },
    {
     "data": {
      "text/plain": [
       "0       One of the other reviewers has mentioned that ...\n",
       "1       A wonderful little production. br br The filmi...\n",
       "2       This movie was a groundbreaking experience!br ...\n",
       "3       I thought this was a wonderful way to spend ti...\n",
       "4       Basically theres a family where a little boy J...\n",
       "                              ...                        \n",
       "6539    This movies idea of character development is m...\n",
       "6540    I guess they ran out of budget for a decent sc...\n",
       "6541    Who needs a plot when you have explosions ever...\n",
       "6542    Is there an award for most generic action movi...\n",
       "6543             Two hours of nonstop mindnumbing action.\n",
       "Name: cleaned_data, Length: 6510, dtype: object"
      ]
     },
     "execution_count": 11,
     "metadata": {},
     "output_type": "execute_result"
    }
   ],
   "source": [
    "import string\n",
    "def remove_punctuation(text):\n",
    "    # Define the punctuation marks to keep\n",
    "    keep = ['?', '!', '.',]\n",
    "    punctuation_to_remove = ''.join(p for p in string.punctuation if p not in keep)\n",
    "    translation_table = str.maketrans('', '', punctuation_to_remove)\n",
    "    return text.translate(translation_table)\n",
    "\n",
    "# Apply the function to the 'cleaned_data' column\n",
    "df['cleaned_data'] = df['Review'].apply(remove_punctuation)\n",
    "df.cleaned_data"
   ]
  },
  {
   "cell_type": "code",
   "execution_count": 12,
   "id": "52a15c7d",
   "metadata": {},
   "outputs": [
    {
     "data": {
      "text/html": [
       "<div>\n",
       "<style scoped>\n",
       "    .dataframe tbody tr th:only-of-type {\n",
       "        vertical-align: middle;\n",
       "    }\n",
       "\n",
       "    .dataframe tbody tr th {\n",
       "        vertical-align: top;\n",
       "    }\n",
       "\n",
       "    .dataframe thead th {\n",
       "        text-align: right;\n",
       "    }\n",
       "</style>\n",
       "<table border=\"1\" class=\"dataframe\">\n",
       "  <thead>\n",
       "    <tr style=\"text-align: right;\">\n",
       "      <th></th>\n",
       "      <th>Review</th>\n",
       "      <th>Sentiment</th>\n",
       "      <th>Sarcasm</th>\n",
       "      <th>cleaned_data</th>\n",
       "    </tr>\n",
       "  </thead>\n",
       "  <tbody>\n",
       "    <tr>\n",
       "      <th>0</th>\n",
       "      <td>One of the other reviewers has mentioned that ...</td>\n",
       "      <td>positive</td>\n",
       "      <td>non-sarcastic</td>\n",
       "      <td>One of the other reviewers has mentioned that ...</td>\n",
       "    </tr>\n",
       "    <tr>\n",
       "      <th>1</th>\n",
       "      <td>A wonderful little production. &lt;br /&gt;&lt;br /&gt;The...</td>\n",
       "      <td>positive</td>\n",
       "      <td>non-sarcastic</td>\n",
       "      <td>A wonderful little production. br br The filmi...</td>\n",
       "    </tr>\n",
       "    <tr>\n",
       "      <th>2</th>\n",
       "      <td>This movie was a groundbreaking experience!&lt;br...</td>\n",
       "      <td>positive</td>\n",
       "      <td>sarcastic</td>\n",
       "      <td>This movie was a groundbreaking experience!br ...</td>\n",
       "    </tr>\n",
       "    <tr>\n",
       "      <th>3</th>\n",
       "      <td>I thought this was a wonderful way to spend ti...</td>\n",
       "      <td>positive</td>\n",
       "      <td>non-sarcastic</td>\n",
       "      <td>I thought this was a wonderful way to spend ti...</td>\n",
       "    </tr>\n",
       "    <tr>\n",
       "      <th>4</th>\n",
       "      <td>Basically there's a family where a little boy ...</td>\n",
       "      <td>negative</td>\n",
       "      <td>sarcastic</td>\n",
       "      <td>Basically theres a family where a little boy J...</td>\n",
       "    </tr>\n",
       "    <tr>\n",
       "      <th>...</th>\n",
       "      <td>...</td>\n",
       "      <td>...</td>\n",
       "      <td>...</td>\n",
       "      <td>...</td>\n",
       "    </tr>\n",
       "    <tr>\n",
       "      <th>6539</th>\n",
       "      <td>This movie's idea of character development is ...</td>\n",
       "      <td>negative</td>\n",
       "      <td>sarcastic</td>\n",
       "      <td>This movies idea of character development is m...</td>\n",
       "    </tr>\n",
       "    <tr>\n",
       "      <th>6540</th>\n",
       "      <td>I guess they ran out of budget for a decent sc...</td>\n",
       "      <td>negative</td>\n",
       "      <td>sarcastic</td>\n",
       "      <td>I guess they ran out of budget for a decent sc...</td>\n",
       "    </tr>\n",
       "    <tr>\n",
       "      <th>6541</th>\n",
       "      <td>Who needs a plot when you have explosions ever...</td>\n",
       "      <td>negative</td>\n",
       "      <td>sarcastic</td>\n",
       "      <td>Who needs a plot when you have explosions ever...</td>\n",
       "    </tr>\n",
       "    <tr>\n",
       "      <th>6542</th>\n",
       "      <td>Is there an award for most generic action movi...</td>\n",
       "      <td>negative</td>\n",
       "      <td>sarcastic</td>\n",
       "      <td>Is there an award for most generic action movi...</td>\n",
       "    </tr>\n",
       "    <tr>\n",
       "      <th>6543</th>\n",
       "      <td>Two hours of non-stop, mind-numbing action.</td>\n",
       "      <td>negative</td>\n",
       "      <td>sarcastic</td>\n",
       "      <td>Two hours of nonstop mindnumbing action.</td>\n",
       "    </tr>\n",
       "  </tbody>\n",
       "</table>\n",
       "<p>6510 rows × 4 columns</p>\n",
       "</div>"
      ],
      "text/plain": [
       "                                                 Review Sentiment  \\\n",
       "0     One of the other reviewers has mentioned that ...  positive   \n",
       "1     A wonderful little production. <br /><br />The...  positive   \n",
       "2     This movie was a groundbreaking experience!<br...  positive   \n",
       "3     I thought this was a wonderful way to spend ti...  positive   \n",
       "4     Basically there's a family where a little boy ...  negative   \n",
       "...                                                 ...       ...   \n",
       "6539  This movie's idea of character development is ...  negative   \n",
       "6540  I guess they ran out of budget for a decent sc...  negative   \n",
       "6541  Who needs a plot when you have explosions ever...  negative   \n",
       "6542  Is there an award for most generic action movi...  negative   \n",
       "6543        Two hours of non-stop, mind-numbing action.  negative   \n",
       "\n",
       "            Sarcasm                                       cleaned_data  \n",
       "0     non-sarcastic  One of the other reviewers has mentioned that ...  \n",
       "1     non-sarcastic  A wonderful little production. br br The filmi...  \n",
       "2         sarcastic  This movie was a groundbreaking experience!br ...  \n",
       "3     non-sarcastic  I thought this was a wonderful way to spend ti...  \n",
       "4         sarcastic  Basically theres a family where a little boy J...  \n",
       "...             ...                                                ...  \n",
       "6539      sarcastic  This movies idea of character development is m...  \n",
       "6540      sarcastic  I guess they ran out of budget for a decent sc...  \n",
       "6541      sarcastic  Who needs a plot when you have explosions ever...  \n",
       "6542      sarcastic  Is there an award for most generic action movi...  \n",
       "6543      sarcastic           Two hours of nonstop mindnumbing action.  \n",
       "\n",
       "[6510 rows x 4 columns]"
      ]
     },
     "execution_count": 12,
     "metadata": {},
     "output_type": "execute_result"
    }
   ],
   "source": [
    "df"
   ]
  },
  {
   "cell_type": "markdown",
   "id": "a5e281fc",
   "metadata": {},
   "source": [
    "creating the excel sheet with cleaned dataset"
   ]
  },
  {
   "cell_type": "code",
   "execution_count": 13,
   "id": "48dcda95",
   "metadata": {},
   "outputs": [
    {
     "data": {
      "text/html": [
       "<div>\n",
       "<style scoped>\n",
       "    .dataframe tbody tr th:only-of-type {\n",
       "        vertical-align: middle;\n",
       "    }\n",
       "\n",
       "    .dataframe tbody tr th {\n",
       "        vertical-align: top;\n",
       "    }\n",
       "\n",
       "    .dataframe thead th {\n",
       "        text-align: right;\n",
       "    }\n",
       "</style>\n",
       "<table border=\"1\" class=\"dataframe\">\n",
       "  <thead>\n",
       "    <tr style=\"text-align: right;\">\n",
       "      <th></th>\n",
       "      <th>cleaned_data</th>\n",
       "      <th>Sentiment</th>\n",
       "      <th>Sarcasm</th>\n",
       "    </tr>\n",
       "  </thead>\n",
       "  <tbody>\n",
       "    <tr>\n",
       "      <th>0</th>\n",
       "      <td>One of the other reviewers has mentioned that ...</td>\n",
       "      <td>positive</td>\n",
       "      <td>non-sarcastic</td>\n",
       "    </tr>\n",
       "    <tr>\n",
       "      <th>1</th>\n",
       "      <td>A wonderful little production. br br The filmi...</td>\n",
       "      <td>positive</td>\n",
       "      <td>non-sarcastic</td>\n",
       "    </tr>\n",
       "    <tr>\n",
       "      <th>2</th>\n",
       "      <td>This movie was a groundbreaking experience!br ...</td>\n",
       "      <td>positive</td>\n",
       "      <td>sarcastic</td>\n",
       "    </tr>\n",
       "    <tr>\n",
       "      <th>3</th>\n",
       "      <td>I thought this was a wonderful way to spend ti...</td>\n",
       "      <td>positive</td>\n",
       "      <td>non-sarcastic</td>\n",
       "    </tr>\n",
       "    <tr>\n",
       "      <th>4</th>\n",
       "      <td>Basically theres a family where a little boy J...</td>\n",
       "      <td>negative</td>\n",
       "      <td>sarcastic</td>\n",
       "    </tr>\n",
       "    <tr>\n",
       "      <th>...</th>\n",
       "      <td>...</td>\n",
       "      <td>...</td>\n",
       "      <td>...</td>\n",
       "    </tr>\n",
       "    <tr>\n",
       "      <th>6539</th>\n",
       "      <td>This movies idea of character development is m...</td>\n",
       "      <td>negative</td>\n",
       "      <td>sarcastic</td>\n",
       "    </tr>\n",
       "    <tr>\n",
       "      <th>6540</th>\n",
       "      <td>I guess they ran out of budget for a decent sc...</td>\n",
       "      <td>negative</td>\n",
       "      <td>sarcastic</td>\n",
       "    </tr>\n",
       "    <tr>\n",
       "      <th>6541</th>\n",
       "      <td>Who needs a plot when you have explosions ever...</td>\n",
       "      <td>negative</td>\n",
       "      <td>sarcastic</td>\n",
       "    </tr>\n",
       "    <tr>\n",
       "      <th>6542</th>\n",
       "      <td>Is there an award for most generic action movi...</td>\n",
       "      <td>negative</td>\n",
       "      <td>sarcastic</td>\n",
       "    </tr>\n",
       "    <tr>\n",
       "      <th>6543</th>\n",
       "      <td>Two hours of nonstop mindnumbing action.</td>\n",
       "      <td>negative</td>\n",
       "      <td>sarcastic</td>\n",
       "    </tr>\n",
       "  </tbody>\n",
       "</table>\n",
       "<p>6510 rows × 3 columns</p>\n",
       "</div>"
      ],
      "text/plain": [
       "                                           cleaned_data Sentiment  \\\n",
       "0     One of the other reviewers has mentioned that ...  positive   \n",
       "1     A wonderful little production. br br The filmi...  positive   \n",
       "2     This movie was a groundbreaking experience!br ...  positive   \n",
       "3     I thought this was a wonderful way to spend ti...  positive   \n",
       "4     Basically theres a family where a little boy J...  negative   \n",
       "...                                                 ...       ...   \n",
       "6539  This movies idea of character development is m...  negative   \n",
       "6540  I guess they ran out of budget for a decent sc...  negative   \n",
       "6541  Who needs a plot when you have explosions ever...  negative   \n",
       "6542  Is there an award for most generic action movi...  negative   \n",
       "6543           Two hours of nonstop mindnumbing action.  negative   \n",
       "\n",
       "            Sarcasm  \n",
       "0     non-sarcastic  \n",
       "1     non-sarcastic  \n",
       "2         sarcastic  \n",
       "3     non-sarcastic  \n",
       "4         sarcastic  \n",
       "...             ...  \n",
       "6539      sarcastic  \n",
       "6540      sarcastic  \n",
       "6541      sarcastic  \n",
       "6542      sarcastic  \n",
       "6543      sarcastic  \n",
       "\n",
       "[6510 rows x 3 columns]"
      ]
     },
     "execution_count": 13,
     "metadata": {},
     "output_type": "execute_result"
    }
   ],
   "source": [
    "df_new = pd.read_excel('Cleaned_Dataset.xlsx')\n",
    "df_new['cleaned_data'] = df['cleaned_data']\n",
    "df_new['Sentiment'] = df['Sentiment']\n",
    "df_new['Sarcasm'] = df['Sarcasm']\n",
    "df_new.to_excel('Cleaned new Dataset.xlsx', index=False)\n",
    "df_new"
   ]
  },
  {
   "cell_type": "code",
   "execution_count": null,
   "id": "7c60ecf1",
   "metadata": {},
   "outputs": [],
   "source": []
  }
 ],
 "metadata": {
  "kernelspec": {
   "display_name": "Python 3 (ipykernel)",
   "language": "python",
   "name": "python3"
  },
  "language_info": {
   "codemirror_mode": {
    "name": "ipython",
    "version": 3
   },
   "file_extension": ".py",
   "mimetype": "text/x-python",
   "name": "python",
   "nbconvert_exporter": "python",
   "pygments_lexer": "ipython3",
   "version": "3.11.5"
  }
 },
 "nbformat": 4,
 "nbformat_minor": 5
}
