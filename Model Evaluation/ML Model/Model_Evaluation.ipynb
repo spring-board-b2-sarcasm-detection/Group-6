{
  "nbformat": 4,
  "nbformat_minor": 0,
  "metadata": {
    "colab": {
      "provenance": []
    },
    "kernelspec": {
      "name": "python3",
      "display_name": "Python 3"
    },
    "language_info": {
      "name": "python"
    }
  },
  "cells": [
    {
      "cell_type": "markdown",
      "source": [
        "## Sarcasm Detection in Movie Review (Model Evaluation)\n",
        "In this code snippet , we will perform model evaluation on a various Machine Learning Models and Deep Learning Models. We will start by importing the necessary libraries and loading the dataset. We will split the dataset into training and testing sets to train our models and evaluate its performance on unseen data.\n",
        "\n",
        "Next, we will train models using the training data. After training the model, we will evaluate its performance using several common evaluation metrics such as accuracy, precision, recall, and the F1 score. Additionally, we will use cross-validation to ensure the robustness of our models.\n",
        "\n",
        "**Traditional Machine Learning Models** <br>\n",
        "\n",
        "1. Random Forest Classifier\n",
        "2. Support Vector Machine (SVM)\n",
        "\n",
        "**Deep Learning Models using TensorFlow/Keras** <br>\n",
        "\n",
        "1. Simple Neural Network (Feedforward)"
      ],
      "metadata": {
        "id": "LBdiT71uuasH"
      }
    },
    {
      "cell_type": "markdown",
      "source": [
        "### Step 1: Loading the Vectorize Data\n",
        "\n",
        "we will evaluate a Machine learning and Deep Learning Models using vectorized data. We will start by importing the necessary libraries and loading a vectorized dataset."
      ],
      "metadata": {
        "id": "dmy_FQe-YBj8"
      }
    },
    {
      "cell_type": "code",
      "source": [
        "# Mount Google Drive\n",
        "from google.colab import drive\n",
        "drive.mount('/content/drive')"
      ],
      "metadata": {
        "colab": {
          "base_uri": "https://localhost:8080/"
        },
        "id": "TTTOV7d_ubc9",
        "outputId": "077dcb63-e397-4b08-99a7-413a90d61ba5"
      },
      "execution_count": 1,
      "outputs": [
        {
          "output_type": "stream",
          "name": "stdout",
          "text": [
            "Mounted at /content/drive\n"
          ]
        }
      ]
    },
    {
      "cell_type": "code",
      "source": [
        "# File path\n",
        "file_path = '/content/drive/MyDrive/IMBD/Vector_dataset.csv'"
      ],
      "metadata": {
        "id": "gxcJc-Qsuy46"
      },
      "execution_count": 2,
      "outputs": []
    },
    {
      "cell_type": "code",
      "source": [
        "# Read CSV file\n",
        "import pandas as pd\n",
        "df = pd.read_csv(file_path)"
      ],
      "metadata": {
        "id": "UA_LpIK3u2mC"
      },
      "execution_count": 3,
      "outputs": []
    },
    {
      "cell_type": "code",
      "source": [
        "# Display the first 5 rows of data\n",
        "df.head()"
      ],
      "metadata": {
        "colab": {
          "base_uri": "https://localhost:8080/",
          "height": 397
        },
        "id": "mkaoDndSu-l7",
        "outputId": "3c190a7b-3ae3-45c6-abb5-06c086a7704d"
      },
      "execution_count": 4,
      "outputs": [
        {
          "output_type": "execute_result",
          "data": {
            "text/plain": [
              "                                              Review Sentiment        Sarcasm  \\\n",
              "0  One reviewers mentioned watching 1 Oz episode ...  positive  non-sarcastic   \n",
              "1  wonderful little production. filming technique...  positive  non-sarcastic   \n",
              "2  movie groundbreaking experience! I've never se...  positive      sarcastic   \n",
              "3  thought wonderful way spend time hot summer we...  positive  non-sarcastic   \n",
              "4  Basically there's family little boy (Jake) thi...  negative      sarcastic   \n",
              "\n",
              "                                   Lemmatized_Review  \\\n",
              "0  one reviewer mention watch 1 oz episode hook ....   \n",
              "1  wonderful little production . film technique u...   \n",
              "2  movie groundbreaking experience ! I have never...   \n",
              "3  think wonderful way spend time hot summer week...   \n",
              "4  basically there be family little boy ( Jake ) ...   \n",
              "\n",
              "                                    Tokenized_Review  Sentiment_Label  \\\n",
              "0  ['one', 'reviewer', 'mention', 'watch', '1', '...                2   \n",
              "1  ['wonderful', 'little', 'production', '.', 'fi...                2   \n",
              "2  ['movie', 'groundbreaking', 'experience', '!',...                2   \n",
              "3  ['think', 'wonderful', 'way', 'spend', 'time',...                2   \n",
              "4  ['basically', 'there', 'be', 'family', 'little...                0   \n",
              "\n",
              "   Sarcasm_Label                                    word2vec_vector  \n",
              "0              0  [-0.33703893  0.63750656  0.20848949  0.110051...  \n",
              "1              0  [-2.21933369e-01  6.40139948e-01  2.48385639e-...  \n",
              "2              1  [-7.50784083e-01  8.69618461e-01  6.57767776e-...  \n",
              "3              0  [-0.29578843  0.66404176  0.19095987  0.130039...  \n",
              "4              1  [-0.36713844  0.69574437  0.21454412  0.073285...  "
            ],
            "text/html": [
              "\n",
              "  <div id=\"df-77258210-3ec9-4f85-96a0-31e505206bdb\" class=\"colab-df-container\">\n",
              "    <div>\n",
              "<style scoped>\n",
              "    .dataframe tbody tr th:only-of-type {\n",
              "        vertical-align: middle;\n",
              "    }\n",
              "\n",
              "    .dataframe tbody tr th {\n",
              "        vertical-align: top;\n",
              "    }\n",
              "\n",
              "    .dataframe thead th {\n",
              "        text-align: right;\n",
              "    }\n",
              "</style>\n",
              "<table border=\"1\" class=\"dataframe\">\n",
              "  <thead>\n",
              "    <tr style=\"text-align: right;\">\n",
              "      <th></th>\n",
              "      <th>Review</th>\n",
              "      <th>Sentiment</th>\n",
              "      <th>Sarcasm</th>\n",
              "      <th>Lemmatized_Review</th>\n",
              "      <th>Tokenized_Review</th>\n",
              "      <th>Sentiment_Label</th>\n",
              "      <th>Sarcasm_Label</th>\n",
              "      <th>word2vec_vector</th>\n",
              "    </tr>\n",
              "  </thead>\n",
              "  <tbody>\n",
              "    <tr>\n",
              "      <th>0</th>\n",
              "      <td>One reviewers mentioned watching 1 Oz episode ...</td>\n",
              "      <td>positive</td>\n",
              "      <td>non-sarcastic</td>\n",
              "      <td>one reviewer mention watch 1 oz episode hook ....</td>\n",
              "      <td>['one', 'reviewer', 'mention', 'watch', '1', '...</td>\n",
              "      <td>2</td>\n",
              "      <td>0</td>\n",
              "      <td>[-0.33703893  0.63750656  0.20848949  0.110051...</td>\n",
              "    </tr>\n",
              "    <tr>\n",
              "      <th>1</th>\n",
              "      <td>wonderful little production. filming technique...</td>\n",
              "      <td>positive</td>\n",
              "      <td>non-sarcastic</td>\n",
              "      <td>wonderful little production . film technique u...</td>\n",
              "      <td>['wonderful', 'little', 'production', '.', 'fi...</td>\n",
              "      <td>2</td>\n",
              "      <td>0</td>\n",
              "      <td>[-2.21933369e-01  6.40139948e-01  2.48385639e-...</td>\n",
              "    </tr>\n",
              "    <tr>\n",
              "      <th>2</th>\n",
              "      <td>movie groundbreaking experience! I've never se...</td>\n",
              "      <td>positive</td>\n",
              "      <td>sarcastic</td>\n",
              "      <td>movie groundbreaking experience ! I have never...</td>\n",
              "      <td>['movie', 'groundbreaking', 'experience', '!',...</td>\n",
              "      <td>2</td>\n",
              "      <td>1</td>\n",
              "      <td>[-7.50784083e-01  8.69618461e-01  6.57767776e-...</td>\n",
              "    </tr>\n",
              "    <tr>\n",
              "      <th>3</th>\n",
              "      <td>thought wonderful way spend time hot summer we...</td>\n",
              "      <td>positive</td>\n",
              "      <td>non-sarcastic</td>\n",
              "      <td>think wonderful way spend time hot summer week...</td>\n",
              "      <td>['think', 'wonderful', 'way', 'spend', 'time',...</td>\n",
              "      <td>2</td>\n",
              "      <td>0</td>\n",
              "      <td>[-0.29578843  0.66404176  0.19095987  0.130039...</td>\n",
              "    </tr>\n",
              "    <tr>\n",
              "      <th>4</th>\n",
              "      <td>Basically there's family little boy (Jake) thi...</td>\n",
              "      <td>negative</td>\n",
              "      <td>sarcastic</td>\n",
              "      <td>basically there be family little boy ( Jake ) ...</td>\n",
              "      <td>['basically', 'there', 'be', 'family', 'little...</td>\n",
              "      <td>0</td>\n",
              "      <td>1</td>\n",
              "      <td>[-0.36713844  0.69574437  0.21454412  0.073285...</td>\n",
              "    </tr>\n",
              "  </tbody>\n",
              "</table>\n",
              "</div>\n",
              "    <div class=\"colab-df-buttons\">\n",
              "\n",
              "  <div class=\"colab-df-container\">\n",
              "    <button class=\"colab-df-convert\" onclick=\"convertToInteractive('df-77258210-3ec9-4f85-96a0-31e505206bdb')\"\n",
              "            title=\"Convert this dataframe to an interactive table.\"\n",
              "            style=\"display:none;\">\n",
              "\n",
              "  <svg xmlns=\"http://www.w3.org/2000/svg\" height=\"24px\" viewBox=\"0 -960 960 960\">\n",
              "    <path d=\"M120-120v-720h720v720H120Zm60-500h600v-160H180v160Zm220 220h160v-160H400v160Zm0 220h160v-160H400v160ZM180-400h160v-160H180v160Zm440 0h160v-160H620v160ZM180-180h160v-160H180v160Zm440 0h160v-160H620v160Z\"/>\n",
              "  </svg>\n",
              "    </button>\n",
              "\n",
              "  <style>\n",
              "    .colab-df-container {\n",
              "      display:flex;\n",
              "      gap: 12px;\n",
              "    }\n",
              "\n",
              "    .colab-df-convert {\n",
              "      background-color: #E8F0FE;\n",
              "      border: none;\n",
              "      border-radius: 50%;\n",
              "      cursor: pointer;\n",
              "      display: none;\n",
              "      fill: #1967D2;\n",
              "      height: 32px;\n",
              "      padding: 0 0 0 0;\n",
              "      width: 32px;\n",
              "    }\n",
              "\n",
              "    .colab-df-convert:hover {\n",
              "      background-color: #E2EBFA;\n",
              "      box-shadow: 0px 1px 2px rgba(60, 64, 67, 0.3), 0px 1px 3px 1px rgba(60, 64, 67, 0.15);\n",
              "      fill: #174EA6;\n",
              "    }\n",
              "\n",
              "    .colab-df-buttons div {\n",
              "      margin-bottom: 4px;\n",
              "    }\n",
              "\n",
              "    [theme=dark] .colab-df-convert {\n",
              "      background-color: #3B4455;\n",
              "      fill: #D2E3FC;\n",
              "    }\n",
              "\n",
              "    [theme=dark] .colab-df-convert:hover {\n",
              "      background-color: #434B5C;\n",
              "      box-shadow: 0px 1px 3px 1px rgba(0, 0, 0, 0.15);\n",
              "      filter: drop-shadow(0px 1px 2px rgba(0, 0, 0, 0.3));\n",
              "      fill: #FFFFFF;\n",
              "    }\n",
              "  </style>\n",
              "\n",
              "    <script>\n",
              "      const buttonEl =\n",
              "        document.querySelector('#df-77258210-3ec9-4f85-96a0-31e505206bdb button.colab-df-convert');\n",
              "      buttonEl.style.display =\n",
              "        google.colab.kernel.accessAllowed ? 'block' : 'none';\n",
              "\n",
              "      async function convertToInteractive(key) {\n",
              "        const element = document.querySelector('#df-77258210-3ec9-4f85-96a0-31e505206bdb');\n",
              "        const dataTable =\n",
              "          await google.colab.kernel.invokeFunction('convertToInteractive',\n",
              "                                                    [key], {});\n",
              "        if (!dataTable) return;\n",
              "\n",
              "        const docLinkHtml = 'Like what you see? Visit the ' +\n",
              "          '<a target=\"_blank\" href=https://colab.research.google.com/notebooks/data_table.ipynb>data table notebook</a>'\n",
              "          + ' to learn more about interactive tables.';\n",
              "        element.innerHTML = '';\n",
              "        dataTable['output_type'] = 'display_data';\n",
              "        await google.colab.output.renderOutput(dataTable, element);\n",
              "        const docLink = document.createElement('div');\n",
              "        docLink.innerHTML = docLinkHtml;\n",
              "        element.appendChild(docLink);\n",
              "      }\n",
              "    </script>\n",
              "  </div>\n",
              "\n",
              "\n",
              "<div id=\"df-1c4fe81b-ca08-4d33-9635-b543098db48d\">\n",
              "  <button class=\"colab-df-quickchart\" onclick=\"quickchart('df-1c4fe81b-ca08-4d33-9635-b543098db48d')\"\n",
              "            title=\"Suggest charts\"\n",
              "            style=\"display:none;\">\n",
              "\n",
              "<svg xmlns=\"http://www.w3.org/2000/svg\" height=\"24px\"viewBox=\"0 0 24 24\"\n",
              "     width=\"24px\">\n",
              "    <g>\n",
              "        <path d=\"M19 3H5c-1.1 0-2 .9-2 2v14c0 1.1.9 2 2 2h14c1.1 0 2-.9 2-2V5c0-1.1-.9-2-2-2zM9 17H7v-7h2v7zm4 0h-2V7h2v10zm4 0h-2v-4h2v4z\"/>\n",
              "    </g>\n",
              "</svg>\n",
              "  </button>\n",
              "\n",
              "<style>\n",
              "  .colab-df-quickchart {\n",
              "      --bg-color: #E8F0FE;\n",
              "      --fill-color: #1967D2;\n",
              "      --hover-bg-color: #E2EBFA;\n",
              "      --hover-fill-color: #174EA6;\n",
              "      --disabled-fill-color: #AAA;\n",
              "      --disabled-bg-color: #DDD;\n",
              "  }\n",
              "\n",
              "  [theme=dark] .colab-df-quickchart {\n",
              "      --bg-color: #3B4455;\n",
              "      --fill-color: #D2E3FC;\n",
              "      --hover-bg-color: #434B5C;\n",
              "      --hover-fill-color: #FFFFFF;\n",
              "      --disabled-bg-color: #3B4455;\n",
              "      --disabled-fill-color: #666;\n",
              "  }\n",
              "\n",
              "  .colab-df-quickchart {\n",
              "    background-color: var(--bg-color);\n",
              "    border: none;\n",
              "    border-radius: 50%;\n",
              "    cursor: pointer;\n",
              "    display: none;\n",
              "    fill: var(--fill-color);\n",
              "    height: 32px;\n",
              "    padding: 0;\n",
              "    width: 32px;\n",
              "  }\n",
              "\n",
              "  .colab-df-quickchart:hover {\n",
              "    background-color: var(--hover-bg-color);\n",
              "    box-shadow: 0 1px 2px rgba(60, 64, 67, 0.3), 0 1px 3px 1px rgba(60, 64, 67, 0.15);\n",
              "    fill: var(--button-hover-fill-color);\n",
              "  }\n",
              "\n",
              "  .colab-df-quickchart-complete:disabled,\n",
              "  .colab-df-quickchart-complete:disabled:hover {\n",
              "    background-color: var(--disabled-bg-color);\n",
              "    fill: var(--disabled-fill-color);\n",
              "    box-shadow: none;\n",
              "  }\n",
              "\n",
              "  .colab-df-spinner {\n",
              "    border: 2px solid var(--fill-color);\n",
              "    border-color: transparent;\n",
              "    border-bottom-color: var(--fill-color);\n",
              "    animation:\n",
              "      spin 1s steps(1) infinite;\n",
              "  }\n",
              "\n",
              "  @keyframes spin {\n",
              "    0% {\n",
              "      border-color: transparent;\n",
              "      border-bottom-color: var(--fill-color);\n",
              "      border-left-color: var(--fill-color);\n",
              "    }\n",
              "    20% {\n",
              "      border-color: transparent;\n",
              "      border-left-color: var(--fill-color);\n",
              "      border-top-color: var(--fill-color);\n",
              "    }\n",
              "    30% {\n",
              "      border-color: transparent;\n",
              "      border-left-color: var(--fill-color);\n",
              "      border-top-color: var(--fill-color);\n",
              "      border-right-color: var(--fill-color);\n",
              "    }\n",
              "    40% {\n",
              "      border-color: transparent;\n",
              "      border-right-color: var(--fill-color);\n",
              "      border-top-color: var(--fill-color);\n",
              "    }\n",
              "    60% {\n",
              "      border-color: transparent;\n",
              "      border-right-color: var(--fill-color);\n",
              "    }\n",
              "    80% {\n",
              "      border-color: transparent;\n",
              "      border-right-color: var(--fill-color);\n",
              "      border-bottom-color: var(--fill-color);\n",
              "    }\n",
              "    90% {\n",
              "      border-color: transparent;\n",
              "      border-bottom-color: var(--fill-color);\n",
              "    }\n",
              "  }\n",
              "</style>\n",
              "\n",
              "  <script>\n",
              "    async function quickchart(key) {\n",
              "      const quickchartButtonEl =\n",
              "        document.querySelector('#' + key + ' button');\n",
              "      quickchartButtonEl.disabled = true;  // To prevent multiple clicks.\n",
              "      quickchartButtonEl.classList.add('colab-df-spinner');\n",
              "      try {\n",
              "        const charts = await google.colab.kernel.invokeFunction(\n",
              "            'suggestCharts', [key], {});\n",
              "      } catch (error) {\n",
              "        console.error('Error during call to suggestCharts:', error);\n",
              "      }\n",
              "      quickchartButtonEl.classList.remove('colab-df-spinner');\n",
              "      quickchartButtonEl.classList.add('colab-df-quickchart-complete');\n",
              "    }\n",
              "    (() => {\n",
              "      let quickchartButtonEl =\n",
              "        document.querySelector('#df-1c4fe81b-ca08-4d33-9635-b543098db48d button');\n",
              "      quickchartButtonEl.style.display =\n",
              "        google.colab.kernel.accessAllowed ? 'block' : 'none';\n",
              "    })();\n",
              "  </script>\n",
              "</div>\n",
              "\n",
              "    </div>\n",
              "  </div>\n"
            ],
            "application/vnd.google.colaboratory.intrinsic+json": {
              "type": "dataframe",
              "variable_name": "df",
              "summary": "{\n  \"name\": \"df\",\n  \"rows\": 6497,\n  \"fields\": [\n    {\n      \"column\": \"Review\",\n      \"properties\": {\n        \"dtype\": \"string\",\n        \"num_unique_values\": 6482,\n        \"samples\": [\n          \"I'd rather watch paint dry sit again.\",\n          \"\\\"I'm amazed film managed transport another world entirely. testament power storytelling imagination.\\\"\",\n          \"\\\"Freddy's Dead\\\" smartest thing could've done disappointment fifth film. started scratch. Sure, \\\"final\\\" film saga silly least original. visuals even bit breath-taking. story Freddy's kid (Lisa Zane) returning town face evil father unique.Overall, movie nothing another cartoon made get kids theater. bunch good actors (Zane, Yaphet Kotto, Lezlie Deane) basically look dumb wander around like sheep ready slaughter. one-sided, magic-trick, and, end, nothing goofy, childish entertainment.\"\n        ],\n        \"semantic_type\": \"\",\n        \"description\": \"\"\n      }\n    },\n    {\n      \"column\": \"Sentiment\",\n      \"properties\": {\n        \"dtype\": \"category\",\n        \"num_unique_values\": 3,\n        \"samples\": [\n          \"positive\",\n          \"negative\",\n          \"neutral\"\n        ],\n        \"semantic_type\": \"\",\n        \"description\": \"\"\n      }\n    },\n    {\n      \"column\": \"Sarcasm\",\n      \"properties\": {\n        \"dtype\": \"category\",\n        \"num_unique_values\": 2,\n        \"samples\": [\n          \"sarcastic\",\n          \"non-sarcastic\"\n        ],\n        \"semantic_type\": \"\",\n        \"description\": \"\"\n      }\n    },\n    {\n      \"column\": \"Lemmatized_Review\",\n      \"properties\": {\n        \"dtype\": \"string\",\n        \"num_unique_values\": 6478,\n        \"samples\": [\n          \"damn good little ninety thriller that , perhaps lack substance , still provide great entertainment throughout run time overall everything could possibly want film nature do . see film principally direct John Dahl - highly underrated director behind great thriller last seduction , Rounders Roadkill . figure film standard I have already see director , would well worth watch - Red Rock West certainly film Dahl proud of . plot focus overly moral Michael man travel across America look work . end find one day stumble upon bar Red Rock County - catch job murder man 's wife . he be mistaken killer name Lyle , instead job play side eventually plan make getaway . however , attempt escape unsuccessful find bad situation real Lyle turn up ... John Dahl appear enjoy set thriller road three year early Kill Again , almost decade film Roadkill . hard see Dahl choose sort location , provide fabulous atmosphere thriller like one . Dahl also provide film ' film noir ' like atmosphere , plot mainly focus central character word plunge full dark mysterious character . act largely good , Nicholas Cage excellent job lead role , get a - class support Lara Flynn Boyle , J.T. Walsh and , course , Dennis Hopper command screen top performance . say second half film grip first , Red Rock West certainly never bore way Dahl orchestrate grand finale excellent central character get part it . overall , Red Rock West film unlikely regret watch . thrilling throughout , can not ask much that !\",\n          \"movie get big disappointment I have ever experience film . act horrific , suspense build minimal , plot overall ridiculous . find root victim hurry become victim , obviously need put misery . anyone rudimentary knowledge world work immediately disgust leap we be ask make logic , so - call suspenseful buildup would lucky get 3 year old mildly worried . I be dismayed sequel plan , mean they will ask we swallow sub par plot line . example Raw Feed 's work , think I will avoid future film they .\"\n        ],\n        \"semantic_type\": \"\",\n        \"description\": \"\"\n      }\n    },\n    {\n      \"column\": \"Tokenized_Review\",\n      \"properties\": {\n        \"dtype\": \"string\",\n        \"num_unique_values\": 6478,\n        \"samples\": [\n          \"['damn', 'good', 'little', 'ninety', 'thriller', 'that', ',', 'perhaps', 'lack', 'substance', ',', 'still', 'provide', 'great', 'entertainment', 'throughout', 'run', 'time', 'overall', 'everything', 'could', 'possibly', 'want', 'film', 'nature', 'do', '.', 'see', 'film', 'principally', 'direct', 'John', 'Dahl', '-', 'highly', 'underrated', 'director', 'behind', 'great', 'thriller', 'last', 'seduction', ',', 'Rounders', 'Roadkill', '.', 'figure', 'film', 'standard', 'I', 'have', 'already', 'see', 'director', ',', 'would', 'well', 'worth', 'watch', '-', 'Red', 'Rock', 'West', 'certainly', 'film', 'Dahl', 'proud', 'of', '.', 'plot', 'focus', 'overly', 'moral', 'Michael', 'man', 'travel', 'across', 'America', 'look', 'work', '.', 'end', 'find', 'one', 'day', 'stumble', 'upon', 'bar', 'Red', 'Rock', 'County', '-', 'catch', 'job', 'murder', 'man', \\\"'s\\\", 'wife', '.', 'he', 'be', 'mistaken', 'killer', 'name', 'Lyle', ',', 'instead', 'job', 'play', 'side', 'eventually', 'plan', 'make', 'getaway', '.', 'however', ',', 'attempt', 'escape', 'unsuccessful', 'find', 'bad', 'situation', 'real', 'Lyle', 'turn', 'up', '...', 'John', 'Dahl', 'appear', 'enjoy', 'set', 'thriller', 'road', 'three', 'year', 'early', 'Kill', 'Again', ',', 'almost', 'decade', 'film', 'Roadkill', '.', 'hard', 'see', 'Dahl', 'choose', 'sort', 'location', ',', 'provide', 'fabulous', 'atmosphere', 'thriller', 'like', 'one', '.', 'Dahl', 'also', 'provide', 'film', \\\"'\\\", 'film', 'noir', \\\"'\\\", 'like', 'atmosphere', ',', 'plot', 'mainly', 'focus', 'central', 'character', 'word', 'plunge', 'full', 'dark', 'mysterious', 'character', '.', 'act', 'largely', 'good', ',', 'Nicholas', 'Cage', 'excellent', 'job', 'lead', 'role', ',', 'get', 'a', '-', 'class', 'support', 'Lara', 'Flynn', 'Boyle', ',', 'J.T', '.', 'Walsh', 'and', ',', 'course', ',', 'Dennis', 'Hopper', 'command', 'screen', 'top', 'performance', '.', 'say', 'second', 'half', 'film', 'grip', 'first', ',', 'Red', 'Rock', 'West', 'certainly', 'never', 'bore', 'way', 'Dahl', 'orchestrate', 'grand', 'finale', 'excellent', 'central', 'character', 'get', 'part', 'it', '.', 'overall', ',', 'Red', 'Rock', 'West', 'film', 'unlikely', 'regret', 'watch', '.', 'thrilling', 'throughout', ',', 'can', 'not', 'ask', 'much', 'that', '!']\",\n          \"['movie', 'get', 'big', 'disappointment', 'I', 'have', 'ever', 'experience', 'film', '.', 'act', 'horrific', ',', 'suspense', 'build', 'minimal', ',', 'plot', 'overall', 'ridiculous', '.', 'find', 'root', 'victim', 'hurry', 'become', 'victim', ',', 'obviously', 'need', 'put', 'misery', '.', 'anyone', 'rudimentary', 'knowledge', 'world', 'work', 'immediately', 'disgust', 'leap', 'we', 'be', 'ask', 'make', 'logic', ',', 'so', '-', 'call', 'suspenseful', 'buildup', 'would', 'lucky', 'get', '3', 'year', 'old', 'mildly', 'worried', '.', 'I', 'be', 'dismayed', 'sequel', 'plan', ',', 'mean', 'they', 'will', 'ask', 'we', 'swallow', 'sub', 'par', 'plot', 'line', '.', 'example', 'Raw', 'Feed', \\\"'s\\\", 'work', ',', 'think', 'I', 'will', 'avoid', 'future', 'film', 'they', '.']\"\n        ],\n        \"semantic_type\": \"\",\n        \"description\": \"\"\n      }\n    },\n    {\n      \"column\": \"Sentiment_Label\",\n      \"properties\": {\n        \"dtype\": \"number\",\n        \"std\": 0,\n        \"min\": 0,\n        \"max\": 2,\n        \"num_unique_values\": 3,\n        \"samples\": [\n          2,\n          0\n        ],\n        \"semantic_type\": \"\",\n        \"description\": \"\"\n      }\n    },\n    {\n      \"column\": \"Sarcasm_Label\",\n      \"properties\": {\n        \"dtype\": \"number\",\n        \"std\": 0,\n        \"min\": 0,\n        \"max\": 1,\n        \"num_unique_values\": 2,\n        \"samples\": [\n          1,\n          0\n        ],\n        \"semantic_type\": \"\",\n        \"description\": \"\"\n      }\n    },\n    {\n      \"column\": \"word2vec_vector\",\n      \"properties\": {\n        \"dtype\": \"string\",\n        \"num_unique_values\": 6474,\n        \"samples\": [\n          \"[-3.24900707e-01  6.97114689e-01  2.26793894e-01  1.03066086e-01\\n -5.94358544e-02 -1.03108670e+00  6.42660962e-01  1.21541261e+00\\n -4.35291892e-01 -6.19873325e-01  1.16483213e-01 -7.57517428e-01\\n -4.15467410e-01  4.17726865e-01  1.16625719e-01 -2.23502915e-01\\n  1.51002999e-01 -1.42148025e-01  4.72371156e-02 -1.13124923e+00\\n  2.58789215e-01  4.42949784e-01  5.31792592e-01 -3.34385925e-01\\n -4.07603645e-01 -6.23629693e-02 -4.62632889e-01 -3.22352912e-01\\n -4.75669860e-01  4.14741271e-03  5.98131893e-01 -3.45347124e-02\\n  3.19653863e-01 -6.49854902e-01 -3.33759619e-01  5.46092231e-01\\n  1.46549132e-01 -7.74505563e-02 -1.64154748e-01 -6.46254360e-01\\n  4.32484315e-01 -6.18648399e-01 -3.79262635e-01  2.00492572e-01\\n  4.86058024e-01  6.88523861e-02 -5.51645450e-01 -2.70858081e-02\\n  3.36980714e-01  3.23619924e-01  2.01909025e-01 -4.14370159e-01\\n  8.11772757e-02 -6.35154641e-03  3.20353280e-02  1.86862961e-01\\n  4.69708313e-01 -4.41094480e-02 -6.67539199e-01  2.30786520e-01\\n  1.25653994e-01  2.36834420e-01  1.11673281e-02  1.17734346e-01\\n -4.70306213e-01  5.81853242e-01  2.73378118e-01  2.58743372e-01\\n -7.09542619e-01  2.91463609e-01 -2.42916880e-01  2.59118444e-01\\n  5.04778918e-01 -1.56416415e-01  8.08729289e-01  2.59455999e-01\\n -8.36364807e-02 -2.94144669e-01 -3.85096919e-01  6.17536103e-02\\n -3.81732234e-01  1.57359436e-01 -9.63574215e-02  6.11295665e-01\\n -1.53698802e-01 -2.56397986e-01  1.97747926e-01  6.05509465e-01\\n  6.43732741e-01  5.32307359e-01  6.75418642e-01  2.59615275e-01\\n  1.38030395e-01 -4.16503850e-04  9.59951860e-01  4.44751273e-01\\n  2.89032238e-02 -4.13589855e-01 -1.17561762e-01  1.67467679e-01]\",\n          \"[-0.51528076  0.62999265  0.34768838  0.04109166 -0.23936851 -1.22484763\\n  0.65081042  1.55546571 -0.36464467 -0.80994054  0.13488922 -0.8058279\\n -0.44548444  0.48595738  0.20192216 -0.40118077  0.2684738   0.01550735\\n  0.0219941  -1.33329075  0.24282084  0.43770228  0.58790516 -0.28451621\\n -0.536679    0.06932363 -0.52372424 -0.23837234 -0.5352157   0.11170491\\n  0.48514296 -0.06171587  0.33539223 -0.87481198 -0.48930284  0.56950449\\n  0.21919503 -0.15559486 -0.19762203 -0.57618257  0.41424134 -0.54137372\\n -0.39225923  0.05343275  0.49709567 -0.00499736 -0.49679793 -0.14544546\\n  0.32252581  0.48795371  0.16909291 -0.49284478 -0.02605932 -0.04039092\\n -0.02406979  0.20980195  0.50530302 -0.08069469 -0.59542768  0.34525043\\n  0.15344124  0.10046143  0.1464648   0.14270705 -0.45447815  0.59607983\\n  0.4098379   0.49812061 -0.94331478  0.46702179 -0.14076833  0.42577784\\n  0.57892972 -0.13754306  1.04817227  0.36878655  0.0560374  -0.31564214\\n -0.65078284  0.18108627 -0.47655865  0.26591181 -0.21947477  0.88873189\\n -0.27869942 -0.42282937  0.2243511   0.60085666  0.65302722  0.64377339\\n  0.89917482  0.24745624  0.23037507 -0.13216948  1.30042943  0.70888309\\n  0.11537293 -0.35017313 -0.1770473   0.16076528]\"\n        ],\n        \"semantic_type\": \"\",\n        \"description\": \"\"\n      }\n    }\n  ]\n}"
            }
          },
          "metadata": {},
          "execution_count": 4
        }
      ]
    },
    {
      "cell_type": "markdown",
      "source": [
        "### Step 2 : check for class imbalance in dataset\n",
        "Our dataset have columns Sentiment_Label and Sarcasm_Label that represent target variables. <br>\n",
        "Typically, this involves counting the occurrences of each class within target variables and then assessing whether there is a significant disparity between the counts of different classes."
      ],
      "metadata": {
        "id": "ThkZcPwWY41P"
      }
    },
    {
      "cell_type": "code",
      "source": [
        "# Check class distribution for Sarcasm_Label\n",
        "sarcasm_counts = df['Sarcasm_Label'].value_counts()\n",
        "print(\"\\nSarcasm Label Distribution:\")\n",
        "print(sarcasm_counts)\n",
        "print()\n",
        "\n",
        "# Determine if Sarcasm_Label is imbalanced\n",
        "is_imbalanced = False\n",
        "for count in sarcasm_counts:\n",
        "    if count < 0.2 * sarcasm_counts.sum():\n",
        "        is_imbalanced = True\n",
        "        break\n",
        "\n",
        "if is_imbalanced:\n",
        "    print(\"Sarcasm Label is imbalanced\")\n",
        "else:\n",
        "    print(\"Sarcasm Label is balanced\")"
      ],
      "metadata": {
        "colab": {
          "base_uri": "https://localhost:8080/"
        },
        "id": "MRu9miYABlo3",
        "outputId": "db072980-b6b9-44f8-d675-d5ae49a85b25"
      },
      "execution_count": 5,
      "outputs": [
        {
          "output_type": "stream",
          "name": "stdout",
          "text": [
            "\n",
            "Sarcasm Label Distribution:\n",
            "Sarcasm_Label\n",
            "1    3518\n",
            "0    2979\n",
            "Name: count, dtype: int64\n",
            "\n",
            "Sarcasm Label is balanced\n"
          ]
        }
      ]
    },
    {
      "cell_type": "code",
      "source": [
        "# Check class distribution for Sentiment_Label\n",
        "sentiment_counts = df['Sentiment_Label'].value_counts()\n",
        "print(\"Sentiment Label Distribution:\")\n",
        "print(sentiment_counts)\n",
        "print()\n",
        "\n",
        "# Determine if Sentiment_Label is imbalanced\n",
        "is_imbalanced = False\n",
        "for count in sentiment_counts:\n",
        "    if count < 0.2 * sentiment_counts.sum():\n",
        "        is_imbalanced = True\n",
        "        break\n",
        "\n",
        "if is_imbalanced:\n",
        "    print(\"Sentiment Label is imbalanced\")\n",
        "else:\n",
        "    print(\"Sentiment Label is balanced\")"
      ],
      "metadata": {
        "colab": {
          "base_uri": "https://localhost:8080/"
        },
        "id": "oQlP4UTaBl4x",
        "outputId": "dce247aa-6956-4d1d-d6b2-78a5928d5276"
      },
      "execution_count": 6,
      "outputs": [
        {
          "output_type": "stream",
          "name": "stdout",
          "text": [
            "Sentiment Label Distribution:\n",
            "Sentiment_Label\n",
            "0    4184\n",
            "2    2300\n",
            "1      13\n",
            "Name: count, dtype: int64\n",
            "\n",
            "Sentiment Label is imbalanced\n"
          ]
        }
      ]
    },
    {
      "cell_type": "markdown",
      "source": [
        "**Output Explanation** :<br>\n",
        "\n",
        "**Sentiment_Label Distribution** : calculates the counts of each unique value in the Sentiment_Label column.<br>\n",
        "\n",
        "**Check Imbalance** : The loop for count in sentiment_counts iterates through the counts of each unique value. If any count is less than 20% of the total count ***(0.2 * sentiment_counts.sum())***, it flags the label as imbalanced.<br>\n",
        "\n",
        "**Sarcasm_Label Distribution** : Similarly, calculates the counts of each unique value in the Sarcasm_Label column.<br>\n",
        "\n",
        "**Check Imbalance for Sarcasm_Label** : The loop for count in sarcasm_counts iterates through the counts of each unique value. If any count is less than 20% of the total count ***(0.2 * sarcasm_counts.sum())***, it flags the label as imbalanced.<br>\n",
        "\n",
        "This approach allows us to check for imbalance in columns with three unique values (0, 1, and 2). Adjust the threshold (0.2 in this case) according to specific dataset and imbalance criteria.<br>"
      ],
      "metadata": {
        "id": "nTEnsJNqIxYJ"
      }
    },
    {
      "cell_type": "markdown",
      "source": [
        "###Traditional Machine Learning Models\n",
        "1. Random Forest Classifier"
      ],
      "metadata": {
        "id": "DzZVRwrNKBLk"
      }
    },
    {
      "cell_type": "code",
      "source": [
        "from sklearn.ensemble import RandomForestClassifier\n",
        "from sklearn.model_selection import train_test_split\n",
        "from sklearn.metrics import accuracy_score, classification_report\n",
        "from sklearn.feature_extraction.text import TfidfVectorizer\n",
        "from sklearn.preprocessing import StandardScaler\n",
        "\n",
        "# Vectorize text data\n",
        "vectorizer = TfidfVectorizer(max_features=1000)  # Adjust max_features as needed\n",
        "X = vectorizer.fit_transform(df['Tokenized_Review'].astype(str)).toarray()\n",
        "\n",
        "y = df['Sarcasm_Label']\n",
        "\n",
        "# Initialize scaler\n",
        "scaler = StandardScaler()\n",
        "X_scaled = scaler.fit_transform(X)\n",
        "\n",
        "# Split data into train and test sets\n",
        "X_train, X_test, y_train, y_test = train_test_split(X_scaled, y, test_size=0.2, random_state=42)\n",
        "\n",
        "# Initialize Random Forest classifier\n",
        "rf_classifier = RandomForestClassifier(n_estimators=100, random_state=42)\n",
        "\n",
        "# Train the classifier\n",
        "rf_classifier.fit(X_train, y_train)\n",
        "\n",
        "# Predict on test data\n",
        "y_pred_rf = rf_classifier.predict(X_test)\n",
        "\n",
        "# Evaluate the model\n",
        "print(\"Random Forest Classifier:\")\n",
        "print(\"Accuracy:\", accuracy_score(y_test, y_pred_rf))\n",
        "print(classification_report(y_test, y_pred_rf))\n"
      ],
      "metadata": {
        "colab": {
          "base_uri": "https://localhost:8080/"
        },
        "id": "YUsyJNUNBl8A",
        "outputId": "377078e6-f169-41d4-b2aa-eb4088b13d67"
      },
      "execution_count": 9,
      "outputs": [
        {
          "output_type": "stream",
          "name": "stdout",
          "text": [
            "Random Forest Classifier:\n",
            "Accuracy: 0.8238461538461539\n",
            "              precision    recall  f1-score   support\n",
            "\n",
            "           0       0.76      0.91      0.83       604\n",
            "           1       0.91      0.75      0.82       696\n",
            "\n",
            "    accuracy                           0.82      1300\n",
            "   macro avg       0.83      0.83      0.82      1300\n",
            "weighted avg       0.84      0.82      0.82      1300\n",
            "\n"
          ]
        }
      ]
    },
    {
      "cell_type": "code",
      "source": [
        "from sklearn.ensemble import RandomForestClassifier\n",
        "from sklearn.feature_extraction.text import TfidfVectorizer\n",
        "from sklearn.preprocessing import StandardScaler\n",
        "\n",
        "# Example text to predict\n",
        "text = [\"It's a Funny horror movie!\"]\n",
        "\n",
        "# Vectorize the text\n",
        "text_vectorized = vectorizer.transform(text)\n",
        "\n",
        "# Scale the vectorized text\n",
        "text_scaled = scaler.transform(text_vectorized.toarray())\n",
        "\n",
        "# Make predictions using the Random Forest classifier\n",
        "prediction_rf = rf_classifier.predict(text_scaled)\n",
        "\n",
        "# Format output based on predicted label\n",
        "if prediction_rf == 0:\n",
        "    output_rf = \"Random Forest Predicted Label: not sarcastic\"\n",
        "elif prediction_rf == 1:\n",
        "    output_rf = \"Random Forest Predicted Label: sarcastic\"\n",
        "else:\n",
        "    output_rf = \"Unknown label\"\n",
        "\n",
        "# Print the Random Forest prediction\n",
        "print(output_rf)\n"
      ],
      "metadata": {
        "colab": {
          "base_uri": "https://localhost:8080/"
        },
        "id": "xKIn79TEL572",
        "outputId": "73b9f3a0-f2b6-4280-d24c-c7923fd6fd72"
      },
      "execution_count": 10,
      "outputs": [
        {
          "output_type": "stream",
          "name": "stdout",
          "text": [
            "Random Forest Predicted Label: sarcastic\n"
          ]
        }
      ]
    },
    {
      "cell_type": "markdown",
      "source": [
        "2. Support Vector Machine (SVM)"
      ],
      "metadata": {
        "id": "m7ny6uShKEaa"
      }
    },
    {
      "cell_type": "code",
      "source": [
        "from sklearn.svm import SVC\n",
        "from sklearn.pipeline import make_pipeline\n",
        "from sklearn.preprocessing import StandardScaler\n",
        "\n",
        "# Initialize SVM classifier\n",
        "svm_classifier = make_pipeline(StandardScaler(with_mean=False), SVC())\n",
        "\n",
        "# Train the SVM classifier\n",
        "svm_classifier.fit(X_train, y_train)\n",
        "\n",
        "# Predict on test data\n",
        "y_pred_svm = svm_classifier.predict(X_test)\n",
        "\n",
        "# Evaluate the model\n",
        "print(\"SVM Classifier:\")\n",
        "print(\"Accuracy:\", accuracy_score(y_test, y_pred_svm))\n",
        "print(classification_report(y_test, y_pred_svm))\n"
      ],
      "metadata": {
        "colab": {
          "base_uri": "https://localhost:8080/"
        },
        "id": "ltzlOhkcBl_4",
        "outputId": "03237642-8fe5-446e-9b23-01beaa25f59f"
      },
      "execution_count": 11,
      "outputs": [
        {
          "output_type": "stream",
          "name": "stdout",
          "text": [
            "SVM Classifier:\n",
            "Accuracy: 0.8192307692307692\n",
            "              precision    recall  f1-score   support\n",
            "\n",
            "           0       0.76      0.89      0.82       604\n",
            "           1       0.89      0.76      0.82       696\n",
            "\n",
            "    accuracy                           0.82      1300\n",
            "   macro avg       0.82      0.82      0.82      1300\n",
            "weighted avg       0.83      0.82      0.82      1300\n",
            "\n"
          ]
        }
      ]
    },
    {
      "cell_type": "code",
      "source": [
        "from sklearn.svm import SVC\n",
        "from sklearn.pipeline import make_pipeline\n",
        "from sklearn.feature_extraction.text import TfidfVectorizer\n",
        "from sklearn.preprocessing import StandardScaler\n",
        "\n",
        "# Assuming you have trained svm_classifier, vectorizer, and scaler from previous code\n",
        "\n",
        "# Example text to predict\n",
        "text = [\"It's a Funny horror movie!\"]\n",
        "\n",
        "# Vectorize the text\n",
        "text_vectorized = vectorizer.transform(text)\n",
        "\n",
        "# Scale the vectorized text\n",
        "text_scaled = scaler.transform(text_vectorized.toarray())\n",
        "\n",
        "# Make predictions using the SVM classifier\n",
        "prediction_svm = svm_classifier.predict(text_scaled)\n",
        "\n",
        "# Format output based on predicted label\n",
        "if prediction_svm == 0:\n",
        "    output_svm = \"SVM Predicted Label: not sarcastic\"\n",
        "elif prediction_svm == 1:\n",
        "    output_svm = \"SVM Predicted Label: sarcastic\"\n",
        "else:\n",
        "    output_svm = \"Unknown label\"\n",
        "\n",
        "# Print the SVM prediction\n",
        "print(output_svm)\n"
      ],
      "metadata": {
        "colab": {
          "base_uri": "https://localhost:8080/"
        },
        "id": "lwZip5f1MF5j",
        "outputId": "249edc4c-4d2d-4eb9-94ab-4547b8a69139"
      },
      "execution_count": 12,
      "outputs": [
        {
          "output_type": "stream",
          "name": "stdout",
          "text": [
            "SVM Predicted Label: sarcastic\n"
          ]
        }
      ]
    },
    {
      "cell_type": "markdown",
      "source": [
        "###Deep Learning Models using TensorFlow/Keras\n",
        "1. Simple Neural Network (Feedforward)"
      ],
      "metadata": {
        "id": "RYwASjF5KMMP"
      }
    },
    {
      "cell_type": "code",
      "source": [
        "import tensorflow as tf\n",
        "from tensorflow.keras.models import Sequential\n",
        "from tensorflow.keras.layers import Dense, Dropout\n",
        "from sklearn.preprocessing import StandardScaler\n",
        "\n",
        "# Normalize input data\n",
        "scaler = StandardScaler(with_mean=False)\n",
        "X_train_scaled = scaler.fit_transform(X_train)\n",
        "X_test_scaled = scaler.transform(X_test)\n",
        "\n",
        "# Initialize Neural Network model\n",
        "model_nn = Sequential([\n",
        "    Dense(128, activation='relu', input_shape=(X_train_scaled.shape[1],)),\n",
        "    Dropout(0.5),\n",
        "    Dense(64, activation='relu'),\n",
        "    Dropout(0.3),\n",
        "    Dense(1, activation='sigmoid')\n",
        "])\n",
        "\n",
        "# Compile the model\n",
        "model_nn.compile(optimizer='adam', loss='binary_crossentropy', metrics=['accuracy'])\n",
        "\n",
        "# Train the model\n",
        "history = model_nn.fit(X_train_scaled, y_train, epochs=10, batch_size=32, validation_split=0.2)\n",
        "\n",
        "# Evaluate the model\n",
        "loss, accuracy = model_nn.evaluate(X_test_scaled, y_test)\n",
        "print(\"Simple Neural Network:\")\n",
        "print(\"Accuracy:\", accuracy)\n",
        "\n",
        "\n"
      ],
      "metadata": {
        "colab": {
          "base_uri": "https://localhost:8080/"
        },
        "id": "RMAPD1fbBmCT",
        "outputId": "6cbdc0cd-6cd7-48cf-8e84-1468eb4edee3"
      },
      "execution_count": 22,
      "outputs": [
        {
          "output_type": "stream",
          "name": "stdout",
          "text": [
            "Epoch 1/10\n",
            "130/130 [==============================] - 4s 15ms/step - loss: 0.6577 - accuracy: 0.6798 - val_loss: 0.4701 - val_accuracy: 0.7750\n",
            "Epoch 2/10\n",
            "130/130 [==============================] - 2s 12ms/step - loss: 0.4298 - accuracy: 0.8023 - val_loss: 0.4317 - val_accuracy: 0.7990\n",
            "Epoch 3/10\n",
            "130/130 [==============================] - 2s 14ms/step - loss: 0.3393 - accuracy: 0.8533 - val_loss: 0.4337 - val_accuracy: 0.7952\n",
            "Epoch 4/10\n",
            "130/130 [==============================] - 2s 14ms/step - loss: 0.2695 - accuracy: 0.8889 - val_loss: 0.4571 - val_accuracy: 0.7942\n",
            "Epoch 5/10\n",
            "130/130 [==============================] - 1s 5ms/step - loss: 0.2214 - accuracy: 0.9069 - val_loss: 0.4944 - val_accuracy: 0.8048\n",
            "Epoch 6/10\n",
            "130/130 [==============================] - 1s 4ms/step - loss: 0.1828 - accuracy: 0.9307 - val_loss: 0.5552 - val_accuracy: 0.7990\n",
            "Epoch 7/10\n",
            "130/130 [==============================] - 1s 5ms/step - loss: 0.1520 - accuracy: 0.9413 - val_loss: 0.5865 - val_accuracy: 0.7962\n",
            "Epoch 8/10\n",
            "130/130 [==============================] - 1s 5ms/step - loss: 0.1290 - accuracy: 0.9531 - val_loss: 0.6374 - val_accuracy: 0.7933\n",
            "Epoch 9/10\n",
            "130/130 [==============================] - 1s 5ms/step - loss: 0.1017 - accuracy: 0.9627 - val_loss: 0.7628 - val_accuracy: 0.7923\n",
            "Epoch 10/10\n",
            "130/130 [==============================] - 1s 5ms/step - loss: 0.0922 - accuracy: 0.9687 - val_loss: 0.8247 - val_accuracy: 0.7846\n",
            "41/41 [==============================] - 0s 2ms/step - loss: 0.7443 - accuracy: 0.7923\n",
            "Simple Neural Network:\n",
            "Accuracy: 0.7923076748847961\n"
          ]
        }
      ]
    },
    {
      "cell_type": "code",
      "source": [
        "import numpy as np\n",
        "from sklearn.feature_extraction.text import TfidfVectorizer\n",
        "from sklearn.preprocessing import StandardScaler\n",
        "\n",
        "# Assuming you have trained model_nn, vectorizer, and scaler from previous code\n",
        "\n",
        "# Example text to predict\n",
        "text = [\"It's a Funny horror movie!\"]\n",
        "\n",
        "# Vectorize the text\n",
        "text_vectorized = vectorizer.transform(text)\n",
        "\n",
        "# Normalize the vectorized text\n",
        "text_scaled = scaler.transform(text_vectorized.toarray())\n",
        "\n",
        "# Make predictions using the neural network model\n",
        "prediction = model_nn.predict(text_scaled)\n",
        "\n",
        "# Convert prediction to a more readable format (e.g., binary)\n",
        "predicted_label = np.round(prediction).astype(int)\n",
        "\n",
        "# Format output based on predicted label\n",
        "if predicted_label == 0:\n",
        "    output = \"Predicted Label: Not sarcastic\"\n",
        "elif predicted_label == 1:\n",
        "    output = \"Predicted Label: sarcastic\"\n",
        "else:\n",
        "    output = \"Unknown label\"\n",
        "\n",
        "# Print the prediction\n",
        "print(output)\n"
      ],
      "metadata": {
        "colab": {
          "base_uri": "https://localhost:8080/"
        },
        "id": "bx9xVn8IKivk",
        "outputId": "7cd44f46-4a0b-4949-e72b-c658ed204b74"
      },
      "execution_count": 23,
      "outputs": [
        {
          "output_type": "stream",
          "name": "stdout",
          "text": [
            "1/1 [==============================] - 0s 101ms/step\n",
            "Predicted Label: Not sarcastic\n"
          ]
        }
      ]
    },
    {
      "cell_type": "markdown",
      "source": [],
      "metadata": {
        "id": "q4SrQthHKTaY"
      }
    },
    {
      "cell_type": "code",
      "source": [
        "import numpy as np\n",
        "from sklearn.feature_extraction.text import TfidfVectorizer\n",
        "from sklearn.preprocessing import StandardScaler\n",
        "\n",
        "# Example reviews\n",
        "sarcastic_reviews = [\n",
        "    \"This movie is a masterpiece of boredom and cliches. Bravo!\",\n",
        "    \"Oh, what a surprise, another predictable plot. How original...\",\n",
        "    \"I laughed so hard when the main character died. So much fun!\",\n",
        "    \"This movie really makes you appreciate bad acting.\",\n",
        "    \"Wow, the plot twist at the end was totally unexpected. Not.\"\n",
        "]\n",
        "\n",
        "non_sarcastic_reviews = [\n",
        "    \"An absolute delight from start to finish. A must-watch!\",\n",
        "    \"This movie captivates the heart and mind with its storytelling.\",\n",
        "    \"Incredible cinematography and outstanding performances.\",\n",
        "    \"A beautifully crafted film that resonates long after it ends.\",\n",
        "    \"Heartwarming and genuine, a true cinematic gem.\"\n",
        "]\n",
        "\n",
        "# Vectorize the reviews\n",
        "sarcastic_reviews_vectorized = vectorizer.transform(sarcastic_reviews)\n",
        "non_sarcastic_reviews_vectorized = vectorizer.transform(non_sarcastic_reviews)\n",
        "\n",
        "# Normalize the vectorized reviews\n",
        "sarcastic_reviews_scaled = scaler.transform(sarcastic_reviews_vectorized.toarray())\n",
        "non_sarcastic_reviews_scaled = scaler.transform(non_sarcastic_reviews_vectorized.toarray())\n",
        "\n",
        "# Make predictions using Random Forest Classifier\n",
        "predictions_rf_sarcastic = rf_classifier.predict(sarcastic_reviews_scaled)\n",
        "predictions_rf_non_sarcastic = rf_classifier.predict(non_sarcastic_reviews_scaled)\n",
        "\n",
        "# Make predictions using SVM Classifier\n",
        "predictions_svm_sarcastic = svm_classifier.predict(sarcastic_reviews_scaled)\n",
        "predictions_svm_non_sarcastic = svm_classifier.predict(non_sarcastic_reviews_scaled)\n",
        "\n",
        "# Make predictions using Simple Neural Network (Feedforward)\n",
        "predictions_nn_sarcastic = model_nn.predict(sarcastic_reviews_scaled)\n",
        "predictions_nn_non_sarcastic = model_nn.predict(non_sarcastic_reviews_scaled)\n",
        "\n",
        "# Format predictions for readability\n",
        "def format_predictions(predictions):\n",
        "    return [\"sarcastic\" if pred == 1 else \"not sarcastic\" for pred in predictions]\n",
        "\n",
        "# Format predictions for each model\n",
        "rf_predictions_sarcastic = format_predictions(predictions_rf_sarcastic)\n",
        "rf_predictions_non_sarcastic = format_predictions(predictions_rf_non_sarcastic)\n",
        "\n",
        "svm_predictions_sarcastic = format_predictions(predictions_svm_sarcastic)\n",
        "svm_predictions_non_sarcastic = format_predictions(predictions_svm_non_sarcastic)\n",
        "\n",
        "nn_predictions_sarcastic = format_predictions(np.round(predictions_nn_sarcastic).astype(int))\n",
        "nn_predictions_non_sarcastic = format_predictions(np.round(predictions_nn_non_sarcastic).astype(int))\n",
        "\n",
        "# Print predictions for Random Forest\n",
        "print(\"Random Forest Classifier Predictions:\")\n",
        "print(\"Sarcastic Reviews:\")\n",
        "for review, prediction in zip(sarcastic_reviews, rf_predictions_sarcastic):\n",
        "    print(f\"Review: {review} -> Prediction: {prediction}\")\n",
        "print(\"\\nNon-Sarcastic Reviews:\")\n",
        "for review, prediction in zip(non_sarcastic_reviews, rf_predictions_non_sarcastic):\n",
        "    print(f\"Review: {review} -> Prediction: {prediction}\")\n",
        "\n",
        "# Print predictions for SVM\n",
        "print(\"\\nSVM Classifier Predictions:\")\n",
        "print(\"Sarcastic Reviews:\")\n",
        "for review, prediction in zip(sarcastic_reviews, svm_predictions_sarcastic):\n",
        "    print(f\"Review: {review} -> Prediction: {prediction}\")\n",
        "print(\"\\nNon-Sarcastic Reviews:\")\n",
        "for review, prediction in zip(non_sarcastic_reviews, svm_predictions_non_sarcastic):\n",
        "    print(f\"Review: {review} -> Prediction: {prediction}\")\n",
        "\n",
        "# Print predictions for Simple Neural Network (Feedforward)\n",
        "print(\"\\nSimple Neural Network Predictions:\")\n",
        "print(\"Sarcastic Reviews:\")\n",
        "for review, prediction in zip(sarcastic_reviews, nn_predictions_sarcastic):\n",
        "    print(f\"Review: {review} -> Prediction: {prediction}\")\n",
        "print(\"\\nNon-Sarcastic Reviews:\")\n",
        "for review, prediction in zip(non_sarcastic_reviews, nn_predictions_non_sarcastic):\n",
        "    print(f\"Review: {review} -> Prediction: {prediction}\")\n"
      ],
      "metadata": {
        "colab": {
          "base_uri": "https://localhost:8080/"
        },
        "id": "0fQ9u--8NfjM",
        "outputId": "45327944-c868-4249-80e7-0fb18caee288"
      },
      "execution_count": 24,
      "outputs": [
        {
          "output_type": "stream",
          "name": "stdout",
          "text": [
            "1/1 [==============================] - 0s 20ms/step\n",
            "1/1 [==============================] - 0s 19ms/step\n",
            "Random Forest Classifier Predictions:\n",
            "Sarcastic Reviews:\n",
            "Review: This movie is a masterpiece of boredom and cliches. Bravo! -> Prediction: not sarcastic\n",
            "Review: Oh, what a surprise, another predictable plot. How original... -> Prediction: not sarcastic\n",
            "Review: I laughed so hard when the main character died. So much fun! -> Prediction: not sarcastic\n",
            "Review: This movie really makes you appreciate bad acting. -> Prediction: not sarcastic\n",
            "Review: Wow, the plot twist at the end was totally unexpected. Not. -> Prediction: not sarcastic\n",
            "\n",
            "Non-Sarcastic Reviews:\n",
            "Review: An absolute delight from start to finish. A must-watch! -> Prediction: not sarcastic\n",
            "Review: This movie captivates the heart and mind with its storytelling. -> Prediction: not sarcastic\n",
            "Review: Incredible cinematography and outstanding performances. -> Prediction: not sarcastic\n",
            "Review: A beautifully crafted film that resonates long after it ends. -> Prediction: not sarcastic\n",
            "Review: Heartwarming and genuine, a true cinematic gem. -> Prediction: not sarcastic\n",
            "\n",
            "SVM Classifier Predictions:\n",
            "Sarcastic Reviews:\n",
            "Review: This movie is a masterpiece of boredom and cliches. Bravo! -> Prediction: sarcastic\n",
            "Review: Oh, what a surprise, another predictable plot. How original... -> Prediction: sarcastic\n",
            "Review: I laughed so hard when the main character died. So much fun! -> Prediction: sarcastic\n",
            "Review: This movie really makes you appreciate bad acting. -> Prediction: sarcastic\n",
            "Review: Wow, the plot twist at the end was totally unexpected. Not. -> Prediction: sarcastic\n",
            "\n",
            "Non-Sarcastic Reviews:\n",
            "Review: An absolute delight from start to finish. A must-watch! -> Prediction: sarcastic\n",
            "Review: This movie captivates the heart and mind with its storytelling. -> Prediction: sarcastic\n",
            "Review: Incredible cinematography and outstanding performances. -> Prediction: sarcastic\n",
            "Review: A beautifully crafted film that resonates long after it ends. -> Prediction: sarcastic\n",
            "Review: Heartwarming and genuine, a true cinematic gem. -> Prediction: sarcastic\n",
            "\n",
            "Simple Neural Network Predictions:\n",
            "Sarcastic Reviews:\n",
            "Review: This movie is a masterpiece of boredom and cliches. Bravo! -> Prediction: not sarcastic\n",
            "Review: Oh, what a surprise, another predictable plot. How original... -> Prediction: sarcastic\n",
            "Review: I laughed so hard when the main character died. So much fun! -> Prediction: not sarcastic\n",
            "Review: This movie really makes you appreciate bad acting. -> Prediction: not sarcastic\n",
            "Review: Wow, the plot twist at the end was totally unexpected. Not. -> Prediction: sarcastic\n",
            "\n",
            "Non-Sarcastic Reviews:\n",
            "Review: An absolute delight from start to finish. A must-watch! -> Prediction: not sarcastic\n",
            "Review: This movie captivates the heart and mind with its storytelling. -> Prediction: not sarcastic\n",
            "Review: Incredible cinematography and outstanding performances. -> Prediction: not sarcastic\n",
            "Review: A beautifully crafted film that resonates long after it ends. -> Prediction: not sarcastic\n",
            "Review: Heartwarming and genuine, a true cinematic gem. -> Prediction: not sarcastic\n"
          ]
        }
      ]
    },
    {
      "cell_type": "code",
      "source": [],
      "metadata": {
        "id": "DhjZrMBKNfmi"
      },
      "execution_count": null,
      "outputs": []
    }
  ]
}