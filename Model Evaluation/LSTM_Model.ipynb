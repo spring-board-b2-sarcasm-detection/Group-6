{
  "nbformat": 4,
  "nbformat_minor": 0,
  "metadata": {
    "colab": {
      "provenance": []
    },
    "kernelspec": {
      "name": "python3",
      "display_name": "Python 3"
    },
    "language_info": {
      "name": "python"
    }
  },
  "cells": [
    {
      "cell_type": "markdown",
      "source": [
        "###RNN model with LSTM"
      ],
      "metadata": {
        "id": "AimJvAxWehkC"
      }
    },
    {
      "cell_type": "code",
      "source": [
        "# Mount Google Drive\n",
        "from google.colab import drive\n",
        "drive.mount('/content/drive')"
      ],
      "metadata": {
        "colab": {
          "base_uri": "https://localhost:8080/"
        },
        "id": "h__AejuheikH",
        "outputId": "197ae2bf-e87e-4f00-d46a-6e553c3679d5"
      },
      "execution_count": 1,
      "outputs": [
        {
          "output_type": "stream",
          "name": "stdout",
          "text": [
            "Mounted at /content/drive\n"
          ]
        }
      ]
    },
    {
      "cell_type": "markdown",
      "source": [
        "###Load Your Dataset"
      ],
      "metadata": {
        "id": "pYiqqS6L8dP1"
      }
    },
    {
      "cell_type": "code",
      "source": [
        "# File path\n",
        "file_path = '/content/drive/MyDrive/IMBD/Vector_dataset.csv'"
      ],
      "metadata": {
        "id": "uvEjj1ZUe7cj"
      },
      "execution_count": 2,
      "outputs": []
    },
    {
      "cell_type": "code",
      "source": [
        "# Read CSV file\n",
        "import pandas as pd\n",
        "df = pd.read_csv(file_path)"
      ],
      "metadata": {
        "id": "EP_v_ngpe-64"
      },
      "execution_count": 3,
      "outputs": []
    },
    {
      "cell_type": "code",
      "source": [
        "# Display the first 5 rows of data\n",
        "df.head()"
      ],
      "metadata": {
        "colab": {
          "base_uri": "https://localhost:8080/",
          "height": 397
        },
        "id": "S5lB1owMfDC0",
        "outputId": "f5943ecc-4aff-466d-c908-ce8695684dd0"
      },
      "execution_count": 4,
      "outputs": [
        {
          "output_type": "execute_result",
          "data": {
            "text/plain": [
              "                                              Review Sentiment        Sarcasm  \\\n",
              "0  One reviewers mentioned watching 1 Oz episode ...  positive  non-sarcastic   \n",
              "1  wonderful little production. filming technique...  positive  non-sarcastic   \n",
              "2  movie groundbreaking experience! I've never se...  positive      sarcastic   \n",
              "3  thought wonderful way spend time hot summer we...  positive  non-sarcastic   \n",
              "4  Basically there's family little boy (Jake) thi...  negative      sarcastic   \n",
              "\n",
              "                                   Lemmatized_Review  \\\n",
              "0  one reviewer mention watch 1 oz episode hook ....   \n",
              "1  wonderful little production . film technique u...   \n",
              "2  movie groundbreaking experience ! I have never...   \n",
              "3  think wonderful way spend time hot summer week...   \n",
              "4  basically there be family little boy ( Jake ) ...   \n",
              "\n",
              "                                    Tokenized_Review  Sentiment_Label  \\\n",
              "0  ['one', 'reviewer', 'mention', 'watch', '1', '...                2   \n",
              "1  ['wonderful', 'little', 'production', '.', 'fi...                2   \n",
              "2  ['movie', 'groundbreaking', 'experience', '!',...                2   \n",
              "3  ['think', 'wonderful', 'way', 'spend', 'time',...                2   \n",
              "4  ['basically', 'there', 'be', 'family', 'little...                0   \n",
              "\n",
              "   Sarcasm_Label                                    word2vec_vector  \n",
              "0              0  [-0.33703893  0.63750656  0.20848949  0.110051...  \n",
              "1              0  [-2.21933369e-01  6.40139948e-01  2.48385639e-...  \n",
              "2              1  [-7.50784083e-01  8.69618461e-01  6.57767776e-...  \n",
              "3              0  [-0.29578843  0.66404176  0.19095987  0.130039...  \n",
              "4              1  [-0.36713844  0.69574437  0.21454412  0.073285...  "
            ],
            "text/html": [
              "\n",
              "  <div id=\"df-5a67f4a5-697c-40fc-9756-70574cee93c7\" class=\"colab-df-container\">\n",
              "    <div>\n",
              "<style scoped>\n",
              "    .dataframe tbody tr th:only-of-type {\n",
              "        vertical-align: middle;\n",
              "    }\n",
              "\n",
              "    .dataframe tbody tr th {\n",
              "        vertical-align: top;\n",
              "    }\n",
              "\n",
              "    .dataframe thead th {\n",
              "        text-align: right;\n",
              "    }\n",
              "</style>\n",
              "<table border=\"1\" class=\"dataframe\">\n",
              "  <thead>\n",
              "    <tr style=\"text-align: right;\">\n",
              "      <th></th>\n",
              "      <th>Review</th>\n",
              "      <th>Sentiment</th>\n",
              "      <th>Sarcasm</th>\n",
              "      <th>Lemmatized_Review</th>\n",
              "      <th>Tokenized_Review</th>\n",
              "      <th>Sentiment_Label</th>\n",
              "      <th>Sarcasm_Label</th>\n",
              "      <th>word2vec_vector</th>\n",
              "    </tr>\n",
              "  </thead>\n",
              "  <tbody>\n",
              "    <tr>\n",
              "      <th>0</th>\n",
              "      <td>One reviewers mentioned watching 1 Oz episode ...</td>\n",
              "      <td>positive</td>\n",
              "      <td>non-sarcastic</td>\n",
              "      <td>one reviewer mention watch 1 oz episode hook ....</td>\n",
              "      <td>['one', 'reviewer', 'mention', 'watch', '1', '...</td>\n",
              "      <td>2</td>\n",
              "      <td>0</td>\n",
              "      <td>[-0.33703893  0.63750656  0.20848949  0.110051...</td>\n",
              "    </tr>\n",
              "    <tr>\n",
              "      <th>1</th>\n",
              "      <td>wonderful little production. filming technique...</td>\n",
              "      <td>positive</td>\n",
              "      <td>non-sarcastic</td>\n",
              "      <td>wonderful little production . film technique u...</td>\n",
              "      <td>['wonderful', 'little', 'production', '.', 'fi...</td>\n",
              "      <td>2</td>\n",
              "      <td>0</td>\n",
              "      <td>[-2.21933369e-01  6.40139948e-01  2.48385639e-...</td>\n",
              "    </tr>\n",
              "    <tr>\n",
              "      <th>2</th>\n",
              "      <td>movie groundbreaking experience! I've never se...</td>\n",
              "      <td>positive</td>\n",
              "      <td>sarcastic</td>\n",
              "      <td>movie groundbreaking experience ! I have never...</td>\n",
              "      <td>['movie', 'groundbreaking', 'experience', '!',...</td>\n",
              "      <td>2</td>\n",
              "      <td>1</td>\n",
              "      <td>[-7.50784083e-01  8.69618461e-01  6.57767776e-...</td>\n",
              "    </tr>\n",
              "    <tr>\n",
              "      <th>3</th>\n",
              "      <td>thought wonderful way spend time hot summer we...</td>\n",
              "      <td>positive</td>\n",
              "      <td>non-sarcastic</td>\n",
              "      <td>think wonderful way spend time hot summer week...</td>\n",
              "      <td>['think', 'wonderful', 'way', 'spend', 'time',...</td>\n",
              "      <td>2</td>\n",
              "      <td>0</td>\n",
              "      <td>[-0.29578843  0.66404176  0.19095987  0.130039...</td>\n",
              "    </tr>\n",
              "    <tr>\n",
              "      <th>4</th>\n",
              "      <td>Basically there's family little boy (Jake) thi...</td>\n",
              "      <td>negative</td>\n",
              "      <td>sarcastic</td>\n",
              "      <td>basically there be family little boy ( Jake ) ...</td>\n",
              "      <td>['basically', 'there', 'be', 'family', 'little...</td>\n",
              "      <td>0</td>\n",
              "      <td>1</td>\n",
              "      <td>[-0.36713844  0.69574437  0.21454412  0.073285...</td>\n",
              "    </tr>\n",
              "  </tbody>\n",
              "</table>\n",
              "</div>\n",
              "    <div class=\"colab-df-buttons\">\n",
              "\n",
              "  <div class=\"colab-df-container\">\n",
              "    <button class=\"colab-df-convert\" onclick=\"convertToInteractive('df-5a67f4a5-697c-40fc-9756-70574cee93c7')\"\n",
              "            title=\"Convert this dataframe to an interactive table.\"\n",
              "            style=\"display:none;\">\n",
              "\n",
              "  <svg xmlns=\"http://www.w3.org/2000/svg\" height=\"24px\" viewBox=\"0 -960 960 960\">\n",
              "    <path d=\"M120-120v-720h720v720H120Zm60-500h600v-160H180v160Zm220 220h160v-160H400v160Zm0 220h160v-160H400v160ZM180-400h160v-160H180v160Zm440 0h160v-160H620v160ZM180-180h160v-160H180v160Zm440 0h160v-160H620v160Z\"/>\n",
              "  </svg>\n",
              "    </button>\n",
              "\n",
              "  <style>\n",
              "    .colab-df-container {\n",
              "      display:flex;\n",
              "      gap: 12px;\n",
              "    }\n",
              "\n",
              "    .colab-df-convert {\n",
              "      background-color: #E8F0FE;\n",
              "      border: none;\n",
              "      border-radius: 50%;\n",
              "      cursor: pointer;\n",
              "      display: none;\n",
              "      fill: #1967D2;\n",
              "      height: 32px;\n",
              "      padding: 0 0 0 0;\n",
              "      width: 32px;\n",
              "    }\n",
              "\n",
              "    .colab-df-convert:hover {\n",
              "      background-color: #E2EBFA;\n",
              "      box-shadow: 0px 1px 2px rgba(60, 64, 67, 0.3), 0px 1px 3px 1px rgba(60, 64, 67, 0.15);\n",
              "      fill: #174EA6;\n",
              "    }\n",
              "\n",
              "    .colab-df-buttons div {\n",
              "      margin-bottom: 4px;\n",
              "    }\n",
              "\n",
              "    [theme=dark] .colab-df-convert {\n",
              "      background-color: #3B4455;\n",
              "      fill: #D2E3FC;\n",
              "    }\n",
              "\n",
              "    [theme=dark] .colab-df-convert:hover {\n",
              "      background-color: #434B5C;\n",
              "      box-shadow: 0px 1px 3px 1px rgba(0, 0, 0, 0.15);\n",
              "      filter: drop-shadow(0px 1px 2px rgba(0, 0, 0, 0.3));\n",
              "      fill: #FFFFFF;\n",
              "    }\n",
              "  </style>\n",
              "\n",
              "    <script>\n",
              "      const buttonEl =\n",
              "        document.querySelector('#df-5a67f4a5-697c-40fc-9756-70574cee93c7 button.colab-df-convert');\n",
              "      buttonEl.style.display =\n",
              "        google.colab.kernel.accessAllowed ? 'block' : 'none';\n",
              "\n",
              "      async function convertToInteractive(key) {\n",
              "        const element = document.querySelector('#df-5a67f4a5-697c-40fc-9756-70574cee93c7');\n",
              "        const dataTable =\n",
              "          await google.colab.kernel.invokeFunction('convertToInteractive',\n",
              "                                                    [key], {});\n",
              "        if (!dataTable) return;\n",
              "\n",
              "        const docLinkHtml = 'Like what you see? Visit the ' +\n",
              "          '<a target=\"_blank\" href=https://colab.research.google.com/notebooks/data_table.ipynb>data table notebook</a>'\n",
              "          + ' to learn more about interactive tables.';\n",
              "        element.innerHTML = '';\n",
              "        dataTable['output_type'] = 'display_data';\n",
              "        await google.colab.output.renderOutput(dataTable, element);\n",
              "        const docLink = document.createElement('div');\n",
              "        docLink.innerHTML = docLinkHtml;\n",
              "        element.appendChild(docLink);\n",
              "      }\n",
              "    </script>\n",
              "  </div>\n",
              "\n",
              "\n",
              "<div id=\"df-26fb8587-6f2f-4836-96c0-71682792fd70\">\n",
              "  <button class=\"colab-df-quickchart\" onclick=\"quickchart('df-26fb8587-6f2f-4836-96c0-71682792fd70')\"\n",
              "            title=\"Suggest charts\"\n",
              "            style=\"display:none;\">\n",
              "\n",
              "<svg xmlns=\"http://www.w3.org/2000/svg\" height=\"24px\"viewBox=\"0 0 24 24\"\n",
              "     width=\"24px\">\n",
              "    <g>\n",
              "        <path d=\"M19 3H5c-1.1 0-2 .9-2 2v14c0 1.1.9 2 2 2h14c1.1 0 2-.9 2-2V5c0-1.1-.9-2-2-2zM9 17H7v-7h2v7zm4 0h-2V7h2v10zm4 0h-2v-4h2v4z\"/>\n",
              "    </g>\n",
              "</svg>\n",
              "  </button>\n",
              "\n",
              "<style>\n",
              "  .colab-df-quickchart {\n",
              "      --bg-color: #E8F0FE;\n",
              "      --fill-color: #1967D2;\n",
              "      --hover-bg-color: #E2EBFA;\n",
              "      --hover-fill-color: #174EA6;\n",
              "      --disabled-fill-color: #AAA;\n",
              "      --disabled-bg-color: #DDD;\n",
              "  }\n",
              "\n",
              "  [theme=dark] .colab-df-quickchart {\n",
              "      --bg-color: #3B4455;\n",
              "      --fill-color: #D2E3FC;\n",
              "      --hover-bg-color: #434B5C;\n",
              "      --hover-fill-color: #FFFFFF;\n",
              "      --disabled-bg-color: #3B4455;\n",
              "      --disabled-fill-color: #666;\n",
              "  }\n",
              "\n",
              "  .colab-df-quickchart {\n",
              "    background-color: var(--bg-color);\n",
              "    border: none;\n",
              "    border-radius: 50%;\n",
              "    cursor: pointer;\n",
              "    display: none;\n",
              "    fill: var(--fill-color);\n",
              "    height: 32px;\n",
              "    padding: 0;\n",
              "    width: 32px;\n",
              "  }\n",
              "\n",
              "  .colab-df-quickchart:hover {\n",
              "    background-color: var(--hover-bg-color);\n",
              "    box-shadow: 0 1px 2px rgba(60, 64, 67, 0.3), 0 1px 3px 1px rgba(60, 64, 67, 0.15);\n",
              "    fill: var(--button-hover-fill-color);\n",
              "  }\n",
              "\n",
              "  .colab-df-quickchart-complete:disabled,\n",
              "  .colab-df-quickchart-complete:disabled:hover {\n",
              "    background-color: var(--disabled-bg-color);\n",
              "    fill: var(--disabled-fill-color);\n",
              "    box-shadow: none;\n",
              "  }\n",
              "\n",
              "  .colab-df-spinner {\n",
              "    border: 2px solid var(--fill-color);\n",
              "    border-color: transparent;\n",
              "    border-bottom-color: var(--fill-color);\n",
              "    animation:\n",
              "      spin 1s steps(1) infinite;\n",
              "  }\n",
              "\n",
              "  @keyframes spin {\n",
              "    0% {\n",
              "      border-color: transparent;\n",
              "      border-bottom-color: var(--fill-color);\n",
              "      border-left-color: var(--fill-color);\n",
              "    }\n",
              "    20% {\n",
              "      border-color: transparent;\n",
              "      border-left-color: var(--fill-color);\n",
              "      border-top-color: var(--fill-color);\n",
              "    }\n",
              "    30% {\n",
              "      border-color: transparent;\n",
              "      border-left-color: var(--fill-color);\n",
              "      border-top-color: var(--fill-color);\n",
              "      border-right-color: var(--fill-color);\n",
              "    }\n",
              "    40% {\n",
              "      border-color: transparent;\n",
              "      border-right-color: var(--fill-color);\n",
              "      border-top-color: var(--fill-color);\n",
              "    }\n",
              "    60% {\n",
              "      border-color: transparent;\n",
              "      border-right-color: var(--fill-color);\n",
              "    }\n",
              "    80% {\n",
              "      border-color: transparent;\n",
              "      border-right-color: var(--fill-color);\n",
              "      border-bottom-color: var(--fill-color);\n",
              "    }\n",
              "    90% {\n",
              "      border-color: transparent;\n",
              "      border-bottom-color: var(--fill-color);\n",
              "    }\n",
              "  }\n",
              "</style>\n",
              "\n",
              "  <script>\n",
              "    async function quickchart(key) {\n",
              "      const quickchartButtonEl =\n",
              "        document.querySelector('#' + key + ' button');\n",
              "      quickchartButtonEl.disabled = true;  // To prevent multiple clicks.\n",
              "      quickchartButtonEl.classList.add('colab-df-spinner');\n",
              "      try {\n",
              "        const charts = await google.colab.kernel.invokeFunction(\n",
              "            'suggestCharts', [key], {});\n",
              "      } catch (error) {\n",
              "        console.error('Error during call to suggestCharts:', error);\n",
              "      }\n",
              "      quickchartButtonEl.classList.remove('colab-df-spinner');\n",
              "      quickchartButtonEl.classList.add('colab-df-quickchart-complete');\n",
              "    }\n",
              "    (() => {\n",
              "      let quickchartButtonEl =\n",
              "        document.querySelector('#df-26fb8587-6f2f-4836-96c0-71682792fd70 button');\n",
              "      quickchartButtonEl.style.display =\n",
              "        google.colab.kernel.accessAllowed ? 'block' : 'none';\n",
              "    })();\n",
              "  </script>\n",
              "</div>\n",
              "\n",
              "    </div>\n",
              "  </div>\n"
            ],
            "application/vnd.google.colaboratory.intrinsic+json": {
              "type": "dataframe",
              "variable_name": "df",
              "summary": "{\n  \"name\": \"df\",\n  \"rows\": 6497,\n  \"fields\": [\n    {\n      \"column\": \"Review\",\n      \"properties\": {\n        \"dtype\": \"string\",\n        \"num_unique_values\": 6482,\n        \"samples\": [\n          \"I'd rather watch paint dry sit again.\",\n          \"\\\"I'm amazed film managed transport another world entirely. testament power storytelling imagination.\\\"\",\n          \"\\\"Freddy's Dead\\\" smartest thing could've done disappointment fifth film. started scratch. Sure, \\\"final\\\" film saga silly least original. visuals even bit breath-taking. story Freddy's kid (Lisa Zane) returning town face evil father unique.Overall, movie nothing another cartoon made get kids theater. bunch good actors (Zane, Yaphet Kotto, Lezlie Deane) basically look dumb wander around like sheep ready slaughter. one-sided, magic-trick, and, end, nothing goofy, childish entertainment.\"\n        ],\n        \"semantic_type\": \"\",\n        \"description\": \"\"\n      }\n    },\n    {\n      \"column\": \"Sentiment\",\n      \"properties\": {\n        \"dtype\": \"category\",\n        \"num_unique_values\": 3,\n        \"samples\": [\n          \"positive\",\n          \"negative\",\n          \"neutral\"\n        ],\n        \"semantic_type\": \"\",\n        \"description\": \"\"\n      }\n    },\n    {\n      \"column\": \"Sarcasm\",\n      \"properties\": {\n        \"dtype\": \"category\",\n        \"num_unique_values\": 2,\n        \"samples\": [\n          \"sarcastic\",\n          \"non-sarcastic\"\n        ],\n        \"semantic_type\": \"\",\n        \"description\": \"\"\n      }\n    },\n    {\n      \"column\": \"Lemmatized_Review\",\n      \"properties\": {\n        \"dtype\": \"string\",\n        \"num_unique_values\": 6478,\n        \"samples\": [\n          \"damn good little ninety thriller that , perhaps lack substance , still provide great entertainment throughout run time overall everything could possibly want film nature do . see film principally direct John Dahl - highly underrated director behind great thriller last seduction , Rounders Roadkill . figure film standard I have already see director , would well worth watch - Red Rock West certainly film Dahl proud of . plot focus overly moral Michael man travel across America look work . end find one day stumble upon bar Red Rock County - catch job murder man 's wife . he be mistaken killer name Lyle , instead job play side eventually plan make getaway . however , attempt escape unsuccessful find bad situation real Lyle turn up ... John Dahl appear enjoy set thriller road three year early Kill Again , almost decade film Roadkill . hard see Dahl choose sort location , provide fabulous atmosphere thriller like one . Dahl also provide film ' film noir ' like atmosphere , plot mainly focus central character word plunge full dark mysterious character . act largely good , Nicholas Cage excellent job lead role , get a - class support Lara Flynn Boyle , J.T. Walsh and , course , Dennis Hopper command screen top performance . say second half film grip first , Red Rock West certainly never bore way Dahl orchestrate grand finale excellent central character get part it . overall , Red Rock West film unlikely regret watch . thrilling throughout , can not ask much that !\",\n          \"movie get big disappointment I have ever experience film . act horrific , suspense build minimal , plot overall ridiculous . find root victim hurry become victim , obviously need put misery . anyone rudimentary knowledge world work immediately disgust leap we be ask make logic , so - call suspenseful buildup would lucky get 3 year old mildly worried . I be dismayed sequel plan , mean they will ask we swallow sub par plot line . example Raw Feed 's work , think I will avoid future film they .\"\n        ],\n        \"semantic_type\": \"\",\n        \"description\": \"\"\n      }\n    },\n    {\n      \"column\": \"Tokenized_Review\",\n      \"properties\": {\n        \"dtype\": \"string\",\n        \"num_unique_values\": 6478,\n        \"samples\": [\n          \"['damn', 'good', 'little', 'ninety', 'thriller', 'that', ',', 'perhaps', 'lack', 'substance', ',', 'still', 'provide', 'great', 'entertainment', 'throughout', 'run', 'time', 'overall', 'everything', 'could', 'possibly', 'want', 'film', 'nature', 'do', '.', 'see', 'film', 'principally', 'direct', 'John', 'Dahl', '-', 'highly', 'underrated', 'director', 'behind', 'great', 'thriller', 'last', 'seduction', ',', 'Rounders', 'Roadkill', '.', 'figure', 'film', 'standard', 'I', 'have', 'already', 'see', 'director', ',', 'would', 'well', 'worth', 'watch', '-', 'Red', 'Rock', 'West', 'certainly', 'film', 'Dahl', 'proud', 'of', '.', 'plot', 'focus', 'overly', 'moral', 'Michael', 'man', 'travel', 'across', 'America', 'look', 'work', '.', 'end', 'find', 'one', 'day', 'stumble', 'upon', 'bar', 'Red', 'Rock', 'County', '-', 'catch', 'job', 'murder', 'man', \\\"'s\\\", 'wife', '.', 'he', 'be', 'mistaken', 'killer', 'name', 'Lyle', ',', 'instead', 'job', 'play', 'side', 'eventually', 'plan', 'make', 'getaway', '.', 'however', ',', 'attempt', 'escape', 'unsuccessful', 'find', 'bad', 'situation', 'real', 'Lyle', 'turn', 'up', '...', 'John', 'Dahl', 'appear', 'enjoy', 'set', 'thriller', 'road', 'three', 'year', 'early', 'Kill', 'Again', ',', 'almost', 'decade', 'film', 'Roadkill', '.', 'hard', 'see', 'Dahl', 'choose', 'sort', 'location', ',', 'provide', 'fabulous', 'atmosphere', 'thriller', 'like', 'one', '.', 'Dahl', 'also', 'provide', 'film', \\\"'\\\", 'film', 'noir', \\\"'\\\", 'like', 'atmosphere', ',', 'plot', 'mainly', 'focus', 'central', 'character', 'word', 'plunge', 'full', 'dark', 'mysterious', 'character', '.', 'act', 'largely', 'good', ',', 'Nicholas', 'Cage', 'excellent', 'job', 'lead', 'role', ',', 'get', 'a', '-', 'class', 'support', 'Lara', 'Flynn', 'Boyle', ',', 'J.T', '.', 'Walsh', 'and', ',', 'course', ',', 'Dennis', 'Hopper', 'command', 'screen', 'top', 'performance', '.', 'say', 'second', 'half', 'film', 'grip', 'first', ',', 'Red', 'Rock', 'West', 'certainly', 'never', 'bore', 'way', 'Dahl', 'orchestrate', 'grand', 'finale', 'excellent', 'central', 'character', 'get', 'part', 'it', '.', 'overall', ',', 'Red', 'Rock', 'West', 'film', 'unlikely', 'regret', 'watch', '.', 'thrilling', 'throughout', ',', 'can', 'not', 'ask', 'much', 'that', '!']\",\n          \"['movie', 'get', 'big', 'disappointment', 'I', 'have', 'ever', 'experience', 'film', '.', 'act', 'horrific', ',', 'suspense', 'build', 'minimal', ',', 'plot', 'overall', 'ridiculous', '.', 'find', 'root', 'victim', 'hurry', 'become', 'victim', ',', 'obviously', 'need', 'put', 'misery', '.', 'anyone', 'rudimentary', 'knowledge', 'world', 'work', 'immediately', 'disgust', 'leap', 'we', 'be', 'ask', 'make', 'logic', ',', 'so', '-', 'call', 'suspenseful', 'buildup', 'would', 'lucky', 'get', '3', 'year', 'old', 'mildly', 'worried', '.', 'I', 'be', 'dismayed', 'sequel', 'plan', ',', 'mean', 'they', 'will', 'ask', 'we', 'swallow', 'sub', 'par', 'plot', 'line', '.', 'example', 'Raw', 'Feed', \\\"'s\\\", 'work', ',', 'think', 'I', 'will', 'avoid', 'future', 'film', 'they', '.']\"\n        ],\n        \"semantic_type\": \"\",\n        \"description\": \"\"\n      }\n    },\n    {\n      \"column\": \"Sentiment_Label\",\n      \"properties\": {\n        \"dtype\": \"number\",\n        \"std\": 0,\n        \"min\": 0,\n        \"max\": 2,\n        \"num_unique_values\": 3,\n        \"samples\": [\n          2,\n          0\n        ],\n        \"semantic_type\": \"\",\n        \"description\": \"\"\n      }\n    },\n    {\n      \"column\": \"Sarcasm_Label\",\n      \"properties\": {\n        \"dtype\": \"number\",\n        \"std\": 0,\n        \"min\": 0,\n        \"max\": 1,\n        \"num_unique_values\": 2,\n        \"samples\": [\n          1,\n          0\n        ],\n        \"semantic_type\": \"\",\n        \"description\": \"\"\n      }\n    },\n    {\n      \"column\": \"word2vec_vector\",\n      \"properties\": {\n        \"dtype\": \"string\",\n        \"num_unique_values\": 6474,\n        \"samples\": [\n          \"[-3.24900707e-01  6.97114689e-01  2.26793894e-01  1.03066086e-01\\n -5.94358544e-02 -1.03108670e+00  6.42660962e-01  1.21541261e+00\\n -4.35291892e-01 -6.19873325e-01  1.16483213e-01 -7.57517428e-01\\n -4.15467410e-01  4.17726865e-01  1.16625719e-01 -2.23502915e-01\\n  1.51002999e-01 -1.42148025e-01  4.72371156e-02 -1.13124923e+00\\n  2.58789215e-01  4.42949784e-01  5.31792592e-01 -3.34385925e-01\\n -4.07603645e-01 -6.23629693e-02 -4.62632889e-01 -3.22352912e-01\\n -4.75669860e-01  4.14741271e-03  5.98131893e-01 -3.45347124e-02\\n  3.19653863e-01 -6.49854902e-01 -3.33759619e-01  5.46092231e-01\\n  1.46549132e-01 -7.74505563e-02 -1.64154748e-01 -6.46254360e-01\\n  4.32484315e-01 -6.18648399e-01 -3.79262635e-01  2.00492572e-01\\n  4.86058024e-01  6.88523861e-02 -5.51645450e-01 -2.70858081e-02\\n  3.36980714e-01  3.23619924e-01  2.01909025e-01 -4.14370159e-01\\n  8.11772757e-02 -6.35154641e-03  3.20353280e-02  1.86862961e-01\\n  4.69708313e-01 -4.41094480e-02 -6.67539199e-01  2.30786520e-01\\n  1.25653994e-01  2.36834420e-01  1.11673281e-02  1.17734346e-01\\n -4.70306213e-01  5.81853242e-01  2.73378118e-01  2.58743372e-01\\n -7.09542619e-01  2.91463609e-01 -2.42916880e-01  2.59118444e-01\\n  5.04778918e-01 -1.56416415e-01  8.08729289e-01  2.59455999e-01\\n -8.36364807e-02 -2.94144669e-01 -3.85096919e-01  6.17536103e-02\\n -3.81732234e-01  1.57359436e-01 -9.63574215e-02  6.11295665e-01\\n -1.53698802e-01 -2.56397986e-01  1.97747926e-01  6.05509465e-01\\n  6.43732741e-01  5.32307359e-01  6.75418642e-01  2.59615275e-01\\n  1.38030395e-01 -4.16503850e-04  9.59951860e-01  4.44751273e-01\\n  2.89032238e-02 -4.13589855e-01 -1.17561762e-01  1.67467679e-01]\",\n          \"[-0.51528076  0.62999265  0.34768838  0.04109166 -0.23936851 -1.22484763\\n  0.65081042  1.55546571 -0.36464467 -0.80994054  0.13488922 -0.8058279\\n -0.44548444  0.48595738  0.20192216 -0.40118077  0.2684738   0.01550735\\n  0.0219941  -1.33329075  0.24282084  0.43770228  0.58790516 -0.28451621\\n -0.536679    0.06932363 -0.52372424 -0.23837234 -0.5352157   0.11170491\\n  0.48514296 -0.06171587  0.33539223 -0.87481198 -0.48930284  0.56950449\\n  0.21919503 -0.15559486 -0.19762203 -0.57618257  0.41424134 -0.54137372\\n -0.39225923  0.05343275  0.49709567 -0.00499736 -0.49679793 -0.14544546\\n  0.32252581  0.48795371  0.16909291 -0.49284478 -0.02605932 -0.04039092\\n -0.02406979  0.20980195  0.50530302 -0.08069469 -0.59542768  0.34525043\\n  0.15344124  0.10046143  0.1464648   0.14270705 -0.45447815  0.59607983\\n  0.4098379   0.49812061 -0.94331478  0.46702179 -0.14076833  0.42577784\\n  0.57892972 -0.13754306  1.04817227  0.36878655  0.0560374  -0.31564214\\n -0.65078284  0.18108627 -0.47655865  0.26591181 -0.21947477  0.88873189\\n -0.27869942 -0.42282937  0.2243511   0.60085666  0.65302722  0.64377339\\n  0.89917482  0.24745624  0.23037507 -0.13216948  1.30042943  0.70888309\\n  0.11537293 -0.35017313 -0.1770473   0.16076528]\"\n        ],\n        \"semantic_type\": \"\",\n        \"description\": \"\"\n      }\n    }\n  ]\n}"
            }
          },
          "metadata": {},
          "execution_count": 4
        }
      ]
    },
    {
      "cell_type": "markdown",
      "source": [
        "Necessary libraries installed"
      ],
      "metadata": {
        "id": "8Ef7rSRAg6ey"
      }
    },
    {
      "cell_type": "code",
      "source": [
        "pip install tensorflow pandas numpy scikit-learn\n"
      ],
      "metadata": {
        "colab": {
          "base_uri": "https://localhost:8080/"
        },
        "id": "8OkEBQQEfDFc",
        "outputId": "aa74eab8-765e-422a-8845-7f084bc6b708"
      },
      "execution_count": 5,
      "outputs": [
        {
          "output_type": "stream",
          "name": "stdout",
          "text": [
            "Requirement already satisfied: tensorflow in /usr/local/lib/python3.10/dist-packages (2.15.0)\n",
            "Requirement already satisfied: pandas in /usr/local/lib/python3.10/dist-packages (2.0.3)\n",
            "Requirement already satisfied: numpy in /usr/local/lib/python3.10/dist-packages (1.25.2)\n",
            "Requirement already satisfied: scikit-learn in /usr/local/lib/python3.10/dist-packages (1.2.2)\n",
            "Requirement already satisfied: absl-py>=1.0.0 in /usr/local/lib/python3.10/dist-packages (from tensorflow) (1.4.0)\n",
            "Requirement already satisfied: astunparse>=1.6.0 in /usr/local/lib/python3.10/dist-packages (from tensorflow) (1.6.3)\n",
            "Requirement already satisfied: flatbuffers>=23.5.26 in /usr/local/lib/python3.10/dist-packages (from tensorflow) (24.3.25)\n",
            "Requirement already satisfied: gast!=0.5.0,!=0.5.1,!=0.5.2,>=0.2.1 in /usr/local/lib/python3.10/dist-packages (from tensorflow) (0.6.0)\n",
            "Requirement already satisfied: google-pasta>=0.1.1 in /usr/local/lib/python3.10/dist-packages (from tensorflow) (0.2.0)\n",
            "Requirement already satisfied: h5py>=2.9.0 in /usr/local/lib/python3.10/dist-packages (from tensorflow) (3.9.0)\n",
            "Requirement already satisfied: libclang>=13.0.0 in /usr/local/lib/python3.10/dist-packages (from tensorflow) (18.1.1)\n",
            "Requirement already satisfied: ml-dtypes~=0.2.0 in /usr/local/lib/python3.10/dist-packages (from tensorflow) (0.2.0)\n",
            "Requirement already satisfied: opt-einsum>=2.3.2 in /usr/local/lib/python3.10/dist-packages (from tensorflow) (3.3.0)\n",
            "Requirement already satisfied: packaging in /usr/local/lib/python3.10/dist-packages (from tensorflow) (24.1)\n",
            "Requirement already satisfied: protobuf!=4.21.0,!=4.21.1,!=4.21.2,!=4.21.3,!=4.21.4,!=4.21.5,<5.0.0dev,>=3.20.3 in /usr/local/lib/python3.10/dist-packages (from tensorflow) (3.20.3)\n",
            "Requirement already satisfied: setuptools in /usr/local/lib/python3.10/dist-packages (from tensorflow) (67.7.2)\n",
            "Requirement already satisfied: six>=1.12.0 in /usr/local/lib/python3.10/dist-packages (from tensorflow) (1.16.0)\n",
            "Requirement already satisfied: termcolor>=1.1.0 in /usr/local/lib/python3.10/dist-packages (from tensorflow) (2.4.0)\n",
            "Requirement already satisfied: typing-extensions>=3.6.6 in /usr/local/lib/python3.10/dist-packages (from tensorflow) (4.12.2)\n",
            "Requirement already satisfied: wrapt<1.15,>=1.11.0 in /usr/local/lib/python3.10/dist-packages (from tensorflow) (1.14.1)\n",
            "Requirement already satisfied: tensorflow-io-gcs-filesystem>=0.23.1 in /usr/local/lib/python3.10/dist-packages (from tensorflow) (0.37.0)\n",
            "Requirement already satisfied: grpcio<2.0,>=1.24.3 in /usr/local/lib/python3.10/dist-packages (from tensorflow) (1.64.1)\n",
            "Requirement already satisfied: tensorboard<2.16,>=2.15 in /usr/local/lib/python3.10/dist-packages (from tensorflow) (2.15.2)\n",
            "Requirement already satisfied: tensorflow-estimator<2.16,>=2.15.0 in /usr/local/lib/python3.10/dist-packages (from tensorflow) (2.15.0)\n",
            "Requirement already satisfied: keras<2.16,>=2.15.0 in /usr/local/lib/python3.10/dist-packages (from tensorflow) (2.15.0)\n",
            "Requirement already satisfied: python-dateutil>=2.8.2 in /usr/local/lib/python3.10/dist-packages (from pandas) (2.8.2)\n",
            "Requirement already satisfied: pytz>=2020.1 in /usr/local/lib/python3.10/dist-packages (from pandas) (2023.4)\n",
            "Requirement already satisfied: tzdata>=2022.1 in /usr/local/lib/python3.10/dist-packages (from pandas) (2024.1)\n",
            "Requirement already satisfied: scipy>=1.3.2 in /usr/local/lib/python3.10/dist-packages (from scikit-learn) (1.11.4)\n",
            "Requirement already satisfied: joblib>=1.1.1 in /usr/local/lib/python3.10/dist-packages (from scikit-learn) (1.4.2)\n",
            "Requirement already satisfied: threadpoolctl>=2.0.0 in /usr/local/lib/python3.10/dist-packages (from scikit-learn) (3.5.0)\n",
            "Requirement already satisfied: wheel<1.0,>=0.23.0 in /usr/local/lib/python3.10/dist-packages (from astunparse>=1.6.0->tensorflow) (0.43.0)\n",
            "Requirement already satisfied: google-auth<3,>=1.6.3 in /usr/local/lib/python3.10/dist-packages (from tensorboard<2.16,>=2.15->tensorflow) (2.27.0)\n",
            "Requirement already satisfied: google-auth-oauthlib<2,>=0.5 in /usr/local/lib/python3.10/dist-packages (from tensorboard<2.16,>=2.15->tensorflow) (1.2.0)\n",
            "Requirement already satisfied: markdown>=2.6.8 in /usr/local/lib/python3.10/dist-packages (from tensorboard<2.16,>=2.15->tensorflow) (3.6)\n",
            "Requirement already satisfied: requests<3,>=2.21.0 in /usr/local/lib/python3.10/dist-packages (from tensorboard<2.16,>=2.15->tensorflow) (2.31.0)\n",
            "Requirement already satisfied: tensorboard-data-server<0.8.0,>=0.7.0 in /usr/local/lib/python3.10/dist-packages (from tensorboard<2.16,>=2.15->tensorflow) (0.7.2)\n",
            "Requirement already satisfied: werkzeug>=1.0.1 in /usr/local/lib/python3.10/dist-packages (from tensorboard<2.16,>=2.15->tensorflow) (3.0.3)\n",
            "Requirement already satisfied: cachetools<6.0,>=2.0.0 in /usr/local/lib/python3.10/dist-packages (from google-auth<3,>=1.6.3->tensorboard<2.16,>=2.15->tensorflow) (5.3.3)\n",
            "Requirement already satisfied: pyasn1-modules>=0.2.1 in /usr/local/lib/python3.10/dist-packages (from google-auth<3,>=1.6.3->tensorboard<2.16,>=2.15->tensorflow) (0.4.0)\n",
            "Requirement already satisfied: rsa<5,>=3.1.4 in /usr/local/lib/python3.10/dist-packages (from google-auth<3,>=1.6.3->tensorboard<2.16,>=2.15->tensorflow) (4.9)\n",
            "Requirement already satisfied: requests-oauthlib>=0.7.0 in /usr/local/lib/python3.10/dist-packages (from google-auth-oauthlib<2,>=0.5->tensorboard<2.16,>=2.15->tensorflow) (1.3.1)\n",
            "Requirement already satisfied: charset-normalizer<4,>=2 in /usr/local/lib/python3.10/dist-packages (from requests<3,>=2.21.0->tensorboard<2.16,>=2.15->tensorflow) (3.3.2)\n",
            "Requirement already satisfied: idna<4,>=2.5 in /usr/local/lib/python3.10/dist-packages (from requests<3,>=2.21.0->tensorboard<2.16,>=2.15->tensorflow) (3.7)\n",
            "Requirement already satisfied: urllib3<3,>=1.21.1 in /usr/local/lib/python3.10/dist-packages (from requests<3,>=2.21.0->tensorboard<2.16,>=2.15->tensorflow) (2.0.7)\n",
            "Requirement already satisfied: certifi>=2017.4.17 in /usr/local/lib/python3.10/dist-packages (from requests<3,>=2.21.0->tensorboard<2.16,>=2.15->tensorflow) (2024.6.2)\n",
            "Requirement already satisfied: MarkupSafe>=2.1.1 in /usr/local/lib/python3.10/dist-packages (from werkzeug>=1.0.1->tensorboard<2.16,>=2.15->tensorflow) (2.1.5)\n",
            "Requirement already satisfied: pyasn1<0.7.0,>=0.4.6 in /usr/local/lib/python3.10/dist-packages (from pyasn1-modules>=0.2.1->google-auth<3,>=1.6.3->tensorboard<2.16,>=2.15->tensorflow) (0.6.0)\n",
            "Requirement already satisfied: oauthlib>=3.0.0 in /usr/local/lib/python3.10/dist-packages (from requests-oauthlib>=0.7.0->google-auth-oauthlib<2,>=0.5->tensorboard<2.16,>=2.15->tensorflow) (3.2.2)\n"
          ]
        }
      ]
    },
    {
      "cell_type": "markdown",
      "source": [
        "###Prepare the Features"
      ],
      "metadata": {
        "id": "Z6rEn9Xm7LjJ"
      }
    },
    {
      "cell_type": "code",
      "source": [
        "import pandas as pd\n",
        "import numpy as np\n",
        "from sklearn.model_selection import train_test_split\n",
        "from tensorflow.keras.models import Sequential\n",
        "from tensorflow.keras.layers import Dense, LSTM, Embedding, SpatialDropout1D\n",
        "from tensorflow.keras.preprocessing.text import Tokenizer\n",
        "from tensorflow.keras.preprocessing.sequence import pad_sequences\n",
        "from tensorflow.keras.callbacks import EarlyStopping\n",
        "\n",
        "# Prepare the features (X) and labels (y)\n",
        "X = df['Tokenized_Review'].values\n",
        "y = df['Sarcasm_Label'].values\n",
        "\n",
        "# Tokenize the text\n",
        "tokenizer = Tokenizer()\n",
        "tokenizer.fit_on_texts(X)\n",
        "X = tokenizer.texts_to_sequences(X)"
      ],
      "metadata": {
        "id": "2aCNXsA8fDH_"
      },
      "execution_count": 17,
      "outputs": []
    },
    {
      "cell_type": "markdown",
      "source": [
        "###Pad the Sequences"
      ],
      "metadata": {
        "id": "s6UtTBIz7NqR"
      }
    },
    {
      "cell_type": "code",
      "source": [
        "# Pad the sequences\n",
        "max_length = max(len(seq) for seq in X)\n",
        "X = pad_sequences(X, maxlen=max_length, padding='post')"
      ],
      "metadata": {
        "id": "XKlqJG3BfDK1"
      },
      "execution_count": 18,
      "outputs": []
    },
    {
      "cell_type": "markdown",
      "source": [
        "###Split the Data into Training and Testing Sets"
      ],
      "metadata": {
        "id": "dv-dO8XS7U3t"
      }
    },
    {
      "cell_type": "code",
      "source": [
        "# Split the data into training and testing sets\n",
        "X_train, X_test, y_train, y_test = train_test_split(X, y, test_size=0.2, random_state=42)"
      ],
      "metadata": {
        "id": "r_V6wC9tfDNi"
      },
      "execution_count": 19,
      "outputs": []
    },
    {
      "cell_type": "markdown",
      "source": [
        "###Build the Model"
      ],
      "metadata": {
        "id": "V7hArQOR7Wje"
      }
    },
    {
      "cell_type": "code",
      "source": [
        "# Build the RNN model\n",
        "model = Sequential()\n",
        "model.add(Embedding(input_dim=len(tokenizer.word_index) + 1, output_dim=128, input_length=max_length))\n",
        "model.add(SpatialDropout1D(0.2))\n",
        "model.add(LSTM(128, return_sequences=True))\n",
        "model.add(LSTM(64))\n",
        "model.add(Dense(1, activation='sigmoid'))"
      ],
      "metadata": {
        "id": "5ouB1Id6fDQL"
      },
      "execution_count": 26,
      "outputs": []
    },
    {
      "cell_type": "markdown",
      "source": [
        "###Compile the Model"
      ],
      "metadata": {
        "id": "BEhcEL2X7flP"
      }
    },
    {
      "cell_type": "code",
      "source": [
        "# Compile the model\n",
        "model.compile(optimizer='adam', loss='binary_crossentropy', metrics=['accuracy'])"
      ],
      "metadata": {
        "id": "CXpGm-SCi72R"
      },
      "execution_count": 27,
      "outputs": []
    },
    {
      "cell_type": "markdown",
      "source": [
        "###Train the Model"
      ],
      "metadata": {
        "id": "cfxsSb597ktr"
      }
    },
    {
      "cell_type": "code",
      "source": [
        "# Train the model\n",
        "model.fit(X_train, y_train, epochs=10, batch_size=64, validation_data=(X_test, y_test))"
      ],
      "metadata": {
        "colab": {
          "base_uri": "https://localhost:8080/"
        },
        "id": "Mg6HmsImi-zF",
        "outputId": "e2aa5596-89da-4d64-dac9-0090bb86c38a"
      },
      "execution_count": 28,
      "outputs": [
        {
          "output_type": "stream",
          "name": "stdout",
          "text": [
            "Epoch 1/10\n",
            "82/82 [==============================] - 755s 9s/step - loss: 0.6906 - accuracy: 0.5430 - val_loss: 0.6909 - val_accuracy: 0.5354\n",
            "Epoch 2/10\n",
            "82/82 [==============================] - 697s 9s/step - loss: 0.6904 - accuracy: 0.5430 - val_loss: 0.6906 - val_accuracy: 0.5354\n",
            "Epoch 3/10\n",
            "82/82 [==============================] - 702s 9s/step - loss: 0.6900 - accuracy: 0.5430 - val_loss: 0.6906 - val_accuracy: 0.5354\n",
            "Epoch 4/10\n",
            "82/82 [==============================] - 704s 9s/step - loss: 0.6899 - accuracy: 0.5430 - val_loss: 0.6907 - val_accuracy: 0.5354\n",
            "Epoch 5/10\n",
            "82/82 [==============================] - 709s 9s/step - loss: 0.6899 - accuracy: 0.5430 - val_loss: 0.6906 - val_accuracy: 0.5354\n",
            "Epoch 6/10\n",
            "82/82 [==============================] - 708s 9s/step - loss: 0.6898 - accuracy: 0.5430 - val_loss: 0.6907 - val_accuracy: 0.5354\n",
            "Epoch 7/10\n",
            "82/82 [==============================] - 706s 9s/step - loss: 0.6900 - accuracy: 0.5430 - val_loss: 0.6908 - val_accuracy: 0.5354\n",
            "Epoch 8/10\n",
            "82/82 [==============================] - 707s 9s/step - loss: 0.6897 - accuracy: 0.5430 - val_loss: 0.6919 - val_accuracy: 0.5354\n",
            "Epoch 9/10\n",
            "82/82 [==============================] - 663s 8s/step - loss: 0.6900 - accuracy: 0.5430 - val_loss: 0.6907 - val_accuracy: 0.5354\n",
            "Epoch 10/10\n",
            "82/82 [==============================] - 698s 9s/step - loss: 0.6899 - accuracy: 0.5430 - val_loss: 0.6907 - val_accuracy: 0.5354\n"
          ]
        },
        {
          "output_type": "execute_result",
          "data": {
            "text/plain": [
              "<keras.src.callbacks.History at 0x7a47eb479ff0>"
            ]
          },
          "metadata": {},
          "execution_count": 28
        }
      ]
    },
    {
      "cell_type": "markdown",
      "source": [
        "###Evaluate the Model"
      ],
      "metadata": {
        "id": "FrPLTA2B7p6x"
      }
    },
    {
      "cell_type": "code",
      "source": [
        "# Evaluate the model\n",
        "loss, accuracy = model.evaluate(X_test, y_test)\n",
        "print(f'Accuracy: {accuracy * 100:.2f}%')"
      ],
      "metadata": {
        "colab": {
          "base_uri": "https://localhost:8080/"
        },
        "id": "Pjd4bcuPfDSX",
        "outputId": "3d974214-4e67-45db-daac-5c8ca4fce52f"
      },
      "execution_count": 29,
      "outputs": [
        {
          "output_type": "stream",
          "name": "stdout",
          "text": [
            "41/41 [==============================] - 52s 1s/step - loss: 0.6907 - accuracy: 0.5354\n",
            "Accuracy: 53.54%\n"
          ]
        }
      ]
    },
    {
      "cell_type": "markdown",
      "source": [
        "###Save the Trained Model"
      ],
      "metadata": {
        "id": "gDe89cZ67wY9"
      }
    },
    {
      "cell_type": "code",
      "source": [
        "# Save the trained model\n",
        "model.save('LSTM_model.h5')"
      ],
      "metadata": {
        "id": "M1bVj2infDWA"
      },
      "execution_count": 33,
      "outputs": []
    },
    {
      "cell_type": "code",
      "source": [
        "import pickle\n",
        "# Save the tokenizer\n",
        "with open('tokenizer.pkl', 'wb') as file:\n",
        "    pickle.dump(tokenizer, file)\n",
        "\n",
        "# Extract and save the embeddings\n",
        "for layer in model.layers:\n",
        "    if isinstance(layer, Embedding):\n",
        "        embedding_layer = layer\n",
        "        break\n",
        "\n",
        "embedding_weights = embedding_layer.get_weights()[0]\n",
        "\n",
        "# Save the embedding weights\n",
        "np.save('embedding_weights.npy', embedding_weights)\n",
        "\n",
        "print(\"Model, tokenizer, and embeddings saved successfully.\")"
      ],
      "metadata": {
        "colab": {
          "base_uri": "https://localhost:8080/"
        },
        "id": "nphtAVUU6XuK",
        "outputId": "58f48051-fbb3-4c4b-e42c-453596921c81"
      },
      "execution_count": 36,
      "outputs": [
        {
          "output_type": "stream",
          "name": "stdout",
          "text": [
            "Model, tokenizer, and embeddings saved successfully.\n"
          ]
        }
      ]
    },
    {
      "cell_type": "markdown",
      "source": [
        "###Predict the Movie review"
      ],
      "metadata": {
        "id": "U7vKu1mxGTAa"
      }
    },
    {
      "cell_type": "code",
      "source": [
        "import numpy as np\n",
        "from tensorflow.keras.models import load_model\n",
        "from tensorflow.keras.preprocessing.text import Tokenizer\n",
        "from tensorflow.keras.preprocessing.sequence import pad_sequences\n",
        "import pickle\n",
        "\n",
        "# Load the trained model\n",
        "model = load_model('LSTM_model.h5')\n",
        "\n",
        "# Load the tokenizer\n",
        "with open('tokenizer.pkl', 'rb') as file:\n",
        "    tokenizer = pickle.load(file)\n",
        "\n",
        "# Load the embeddings\n",
        "embedding_weights = np.load('embedding_weights.npy')\n",
        "\n",
        "# Example usage\n",
        "new_reviews = [\"It's Comedy horror film!\"]\n",
        "new_reviews_seq = tokenizer.texts_to_sequences(new_reviews)\n",
        "new_reviews_padded = pad_sequences(new_reviews_seq, maxlen=model.input_shape[1], padding='post')\n",
        "\n",
        "# Predict sarcasm\n",
        "predictions = model.predict(new_reviews_padded)\n",
        "print(predictions)\n"
      ],
      "metadata": {
        "colab": {
          "base_uri": "https://localhost:8080/"
        },
        "id": "mz7xumNl6XwD",
        "outputId": "d18d204a-799b-4bc1-b614-097ab3ea4084"
      },
      "execution_count": 38,
      "outputs": [
        {
          "output_type": "stream",
          "name": "stdout",
          "text": [
            "1/1 [==============================] - 1s 1s/step\n",
            "[[0.5426161]]\n"
          ]
        }
      ]
    },
    {
      "cell_type": "code",
      "source": [],
      "metadata": {
        "id": "jV92J6Z76Xzn"
      },
      "execution_count": null,
      "outputs": []
    }
  ]
}