{
  "nbformat": 4,
  "nbformat_minor": 0,
  "metadata": {
    "colab": {
      "provenance": []
    },
    "kernelspec": {
      "name": "python3",
      "display_name": "Python 3"
    },
    "language_info": {
      "name": "python"
    }
  },
  "cells": [
    {
      "cell_type": "markdown",
      "source": [
        "## Sarcasm Detection in Movie Review (Model Evaluation - Machine Learning Models)\n",
        "In this code snippet , we will perform model evaluation on a various Machine Learning Models. We will start by importing the necessary libraries and loading the dataset. We will split the dataset into training and testing sets to train our models and evaluate its performance on unseen data.\n",
        "\n",
        "Next, we will train models using the training data. After training the model, we will evaluate its performance using several common evaluation metrics such as accuracy, precision, recall, and the F1 score. Additionally, we will use cross-validation to ensure the robustness of our models.\n",
        "\n",
        "**Traditional Machine Learning Models** <br>\n",
        "1. Logistic Regression\n",
        "2. XG Boost\n",
        "3. Random Forest Classifier\n",
        "4. Support Vector Machine (SVM)\n",
        "\n"
      ],
      "metadata": {
        "id": "LBdiT71uuasH"
      }
    },
    {
      "cell_type": "markdown",
      "source": [
        "### Step 1: Loading the Vectorize Data\n",
        "\n",
        "we will evaluate a Machine learning Models using Tokenize data. We will start by importing the necessary libraries and loading a Tokenized dataset."
      ],
      "metadata": {
        "id": "dmy_FQe-YBj8"
      }
    },
    {
      "cell_type": "code",
      "source": [
        "# Mount Google Drive\n",
        "from google.colab import drive\n",
        "drive.mount('/content/drive')"
      ],
      "metadata": {
        "colab": {
          "base_uri": "https://localhost:8080/"
        },
        "id": "TTTOV7d_ubc9",
        "outputId": "b2baf891-382a-42ac-ce56-ca7a4a06aa8f"
      },
      "execution_count": 2,
      "outputs": [
        {
          "output_type": "stream",
          "name": "stdout",
          "text": [
            "Mounted at /content/drive\n"
          ]
        }
      ]
    },
    {
      "cell_type": "code",
      "source": [
        "# File path\n",
        "file_path = '/content/drive/MyDrive/IMBD/Vector_dataset.csv'"
      ],
      "metadata": {
        "id": "gxcJc-Qsuy46"
      },
      "execution_count": 14,
      "outputs": []
    },
    {
      "cell_type": "code",
      "source": [
        "# Read CSV file\n",
        "import pandas as pd\n",
        "df = pd.read_csv(file_path)"
      ],
      "metadata": {
        "id": "UA_LpIK3u2mC"
      },
      "execution_count": 15,
      "outputs": []
    },
    {
      "cell_type": "code",
      "source": [
        "# Display the first 5 rows of data\n",
        "df.head()"
      ],
      "metadata": {
        "colab": {
          "base_uri": "https://localhost:8080/",
          "height": 397
        },
        "id": "mkaoDndSu-l7",
        "outputId": "9caa6a2b-98dd-40ed-886b-7a12c5004691"
      },
      "execution_count": 16,
      "outputs": [
        {
          "output_type": "execute_result",
          "data": {
            "text/plain": [
              "                                              Review Sentiment        Sarcasm  \\\n",
              "0  One reviewers mentioned watching 1 Oz episode ...  positive  non-sarcastic   \n",
              "1  wonderful little production. filming technique...  positive  non-sarcastic   \n",
              "2  movie groundbreaking experience! I've never se...  positive      sarcastic   \n",
              "3  thought wonderful way spend time hot summer we...  positive  non-sarcastic   \n",
              "4  Basically there's family little boy (Jake) thi...  negative      sarcastic   \n",
              "\n",
              "                                   Lemmatized_Review  \\\n",
              "0  one reviewer mention watch 1 oz episode hook ....   \n",
              "1  wonderful little production . film technique u...   \n",
              "2  movie groundbreaking experience ! I have never...   \n",
              "3  think wonderful way spend time hot summer week...   \n",
              "4  basically there be family little boy ( Jake ) ...   \n",
              "\n",
              "                                    Tokenized_Review  Sentiment_Label  \\\n",
              "0  ['one', 'reviewer', 'mention', 'watch', '1', '...                2   \n",
              "1  ['wonderful', 'little', 'production', '.', 'fi...                2   \n",
              "2  ['movie', 'groundbreaking', 'experience', '!',...                2   \n",
              "3  ['think', 'wonderful', 'way', 'spend', 'time',...                2   \n",
              "4  ['basically', 'there', 'be', 'family', 'little...                0   \n",
              "\n",
              "   Sarcasm_Label                                    word2vec_vector  \n",
              "0              0  [-0.33703893  0.63750656  0.20848949  0.110051...  \n",
              "1              0  [-2.21933369e-01  6.40139948e-01  2.48385639e-...  \n",
              "2              1  [-7.50784083e-01  8.69618461e-01  6.57767776e-...  \n",
              "3              0  [-0.29578843  0.66404176  0.19095987  0.130039...  \n",
              "4              1  [-0.36713844  0.69574437  0.21454412  0.073285...  "
            ],
            "text/html": [
              "\n",
              "  <div id=\"df-fc45a7af-fa40-4e37-a3bf-71368818059c\" class=\"colab-df-container\">\n",
              "    <div>\n",
              "<style scoped>\n",
              "    .dataframe tbody tr th:only-of-type {\n",
              "        vertical-align: middle;\n",
              "    }\n",
              "\n",
              "    .dataframe tbody tr th {\n",
              "        vertical-align: top;\n",
              "    }\n",
              "\n",
              "    .dataframe thead th {\n",
              "        text-align: right;\n",
              "    }\n",
              "</style>\n",
              "<table border=\"1\" class=\"dataframe\">\n",
              "  <thead>\n",
              "    <tr style=\"text-align: right;\">\n",
              "      <th></th>\n",
              "      <th>Review</th>\n",
              "      <th>Sentiment</th>\n",
              "      <th>Sarcasm</th>\n",
              "      <th>Lemmatized_Review</th>\n",
              "      <th>Tokenized_Review</th>\n",
              "      <th>Sentiment_Label</th>\n",
              "      <th>Sarcasm_Label</th>\n",
              "      <th>word2vec_vector</th>\n",
              "    </tr>\n",
              "  </thead>\n",
              "  <tbody>\n",
              "    <tr>\n",
              "      <th>0</th>\n",
              "      <td>One reviewers mentioned watching 1 Oz episode ...</td>\n",
              "      <td>positive</td>\n",
              "      <td>non-sarcastic</td>\n",
              "      <td>one reviewer mention watch 1 oz episode hook ....</td>\n",
              "      <td>['one', 'reviewer', 'mention', 'watch', '1', '...</td>\n",
              "      <td>2</td>\n",
              "      <td>0</td>\n",
              "      <td>[-0.33703893  0.63750656  0.20848949  0.110051...</td>\n",
              "    </tr>\n",
              "    <tr>\n",
              "      <th>1</th>\n",
              "      <td>wonderful little production. filming technique...</td>\n",
              "      <td>positive</td>\n",
              "      <td>non-sarcastic</td>\n",
              "      <td>wonderful little production . film technique u...</td>\n",
              "      <td>['wonderful', 'little', 'production', '.', 'fi...</td>\n",
              "      <td>2</td>\n",
              "      <td>0</td>\n",
              "      <td>[-2.21933369e-01  6.40139948e-01  2.48385639e-...</td>\n",
              "    </tr>\n",
              "    <tr>\n",
              "      <th>2</th>\n",
              "      <td>movie groundbreaking experience! I've never se...</td>\n",
              "      <td>positive</td>\n",
              "      <td>sarcastic</td>\n",
              "      <td>movie groundbreaking experience ! I have never...</td>\n",
              "      <td>['movie', 'groundbreaking', 'experience', '!',...</td>\n",
              "      <td>2</td>\n",
              "      <td>1</td>\n",
              "      <td>[-7.50784083e-01  8.69618461e-01  6.57767776e-...</td>\n",
              "    </tr>\n",
              "    <tr>\n",
              "      <th>3</th>\n",
              "      <td>thought wonderful way spend time hot summer we...</td>\n",
              "      <td>positive</td>\n",
              "      <td>non-sarcastic</td>\n",
              "      <td>think wonderful way spend time hot summer week...</td>\n",
              "      <td>['think', 'wonderful', 'way', 'spend', 'time',...</td>\n",
              "      <td>2</td>\n",
              "      <td>0</td>\n",
              "      <td>[-0.29578843  0.66404176  0.19095987  0.130039...</td>\n",
              "    </tr>\n",
              "    <tr>\n",
              "      <th>4</th>\n",
              "      <td>Basically there's family little boy (Jake) thi...</td>\n",
              "      <td>negative</td>\n",
              "      <td>sarcastic</td>\n",
              "      <td>basically there be family little boy ( Jake ) ...</td>\n",
              "      <td>['basically', 'there', 'be', 'family', 'little...</td>\n",
              "      <td>0</td>\n",
              "      <td>1</td>\n",
              "      <td>[-0.36713844  0.69574437  0.21454412  0.073285...</td>\n",
              "    </tr>\n",
              "  </tbody>\n",
              "</table>\n",
              "</div>\n",
              "    <div class=\"colab-df-buttons\">\n",
              "\n",
              "  <div class=\"colab-df-container\">\n",
              "    <button class=\"colab-df-convert\" onclick=\"convertToInteractive('df-fc45a7af-fa40-4e37-a3bf-71368818059c')\"\n",
              "            title=\"Convert this dataframe to an interactive table.\"\n",
              "            style=\"display:none;\">\n",
              "\n",
              "  <svg xmlns=\"http://www.w3.org/2000/svg\" height=\"24px\" viewBox=\"0 -960 960 960\">\n",
              "    <path d=\"M120-120v-720h720v720H120Zm60-500h600v-160H180v160Zm220 220h160v-160H400v160Zm0 220h160v-160H400v160ZM180-400h160v-160H180v160Zm440 0h160v-160H620v160ZM180-180h160v-160H180v160Zm440 0h160v-160H620v160Z\"/>\n",
              "  </svg>\n",
              "    </button>\n",
              "\n",
              "  <style>\n",
              "    .colab-df-container {\n",
              "      display:flex;\n",
              "      gap: 12px;\n",
              "    }\n",
              "\n",
              "    .colab-df-convert {\n",
              "      background-color: #E8F0FE;\n",
              "      border: none;\n",
              "      border-radius: 50%;\n",
              "      cursor: pointer;\n",
              "      display: none;\n",
              "      fill: #1967D2;\n",
              "      height: 32px;\n",
              "      padding: 0 0 0 0;\n",
              "      width: 32px;\n",
              "    }\n",
              "\n",
              "    .colab-df-convert:hover {\n",
              "      background-color: #E2EBFA;\n",
              "      box-shadow: 0px 1px 2px rgba(60, 64, 67, 0.3), 0px 1px 3px 1px rgba(60, 64, 67, 0.15);\n",
              "      fill: #174EA6;\n",
              "    }\n",
              "\n",
              "    .colab-df-buttons div {\n",
              "      margin-bottom: 4px;\n",
              "    }\n",
              "\n",
              "    [theme=dark] .colab-df-convert {\n",
              "      background-color: #3B4455;\n",
              "      fill: #D2E3FC;\n",
              "    }\n",
              "\n",
              "    [theme=dark] .colab-df-convert:hover {\n",
              "      background-color: #434B5C;\n",
              "      box-shadow: 0px 1px 3px 1px rgba(0, 0, 0, 0.15);\n",
              "      filter: drop-shadow(0px 1px 2px rgba(0, 0, 0, 0.3));\n",
              "      fill: #FFFFFF;\n",
              "    }\n",
              "  </style>\n",
              "\n",
              "    <script>\n",
              "      const buttonEl =\n",
              "        document.querySelector('#df-fc45a7af-fa40-4e37-a3bf-71368818059c button.colab-df-convert');\n",
              "      buttonEl.style.display =\n",
              "        google.colab.kernel.accessAllowed ? 'block' : 'none';\n",
              "\n",
              "      async function convertToInteractive(key) {\n",
              "        const element = document.querySelector('#df-fc45a7af-fa40-4e37-a3bf-71368818059c');\n",
              "        const dataTable =\n",
              "          await google.colab.kernel.invokeFunction('convertToInteractive',\n",
              "                                                    [key], {});\n",
              "        if (!dataTable) return;\n",
              "\n",
              "        const docLinkHtml = 'Like what you see? Visit the ' +\n",
              "          '<a target=\"_blank\" href=https://colab.research.google.com/notebooks/data_table.ipynb>data table notebook</a>'\n",
              "          + ' to learn more about interactive tables.';\n",
              "        element.innerHTML = '';\n",
              "        dataTable['output_type'] = 'display_data';\n",
              "        await google.colab.output.renderOutput(dataTable, element);\n",
              "        const docLink = document.createElement('div');\n",
              "        docLink.innerHTML = docLinkHtml;\n",
              "        element.appendChild(docLink);\n",
              "      }\n",
              "    </script>\n",
              "  </div>\n",
              "\n",
              "\n",
              "<div id=\"df-0cec98dd-3e04-435b-a2d4-55f35c01ecfc\">\n",
              "  <button class=\"colab-df-quickchart\" onclick=\"quickchart('df-0cec98dd-3e04-435b-a2d4-55f35c01ecfc')\"\n",
              "            title=\"Suggest charts\"\n",
              "            style=\"display:none;\">\n",
              "\n",
              "<svg xmlns=\"http://www.w3.org/2000/svg\" height=\"24px\"viewBox=\"0 0 24 24\"\n",
              "     width=\"24px\">\n",
              "    <g>\n",
              "        <path d=\"M19 3H5c-1.1 0-2 .9-2 2v14c0 1.1.9 2 2 2h14c1.1 0 2-.9 2-2V5c0-1.1-.9-2-2-2zM9 17H7v-7h2v7zm4 0h-2V7h2v10zm4 0h-2v-4h2v4z\"/>\n",
              "    </g>\n",
              "</svg>\n",
              "  </button>\n",
              "\n",
              "<style>\n",
              "  .colab-df-quickchart {\n",
              "      --bg-color: #E8F0FE;\n",
              "      --fill-color: #1967D2;\n",
              "      --hover-bg-color: #E2EBFA;\n",
              "      --hover-fill-color: #174EA6;\n",
              "      --disabled-fill-color: #AAA;\n",
              "      --disabled-bg-color: #DDD;\n",
              "  }\n",
              "\n",
              "  [theme=dark] .colab-df-quickchart {\n",
              "      --bg-color: #3B4455;\n",
              "      --fill-color: #D2E3FC;\n",
              "      --hover-bg-color: #434B5C;\n",
              "      --hover-fill-color: #FFFFFF;\n",
              "      --disabled-bg-color: #3B4455;\n",
              "      --disabled-fill-color: #666;\n",
              "  }\n",
              "\n",
              "  .colab-df-quickchart {\n",
              "    background-color: var(--bg-color);\n",
              "    border: none;\n",
              "    border-radius: 50%;\n",
              "    cursor: pointer;\n",
              "    display: none;\n",
              "    fill: var(--fill-color);\n",
              "    height: 32px;\n",
              "    padding: 0;\n",
              "    width: 32px;\n",
              "  }\n",
              "\n",
              "  .colab-df-quickchart:hover {\n",
              "    background-color: var(--hover-bg-color);\n",
              "    box-shadow: 0 1px 2px rgba(60, 64, 67, 0.3), 0 1px 3px 1px rgba(60, 64, 67, 0.15);\n",
              "    fill: var(--button-hover-fill-color);\n",
              "  }\n",
              "\n",
              "  .colab-df-quickchart-complete:disabled,\n",
              "  .colab-df-quickchart-complete:disabled:hover {\n",
              "    background-color: var(--disabled-bg-color);\n",
              "    fill: var(--disabled-fill-color);\n",
              "    box-shadow: none;\n",
              "  }\n",
              "\n",
              "  .colab-df-spinner {\n",
              "    border: 2px solid var(--fill-color);\n",
              "    border-color: transparent;\n",
              "    border-bottom-color: var(--fill-color);\n",
              "    animation:\n",
              "      spin 1s steps(1) infinite;\n",
              "  }\n",
              "\n",
              "  @keyframes spin {\n",
              "    0% {\n",
              "      border-color: transparent;\n",
              "      border-bottom-color: var(--fill-color);\n",
              "      border-left-color: var(--fill-color);\n",
              "    }\n",
              "    20% {\n",
              "      border-color: transparent;\n",
              "      border-left-color: var(--fill-color);\n",
              "      border-top-color: var(--fill-color);\n",
              "    }\n",
              "    30% {\n",
              "      border-color: transparent;\n",
              "      border-left-color: var(--fill-color);\n",
              "      border-top-color: var(--fill-color);\n",
              "      border-right-color: var(--fill-color);\n",
              "    }\n",
              "    40% {\n",
              "      border-color: transparent;\n",
              "      border-right-color: var(--fill-color);\n",
              "      border-top-color: var(--fill-color);\n",
              "    }\n",
              "    60% {\n",
              "      border-color: transparent;\n",
              "      border-right-color: var(--fill-color);\n",
              "    }\n",
              "    80% {\n",
              "      border-color: transparent;\n",
              "      border-right-color: var(--fill-color);\n",
              "      border-bottom-color: var(--fill-color);\n",
              "    }\n",
              "    90% {\n",
              "      border-color: transparent;\n",
              "      border-bottom-color: var(--fill-color);\n",
              "    }\n",
              "  }\n",
              "</style>\n",
              "\n",
              "  <script>\n",
              "    async function quickchart(key) {\n",
              "      const quickchartButtonEl =\n",
              "        document.querySelector('#' + key + ' button');\n",
              "      quickchartButtonEl.disabled = true;  // To prevent multiple clicks.\n",
              "      quickchartButtonEl.classList.add('colab-df-spinner');\n",
              "      try {\n",
              "        const charts = await google.colab.kernel.invokeFunction(\n",
              "            'suggestCharts', [key], {});\n",
              "      } catch (error) {\n",
              "        console.error('Error during call to suggestCharts:', error);\n",
              "      }\n",
              "      quickchartButtonEl.classList.remove('colab-df-spinner');\n",
              "      quickchartButtonEl.classList.add('colab-df-quickchart-complete');\n",
              "    }\n",
              "    (() => {\n",
              "      let quickchartButtonEl =\n",
              "        document.querySelector('#df-0cec98dd-3e04-435b-a2d4-55f35c01ecfc button');\n",
              "      quickchartButtonEl.style.display =\n",
              "        google.colab.kernel.accessAllowed ? 'block' : 'none';\n",
              "    })();\n",
              "  </script>\n",
              "</div>\n",
              "\n",
              "    </div>\n",
              "  </div>\n"
            ],
            "application/vnd.google.colaboratory.intrinsic+json": {
              "type": "dataframe",
              "variable_name": "df",
              "summary": "{\n  \"name\": \"df\",\n  \"rows\": 6497,\n  \"fields\": [\n    {\n      \"column\": \"Review\",\n      \"properties\": {\n        \"dtype\": \"string\",\n        \"num_unique_values\": 6482,\n        \"samples\": [\n          \"I'd rather watch paint dry sit again.\",\n          \"\\\"I'm amazed film managed transport another world entirely. testament power storytelling imagination.\\\"\",\n          \"\\\"Freddy's Dead\\\" smartest thing could've done disappointment fifth film. started scratch. Sure, \\\"final\\\" film saga silly least original. visuals even bit breath-taking. story Freddy's kid (Lisa Zane) returning town face evil father unique.Overall, movie nothing another cartoon made get kids theater. bunch good actors (Zane, Yaphet Kotto, Lezlie Deane) basically look dumb wander around like sheep ready slaughter. one-sided, magic-trick, and, end, nothing goofy, childish entertainment.\"\n        ],\n        \"semantic_type\": \"\",\n        \"description\": \"\"\n      }\n    },\n    {\n      \"column\": \"Sentiment\",\n      \"properties\": {\n        \"dtype\": \"category\",\n        \"num_unique_values\": 3,\n        \"samples\": [\n          \"positive\",\n          \"negative\",\n          \"neutral\"\n        ],\n        \"semantic_type\": \"\",\n        \"description\": \"\"\n      }\n    },\n    {\n      \"column\": \"Sarcasm\",\n      \"properties\": {\n        \"dtype\": \"category\",\n        \"num_unique_values\": 2,\n        \"samples\": [\n          \"sarcastic\",\n          \"non-sarcastic\"\n        ],\n        \"semantic_type\": \"\",\n        \"description\": \"\"\n      }\n    },\n    {\n      \"column\": \"Lemmatized_Review\",\n      \"properties\": {\n        \"dtype\": \"string\",\n        \"num_unique_values\": 6478,\n        \"samples\": [\n          \"damn good little ninety thriller that , perhaps lack substance , still provide great entertainment throughout run time overall everything could possibly want film nature do . see film principally direct John Dahl - highly underrated director behind great thriller last seduction , Rounders Roadkill . figure film standard I have already see director , would well worth watch - Red Rock West certainly film Dahl proud of . plot focus overly moral Michael man travel across America look work . end find one day stumble upon bar Red Rock County - catch job murder man 's wife . he be mistaken killer name Lyle , instead job play side eventually plan make getaway . however , attempt escape unsuccessful find bad situation real Lyle turn up ... John Dahl appear enjoy set thriller road three year early Kill Again , almost decade film Roadkill . hard see Dahl choose sort location , provide fabulous atmosphere thriller like one . Dahl also provide film ' film noir ' like atmosphere , plot mainly focus central character word plunge full dark mysterious character . act largely good , Nicholas Cage excellent job lead role , get a - class support Lara Flynn Boyle , J.T. Walsh and , course , Dennis Hopper command screen top performance . say second half film grip first , Red Rock West certainly never bore way Dahl orchestrate grand finale excellent central character get part it . overall , Red Rock West film unlikely regret watch . thrilling throughout , can not ask much that !\",\n          \"movie get big disappointment I have ever experience film . act horrific , suspense build minimal , plot overall ridiculous . find root victim hurry become victim , obviously need put misery . anyone rudimentary knowledge world work immediately disgust leap we be ask make logic , so - call suspenseful buildup would lucky get 3 year old mildly worried . I be dismayed sequel plan , mean they will ask we swallow sub par plot line . example Raw Feed 's work , think I will avoid future film they .\"\n        ],\n        \"semantic_type\": \"\",\n        \"description\": \"\"\n      }\n    },\n    {\n      \"column\": \"Tokenized_Review\",\n      \"properties\": {\n        \"dtype\": \"string\",\n        \"num_unique_values\": 6478,\n        \"samples\": [\n          \"['damn', 'good', 'little', 'ninety', 'thriller', 'that', ',', 'perhaps', 'lack', 'substance', ',', 'still', 'provide', 'great', 'entertainment', 'throughout', 'run', 'time', 'overall', 'everything', 'could', 'possibly', 'want', 'film', 'nature', 'do', '.', 'see', 'film', 'principally', 'direct', 'John', 'Dahl', '-', 'highly', 'underrated', 'director', 'behind', 'great', 'thriller', 'last', 'seduction', ',', 'Rounders', 'Roadkill', '.', 'figure', 'film', 'standard', 'I', 'have', 'already', 'see', 'director', ',', 'would', 'well', 'worth', 'watch', '-', 'Red', 'Rock', 'West', 'certainly', 'film', 'Dahl', 'proud', 'of', '.', 'plot', 'focus', 'overly', 'moral', 'Michael', 'man', 'travel', 'across', 'America', 'look', 'work', '.', 'end', 'find', 'one', 'day', 'stumble', 'upon', 'bar', 'Red', 'Rock', 'County', '-', 'catch', 'job', 'murder', 'man', \\\"'s\\\", 'wife', '.', 'he', 'be', 'mistaken', 'killer', 'name', 'Lyle', ',', 'instead', 'job', 'play', 'side', 'eventually', 'plan', 'make', 'getaway', '.', 'however', ',', 'attempt', 'escape', 'unsuccessful', 'find', 'bad', 'situation', 'real', 'Lyle', 'turn', 'up', '...', 'John', 'Dahl', 'appear', 'enjoy', 'set', 'thriller', 'road', 'three', 'year', 'early', 'Kill', 'Again', ',', 'almost', 'decade', 'film', 'Roadkill', '.', 'hard', 'see', 'Dahl', 'choose', 'sort', 'location', ',', 'provide', 'fabulous', 'atmosphere', 'thriller', 'like', 'one', '.', 'Dahl', 'also', 'provide', 'film', \\\"'\\\", 'film', 'noir', \\\"'\\\", 'like', 'atmosphere', ',', 'plot', 'mainly', 'focus', 'central', 'character', 'word', 'plunge', 'full', 'dark', 'mysterious', 'character', '.', 'act', 'largely', 'good', ',', 'Nicholas', 'Cage', 'excellent', 'job', 'lead', 'role', ',', 'get', 'a', '-', 'class', 'support', 'Lara', 'Flynn', 'Boyle', ',', 'J.T', '.', 'Walsh', 'and', ',', 'course', ',', 'Dennis', 'Hopper', 'command', 'screen', 'top', 'performance', '.', 'say', 'second', 'half', 'film', 'grip', 'first', ',', 'Red', 'Rock', 'West', 'certainly', 'never', 'bore', 'way', 'Dahl', 'orchestrate', 'grand', 'finale', 'excellent', 'central', 'character', 'get', 'part', 'it', '.', 'overall', ',', 'Red', 'Rock', 'West', 'film', 'unlikely', 'regret', 'watch', '.', 'thrilling', 'throughout', ',', 'can', 'not', 'ask', 'much', 'that', '!']\",\n          \"['movie', 'get', 'big', 'disappointment', 'I', 'have', 'ever', 'experience', 'film', '.', 'act', 'horrific', ',', 'suspense', 'build', 'minimal', ',', 'plot', 'overall', 'ridiculous', '.', 'find', 'root', 'victim', 'hurry', 'become', 'victim', ',', 'obviously', 'need', 'put', 'misery', '.', 'anyone', 'rudimentary', 'knowledge', 'world', 'work', 'immediately', 'disgust', 'leap', 'we', 'be', 'ask', 'make', 'logic', ',', 'so', '-', 'call', 'suspenseful', 'buildup', 'would', 'lucky', 'get', '3', 'year', 'old', 'mildly', 'worried', '.', 'I', 'be', 'dismayed', 'sequel', 'plan', ',', 'mean', 'they', 'will', 'ask', 'we', 'swallow', 'sub', 'par', 'plot', 'line', '.', 'example', 'Raw', 'Feed', \\\"'s\\\", 'work', ',', 'think', 'I', 'will', 'avoid', 'future', 'film', 'they', '.']\"\n        ],\n        \"semantic_type\": \"\",\n        \"description\": \"\"\n      }\n    },\n    {\n      \"column\": \"Sentiment_Label\",\n      \"properties\": {\n        \"dtype\": \"number\",\n        \"std\": 0,\n        \"min\": 0,\n        \"max\": 2,\n        \"num_unique_values\": 3,\n        \"samples\": [\n          2,\n          0\n        ],\n        \"semantic_type\": \"\",\n        \"description\": \"\"\n      }\n    },\n    {\n      \"column\": \"Sarcasm_Label\",\n      \"properties\": {\n        \"dtype\": \"number\",\n        \"std\": 0,\n        \"min\": 0,\n        \"max\": 1,\n        \"num_unique_values\": 2,\n        \"samples\": [\n          1,\n          0\n        ],\n        \"semantic_type\": \"\",\n        \"description\": \"\"\n      }\n    },\n    {\n      \"column\": \"word2vec_vector\",\n      \"properties\": {\n        \"dtype\": \"string\",\n        \"num_unique_values\": 6474,\n        \"samples\": [\n          \"[-3.24900707e-01  6.97114689e-01  2.26793894e-01  1.03066086e-01\\n -5.94358544e-02 -1.03108670e+00  6.42660962e-01  1.21541261e+00\\n -4.35291892e-01 -6.19873325e-01  1.16483213e-01 -7.57517428e-01\\n -4.15467410e-01  4.17726865e-01  1.16625719e-01 -2.23502915e-01\\n  1.51002999e-01 -1.42148025e-01  4.72371156e-02 -1.13124923e+00\\n  2.58789215e-01  4.42949784e-01  5.31792592e-01 -3.34385925e-01\\n -4.07603645e-01 -6.23629693e-02 -4.62632889e-01 -3.22352912e-01\\n -4.75669860e-01  4.14741271e-03  5.98131893e-01 -3.45347124e-02\\n  3.19653863e-01 -6.49854902e-01 -3.33759619e-01  5.46092231e-01\\n  1.46549132e-01 -7.74505563e-02 -1.64154748e-01 -6.46254360e-01\\n  4.32484315e-01 -6.18648399e-01 -3.79262635e-01  2.00492572e-01\\n  4.86058024e-01  6.88523861e-02 -5.51645450e-01 -2.70858081e-02\\n  3.36980714e-01  3.23619924e-01  2.01909025e-01 -4.14370159e-01\\n  8.11772757e-02 -6.35154641e-03  3.20353280e-02  1.86862961e-01\\n  4.69708313e-01 -4.41094480e-02 -6.67539199e-01  2.30786520e-01\\n  1.25653994e-01  2.36834420e-01  1.11673281e-02  1.17734346e-01\\n -4.70306213e-01  5.81853242e-01  2.73378118e-01  2.58743372e-01\\n -7.09542619e-01  2.91463609e-01 -2.42916880e-01  2.59118444e-01\\n  5.04778918e-01 -1.56416415e-01  8.08729289e-01  2.59455999e-01\\n -8.36364807e-02 -2.94144669e-01 -3.85096919e-01  6.17536103e-02\\n -3.81732234e-01  1.57359436e-01 -9.63574215e-02  6.11295665e-01\\n -1.53698802e-01 -2.56397986e-01  1.97747926e-01  6.05509465e-01\\n  6.43732741e-01  5.32307359e-01  6.75418642e-01  2.59615275e-01\\n  1.38030395e-01 -4.16503850e-04  9.59951860e-01  4.44751273e-01\\n  2.89032238e-02 -4.13589855e-01 -1.17561762e-01  1.67467679e-01]\",\n          \"[-0.51528076  0.62999265  0.34768838  0.04109166 -0.23936851 -1.22484763\\n  0.65081042  1.55546571 -0.36464467 -0.80994054  0.13488922 -0.8058279\\n -0.44548444  0.48595738  0.20192216 -0.40118077  0.2684738   0.01550735\\n  0.0219941  -1.33329075  0.24282084  0.43770228  0.58790516 -0.28451621\\n -0.536679    0.06932363 -0.52372424 -0.23837234 -0.5352157   0.11170491\\n  0.48514296 -0.06171587  0.33539223 -0.87481198 -0.48930284  0.56950449\\n  0.21919503 -0.15559486 -0.19762203 -0.57618257  0.41424134 -0.54137372\\n -0.39225923  0.05343275  0.49709567 -0.00499736 -0.49679793 -0.14544546\\n  0.32252581  0.48795371  0.16909291 -0.49284478 -0.02605932 -0.04039092\\n -0.02406979  0.20980195  0.50530302 -0.08069469 -0.59542768  0.34525043\\n  0.15344124  0.10046143  0.1464648   0.14270705 -0.45447815  0.59607983\\n  0.4098379   0.49812061 -0.94331478  0.46702179 -0.14076833  0.42577784\\n  0.57892972 -0.13754306  1.04817227  0.36878655  0.0560374  -0.31564214\\n -0.65078284  0.18108627 -0.47655865  0.26591181 -0.21947477  0.88873189\\n -0.27869942 -0.42282937  0.2243511   0.60085666  0.65302722  0.64377339\\n  0.89917482  0.24745624  0.23037507 -0.13216948  1.30042943  0.70888309\\n  0.11537293 -0.35017313 -0.1770473   0.16076528]\"\n        ],\n        \"semantic_type\": \"\",\n        \"description\": \"\"\n      }\n    }\n  ]\n}"
            }
          },
          "metadata": {},
          "execution_count": 16
        }
      ]
    },
    {
      "cell_type": "markdown",
      "source": [
        "### Step 2 : check for class imbalance in dataset\n",
        "Our dataset have columns Sentiment_Label and Sarcasm_Label that represent target variables. <br>\n",
        "Typically, this involves counting the occurrences of each class within target variables and then assessing whether there is a significant disparity between the counts of different classes."
      ],
      "metadata": {
        "id": "ThkZcPwWY41P"
      }
    },
    {
      "cell_type": "code",
      "source": [
        "# Check class distribution for Sarcasm_Label\n",
        "sarcasm_counts = df['Sarcasm_Label'].value_counts()\n",
        "print(\"\\nSarcasm Label Distribution:\")\n",
        "print(sarcasm_counts)\n",
        "print()\n",
        "\n",
        "# Determine if Sarcasm_Label is imbalanced\n",
        "is_imbalanced = False\n",
        "for count in sarcasm_counts:\n",
        "    if count < 0.2 * sarcasm_counts.sum():\n",
        "        is_imbalanced = True\n",
        "        break\n",
        "\n",
        "if is_imbalanced:\n",
        "    print(\"Sarcasm Label is imbalanced\")\n",
        "else:\n",
        "    print(\"Sarcasm Label is balanced\")"
      ],
      "metadata": {
        "colab": {
          "base_uri": "https://localhost:8080/"
        },
        "id": "MRu9miYABlo3",
        "outputId": "183dce0e-39b9-4516-b27b-d5faf0b4cd92"
      },
      "execution_count": 17,
      "outputs": [
        {
          "output_type": "stream",
          "name": "stdout",
          "text": [
            "\n",
            "Sarcasm Label Distribution:\n",
            "Sarcasm_Label\n",
            "1    3518\n",
            "0    2979\n",
            "Name: count, dtype: int64\n",
            "\n",
            "Sarcasm Label is balanced\n"
          ]
        }
      ]
    },
    {
      "cell_type": "code",
      "source": [
        "# Check class distribution for Sentiment_Label\n",
        "sentiment_counts = df['Sentiment_Label'].value_counts()\n",
        "print(\"Sentiment Label Distribution:\")\n",
        "print(sentiment_counts)\n",
        "print()\n",
        "\n",
        "# Determine if Sentiment_Label is imbalanced\n",
        "is_imbalanced = False\n",
        "for count in sentiment_counts:\n",
        "    if count < 0.2 * sentiment_counts.sum():\n",
        "        is_imbalanced = True\n",
        "        break\n",
        "\n",
        "if is_imbalanced:\n",
        "    print(\"Sentiment Label is imbalanced\")\n",
        "else:\n",
        "    print(\"Sentiment Label is balanced\")"
      ],
      "metadata": {
        "colab": {
          "base_uri": "https://localhost:8080/"
        },
        "id": "oQlP4UTaBl4x",
        "outputId": "e121e11b-7112-48a8-8866-ef85c2e6ab6f"
      },
      "execution_count": 18,
      "outputs": [
        {
          "output_type": "stream",
          "name": "stdout",
          "text": [
            "Sentiment Label Distribution:\n",
            "Sentiment_Label\n",
            "0    4184\n",
            "2    2300\n",
            "1      13\n",
            "Name: count, dtype: int64\n",
            "\n",
            "Sentiment Label is imbalanced\n"
          ]
        }
      ]
    },
    {
      "cell_type": "markdown",
      "source": [
        "**Output Explanation** :<br>\n",
        "\n",
        "**Sentiment_Label Distribution** : calculates the counts of each unique value in the Sentiment_Label column.<br>\n",
        "\n",
        "**Check Imbalance** : The loop for count in sentiment_counts iterates through the counts of each unique value. If any count is less than 20% of the total count ***(0.2 * sentiment_counts.sum())***, it flags the label as imbalanced.<br>\n",
        "\n",
        "**Sarcasm_Label Distribution** : Similarly, calculates the counts of each unique value in the Sarcasm_Label column.<br>\n",
        "\n",
        "**Check Imbalance for Sarcasm_Label** : The loop for count in sarcasm_counts iterates through the counts of each unique value. If any count is less than 20% of the total count ***(0.2 * sarcasm_counts.sum())***, it flags the label as imbalanced.<br>\n",
        "\n",
        "This approach allows us to check for imbalance in columns with three unique values (0, 1, and 2). Adjust the threshold (0.2 in this case) according to specific dataset and imbalance criteria.<br>"
      ],
      "metadata": {
        "id": "nTEnsJNqIxYJ"
      }
    },
    {
      "cell_type": "markdown",
      "source": [
        "### Step 3 : Train Machine Learning Models\n",
        "1. Logistic Regression"
      ],
      "metadata": {
        "id": "w3i7DO0RbJ-5"
      }
    },
    {
      "cell_type": "code",
      "source": [
        "import pandas as pd\n",
        "import numpy as np\n",
        "from sklearn.model_selection import train_test_split\n",
        "from sklearn.linear_model import LogisticRegression\n",
        "from sklearn.metrics import accuracy_score, classification_report\n",
        "from sklearn.feature_extraction.text import TfidfVectorizer\n",
        "\n",
        "# Extract features and labels\n",
        "X_text = df['Tokenized_Review'].astype(str)  # Ensure text is treated as string\n",
        "y = df['Sarcasm_Label']\n",
        "\n",
        "# Split the dataset into training and testing sets\n",
        "X_train_text, X_test_text, y_train, y_test = train_test_split(X_text, y, test_size=0.2, random_state=42)\n",
        "\n",
        "# Convert text data to TF-IDF features\n",
        "tfidf = TfidfVectorizer()\n",
        "X_train_tfidf = tfidf.fit_transform(X_train_text)\n",
        "X_test_tfidf = tfidf.transform(X_test_text)\n",
        "\n",
        "# Train the model\n",
        "log_reg = LogisticRegression(max_iter=1000)\n",
        "log_reg.fit(X_train_tfidf, y_train)\n",
        "\n",
        "# Make predictions\n",
        "y_pred = log_reg.predict(X_test_tfidf)\n",
        "\n",
        "# Evaluate the model\n",
        "print(\"Logistic Regression Performance:\")\n",
        "print(\"Accuracy:\", accuracy_score(y_test, y_pred))\n",
        "print(\"Classification Report:\\n\", classification_report(y_test, y_pred))\n"
      ],
      "metadata": {
        "colab": {
          "base_uri": "https://localhost:8080/"
        },
        "id": "CH0jsFvAbFS4",
        "outputId": "e9b395b8-d217-4deb-82c8-9cf433216c6b"
      },
      "execution_count": 29,
      "outputs": [
        {
          "output_type": "stream",
          "name": "stdout",
          "text": [
            "Logistic Regression Performance:\n",
            "Accuracy: 0.8253846153846154\n",
            "Classification Report:\n",
            "               precision    recall  f1-score   support\n",
            "\n",
            "           0       0.79      0.86      0.82       604\n",
            "           1       0.86      0.80      0.83       696\n",
            "\n",
            "    accuracy                           0.83      1300\n",
            "   macro avg       0.83      0.83      0.83      1300\n",
            "weighted avg       0.83      0.83      0.83      1300\n",
            "\n"
          ]
        }
      ]
    },
    {
      "cell_type": "code",
      "source": [
        "# Now, let's test the model with new random reviews\n",
        "new_reviews = ['This is funny horror movie!', 'Great comedy movie.']\n",
        "\n",
        "# Transform these new reviews using the same TF-IDF vectorizer\n",
        "new_reviews_tfidf = tfidf.transform(new_reviews)\n",
        "\n",
        "# Predict the labels for the new reviews\n",
        "new_predictions = log_reg.predict(new_reviews_tfidf)\n",
        "\n",
        "# Output the predictions for the new reviews\n",
        "for review, prediction in zip(new_reviews, new_predictions):\n",
        "    print(f'Review: \"{review}\" - Predicted Label: {prediction}')"
      ],
      "metadata": {
        "colab": {
          "base_uri": "https://localhost:8080/"
        },
        "id": "QCtLeW-AMHt5",
        "outputId": "dec9184c-d676-4679-f0ef-eccd58833d96"
      },
      "execution_count": 36,
      "outputs": [
        {
          "output_type": "stream",
          "name": "stdout",
          "text": [
            "Review: \"This is funny horror movie!\" - Predicted Label: 1\n",
            "Review: \"Great comedy movie.\" - Predicted Label: 0\n"
          ]
        }
      ]
    },
    {
      "cell_type": "markdown",
      "source": [
        "2. XGBoost"
      ],
      "metadata": {
        "id": "ysa4vi3VdwkX"
      }
    },
    {
      "cell_type": "code",
      "source": [
        "import pandas as pd\n",
        "import numpy as np\n",
        "from sklearn.model_selection import train_test_split\n",
        "from sklearn.feature_extraction.text import TfidfVectorizer\n",
        "from xgboost import XGBClassifier\n",
        "from sklearn.metrics import accuracy_score, classification_report\n",
        "\n",
        "# Extract features and labels\n",
        "X_text = df['Tokenized_Review'].astype(str)  # Ensure text is treated as string\n",
        "y = df['Sarcasm_Label']\n",
        "\n",
        "# Split the dataset into training and testing sets\n",
        "X_train_text, X_test_text, y_train, y_test = train_test_split(X_text, y, test_size=0.2, random_state=42)\n",
        "\n",
        "# Convert text to numerical features using TF-IDF\n",
        "tfidf_vectorizer = TfidfVectorizer(max_features=1000)  # Adjust max_features as needed\n",
        "X_train = tfidf_vectorizer.fit_transform(X_train_text)\n",
        "X_test = tfidf_vectorizer.transform(X_test_text)\n",
        "\n",
        "# Train the model with early stopping\n",
        "xgb_model = XGBClassifier(use_label_encoder=False, eval_metric='logloss', max_depth=6, n_estimators=1000)\n",
        "xgb_model.fit(X_train, y_train, early_stopping_rounds=10, eval_set=[(X_test, y_test)], verbose=True)\n",
        "\n",
        "# Make predictions\n",
        "y_pred = xgb_model.predict(X_test)\n",
        "\n",
        "# Evaluate the model\n",
        "print(\"XGBoost Performance:\")\n",
        "print(\"Accuracy:\", accuracy_score(y_test, y_pred))\n",
        "print(\"Classification Report:\\n\", classification_report(y_test, y_pred))"
      ],
      "metadata": {
        "colab": {
          "base_uri": "https://localhost:8080/"
        },
        "id": "DT5MP6A2bFek",
        "outputId": "270f6f1e-d914-4c68-be2d-23302d36e8f4"
      },
      "execution_count": 40,
      "outputs": [
        {
          "output_type": "stream",
          "name": "stderr",
          "text": [
            "/usr/local/lib/python3.10/dist-packages/xgboost/sklearn.py:889: UserWarning: `early_stopping_rounds` in `fit` method is deprecated for better compatibility with scikit-learn, use `early_stopping_rounds` in constructor or`set_params` instead.\n",
            "  warnings.warn(\n"
          ]
        },
        {
          "output_type": "stream",
          "name": "stdout",
          "text": [
            "[0]\tvalidation_0-logloss:0.61096\n",
            "[1]\tvalidation_0-logloss:0.56622\n",
            "[2]\tvalidation_0-logloss:0.53604\n",
            "[3]\tvalidation_0-logloss:0.51524\n",
            "[4]\tvalidation_0-logloss:0.50120\n",
            "[5]\tvalidation_0-logloss:0.49107\n",
            "[6]\tvalidation_0-logloss:0.48162\n",
            "[7]\tvalidation_0-logloss:0.47344\n",
            "[8]\tvalidation_0-logloss:0.46717\n",
            "[9]\tvalidation_0-logloss:0.46420\n",
            "[10]\tvalidation_0-logloss:0.46269\n",
            "[11]\tvalidation_0-logloss:0.45940\n",
            "[12]\tvalidation_0-logloss:0.45398\n",
            "[13]\tvalidation_0-logloss:0.45126\n",
            "[14]\tvalidation_0-logloss:0.44997\n",
            "[15]\tvalidation_0-logloss:0.44788\n",
            "[16]\tvalidation_0-logloss:0.44537\n",
            "[17]\tvalidation_0-logloss:0.44607\n",
            "[18]\tvalidation_0-logloss:0.44572\n",
            "[19]\tvalidation_0-logloss:0.44296\n",
            "[20]\tvalidation_0-logloss:0.44127\n",
            "[21]\tvalidation_0-logloss:0.44117\n",
            "[22]\tvalidation_0-logloss:0.43859\n",
            "[23]\tvalidation_0-logloss:0.43554\n",
            "[24]\tvalidation_0-logloss:0.43508\n",
            "[25]\tvalidation_0-logloss:0.43581\n",
            "[26]\tvalidation_0-logloss:0.43530\n",
            "[27]\tvalidation_0-logloss:0.43427\n",
            "[28]\tvalidation_0-logloss:0.43493\n",
            "[29]\tvalidation_0-logloss:0.43585\n",
            "[30]\tvalidation_0-logloss:0.43473\n",
            "[31]\tvalidation_0-logloss:0.43414\n",
            "[32]\tvalidation_0-logloss:0.43304\n",
            "[33]\tvalidation_0-logloss:0.43173\n",
            "[34]\tvalidation_0-logloss:0.43185\n",
            "[35]\tvalidation_0-logloss:0.43100\n",
            "[36]\tvalidation_0-logloss:0.43169\n",
            "[37]\tvalidation_0-logloss:0.43074\n",
            "[38]\tvalidation_0-logloss:0.42871\n",
            "[39]\tvalidation_0-logloss:0.42718\n",
            "[40]\tvalidation_0-logloss:0.42714\n",
            "[41]\tvalidation_0-logloss:0.42719\n",
            "[42]\tvalidation_0-logloss:0.42519\n",
            "[43]\tvalidation_0-logloss:0.42576\n",
            "[44]\tvalidation_0-logloss:0.42495\n",
            "[45]\tvalidation_0-logloss:0.42543\n",
            "[46]\tvalidation_0-logloss:0.42543\n",
            "[47]\tvalidation_0-logloss:0.42657\n",
            "[48]\tvalidation_0-logloss:0.42589\n",
            "[49]\tvalidation_0-logloss:0.42550\n",
            "[50]\tvalidation_0-logloss:0.42460\n",
            "[51]\tvalidation_0-logloss:0.42445\n",
            "[52]\tvalidation_0-logloss:0.42443\n",
            "[53]\tvalidation_0-logloss:0.42409\n",
            "[54]\tvalidation_0-logloss:0.42275\n",
            "[55]\tvalidation_0-logloss:0.42113\n",
            "[56]\tvalidation_0-logloss:0.42002\n",
            "[57]\tvalidation_0-logloss:0.42087\n",
            "[58]\tvalidation_0-logloss:0.42034\n",
            "[59]\tvalidation_0-logloss:0.41891\n",
            "[60]\tvalidation_0-logloss:0.41910\n",
            "[61]\tvalidation_0-logloss:0.41898\n",
            "[62]\tvalidation_0-logloss:0.41880\n",
            "[63]\tvalidation_0-logloss:0.41881\n",
            "[64]\tvalidation_0-logloss:0.41934\n",
            "[65]\tvalidation_0-logloss:0.41922\n",
            "[66]\tvalidation_0-logloss:0.41850\n",
            "[67]\tvalidation_0-logloss:0.41786\n",
            "[68]\tvalidation_0-logloss:0.41747\n",
            "[69]\tvalidation_0-logloss:0.41749\n",
            "[70]\tvalidation_0-logloss:0.41824\n",
            "[71]\tvalidation_0-logloss:0.41699\n",
            "[72]\tvalidation_0-logloss:0.41717\n",
            "[73]\tvalidation_0-logloss:0.41752\n",
            "[74]\tvalidation_0-logloss:0.41763\n",
            "[75]\tvalidation_0-logloss:0.41782\n",
            "[76]\tvalidation_0-logloss:0.41768\n",
            "[77]\tvalidation_0-logloss:0.41854\n",
            "[78]\tvalidation_0-logloss:0.41949\n",
            "[79]\tvalidation_0-logloss:0.41901\n",
            "[80]\tvalidation_0-logloss:0.41817\n",
            "[81]\tvalidation_0-logloss:0.41818\n",
            "XGBoost Performance:\n",
            "Accuracy: 0.816923076923077\n",
            "Classification Report:\n",
            "               precision    recall  f1-score   support\n",
            "\n",
            "           0       0.79      0.83      0.81       604\n",
            "           1       0.84      0.81      0.83       696\n",
            "\n",
            "    accuracy                           0.82      1300\n",
            "   macro avg       0.82      0.82      0.82      1300\n",
            "weighted avg       0.82      0.82      0.82      1300\n",
            "\n"
          ]
        }
      ]
    },
    {
      "cell_type": "code",
      "source": [
        "# Now, let's test the model with new random movie reviews\n",
        "new_reviews = ['This is funny horror movie!', 'Great comedy movie.']\n",
        "\n",
        "# Transform these new reviews using the same TF-IDF vectorizer\n",
        "new_reviews_tfidf = tfidf_vectorizer.transform(new_reviews)\n",
        "\n",
        "# Predict the labels for the new reviews\n",
        "new_predictions = xgb_model.predict(new_reviews_tfidf)\n",
        "\n",
        "# Output the predictions for the new reviews\n",
        "for review, prediction in zip(new_reviews, new_predictions):\n",
        "    print(f'Review: \"{review}\" - Predicted Label: {prediction}')"
      ],
      "metadata": {
        "colab": {
          "base_uri": "https://localhost:8080/"
        },
        "id": "O1X_-lWuOMjW",
        "outputId": "1a080524-9058-4a8b-fbec-960a0bb8e865"
      },
      "execution_count": 42,
      "outputs": [
        {
          "output_type": "stream",
          "name": "stdout",
          "text": [
            "Review: \"This is funny horror movie!\" - Predicted Label: 1\n",
            "Review: \"Great comedy movie.\" - Predicted Label: 0\n"
          ]
        }
      ]
    },
    {
      "cell_type": "markdown",
      "source": [
        "3. Random Forest Classifier"
      ],
      "metadata": {
        "id": "BOEQwjPOd_hN"
      }
    },
    {
      "cell_type": "code",
      "source": [
        "import pandas as pd\n",
        "import numpy as np\n",
        "from sklearn.model_selection import train_test_split\n",
        "from sklearn.feature_extraction.text import TfidfVectorizer\n",
        "from sklearn.ensemble import RandomForestClassifier\n",
        "from sklearn.metrics import accuracy_score, classification_report\n",
        "\n",
        "# Convert text to numerical features using TF-IDF\n",
        "tfidf_vectorizer = TfidfVectorizer(max_features=1000)  # Adjust max_features as needed\n",
        "X_train = tfidf_vectorizer.fit_transform(X_train_text)\n",
        "X_test = tfidf_vectorizer.transform(X_test_text)\n",
        "\n",
        "# Train the model\n",
        "rf = RandomForestClassifier(random_state=42)\n",
        "rf.fit(X_train, y_train)\n",
        "\n",
        "# Make predictions\n",
        "y_pred = rf.predict(X_test)\n",
        "\n",
        "# Evaluate the model\n",
        "print(\"Random Forest Performance:\")\n",
        "print(\"Accuracy:\", accuracy_score(y_test, y_pred))\n",
        "print(\"Classification Report:\\n\", classification_report(y_test, y_pred))\n"
      ],
      "metadata": {
        "colab": {
          "base_uri": "https://localhost:8080/"
        },
        "id": "7bzBRrOYbFhJ",
        "outputId": "c3deb71a-a29f-4373-e064-48bf78209660"
      },
      "execution_count": 43,
      "outputs": [
        {
          "output_type": "stream",
          "name": "stdout",
          "text": [
            "Random Forest Performance:\n",
            "Accuracy: 0.8246153846153846\n",
            "Classification Report:\n",
            "               precision    recall  f1-score   support\n",
            "\n",
            "           0       0.76      0.90      0.83       604\n",
            "           1       0.90      0.76      0.82       696\n",
            "\n",
            "    accuracy                           0.82      1300\n",
            "   macro avg       0.83      0.83      0.82      1300\n",
            "weighted avg       0.84      0.82      0.82      1300\n",
            "\n"
          ]
        }
      ]
    },
    {
      "cell_type": "code",
      "source": [
        "# Now, let's test the model with new sarcastic movie reviews\n",
        "new_reviews = ['This is a hilarious movie, NOT!', 'What a masterpiece of bad acting!', 'Great, another boring film.']\n",
        "\n",
        "# Transform these new reviews using the same TF-IDF vectorizer\n",
        "new_reviews_tfidf = tfidf_vectorizer.transform(new_reviews)\n",
        "\n",
        "# Predict the labels for the new reviews\n",
        "new_predictions = rf.predict(new_reviews_tfidf)\n",
        "\n",
        "# Output the predictions for the new reviews\n",
        "for review, prediction in zip(new_reviews, new_predictions):\n",
        "    print(f'Review: \"{review}\" - Predicted Label: {prediction}')"
      ],
      "metadata": {
        "colab": {
          "base_uri": "https://localhost:8080/"
        },
        "id": "VfPmPQWOO5M6",
        "outputId": "58229d95-79e2-4ffd-e5e6-e50626bd8c9d"
      },
      "execution_count": 44,
      "outputs": [
        {
          "output_type": "stream",
          "name": "stdout",
          "text": [
            "Review: \"This is a hilarious movie, NOT!\" - Predicted Label: 1\n",
            "Review: \"What a masterpiece of bad acting!\" - Predicted Label: 1\n",
            "Review: \"Great, another boring film.\" - Predicted Label: 1\n"
          ]
        }
      ]
    },
    {
      "cell_type": "markdown",
      "source": [
        "4. Support Vector Machine (SVM)"
      ],
      "metadata": {
        "id": "3ZbjrZBseKGv"
      }
    },
    {
      "cell_type": "code",
      "source": [
        "import pandas as pd\n",
        "import numpy as np\n",
        "from sklearn.model_selection import train_test_split\n",
        "from sklearn.feature_extraction.text import TfidfVectorizer\n",
        "from sklearn.svm import SVC\n",
        "from sklearn.metrics import accuracy_score, classification_report\n",
        "\n",
        "# Convert text to numerical features using TF-IDF\n",
        "tfidf_vectorizer = TfidfVectorizer(max_features=1000)  # Adjust max_features as needed\n",
        "X_train = tfidf_vectorizer.fit_transform(X_train_text)\n",
        "X_test = tfidf_vectorizer.transform(X_test_text)\n",
        "\n",
        "# Train the model\n",
        "svm = SVC(kernel='linear', random_state=42)\n",
        "svm.fit(X_train, y_train)\n",
        "\n",
        "# Make predictions\n",
        "y_pred = svm.predict(X_test)\n",
        "\n",
        "# Evaluate the model\n",
        "print(\"SVM Performance:\")\n",
        "print(\"Accuracy:\", accuracy_score(y_test, y_pred))\n",
        "print(\"Classification Report:\\n\", classification_report(y_test, y_pred))\n"
      ],
      "metadata": {
        "colab": {
          "base_uri": "https://localhost:8080/"
        },
        "id": "OAIapTO_bFkC",
        "outputId": "a8b19bc3-6be9-490c-a022-9fd810d77d6a"
      },
      "execution_count": 45,
      "outputs": [
        {
          "output_type": "stream",
          "name": "stdout",
          "text": [
            "SVM Performance:\n",
            "Accuracy: 0.8138461538461539\n",
            "Classification Report:\n",
            "               precision    recall  f1-score   support\n",
            "\n",
            "           0       0.78      0.83      0.81       604\n",
            "           1       0.84      0.80      0.82       696\n",
            "\n",
            "    accuracy                           0.81      1300\n",
            "   macro avg       0.81      0.81      0.81      1300\n",
            "weighted avg       0.82      0.81      0.81      1300\n",
            "\n"
          ]
        }
      ]
    },
    {
      "cell_type": "code",
      "source": [
        "# Now, let's test the model with new reviews\n",
        "new_reviews = ['This is a hilarious movie, NOT!', 'What a masterpiece of bad acting!', 'Great, another boring film.']\n",
        "\n",
        "# Transform these new reviews using the same TF-IDF vectorizer\n",
        "new_reviews_tfidf = tfidf_vectorizer.transform(new_reviews)\n",
        "\n",
        "# Predict the labels for the new reviews\n",
        "new_predictions = svm.predict(new_reviews_tfidf)\n",
        "\n",
        "# Output the predictions for the new reviews\n",
        "for review, prediction in zip(new_reviews, new_predictions):\n",
        "    print(f'Review: \"{review}\" - Predicted Label: {prediction}')"
      ],
      "metadata": {
        "colab": {
          "base_uri": "https://localhost:8080/"
        },
        "id": "uShoMlUVPMdQ",
        "outputId": "5e35e571-4603-42cb-ca72-5b174d5a2862"
      },
      "execution_count": 46,
      "outputs": [
        {
          "output_type": "stream",
          "name": "stdout",
          "text": [
            "Review: \"This is a hilarious movie, NOT!\" - Predicted Label: 1\n",
            "Review: \"What a masterpiece of bad acting!\" - Predicted Label: 1\n",
            "Review: \"Great, another boring film.\" - Predicted Label: 1\n"
          ]
        }
      ]
    },
    {
      "cell_type": "markdown",
      "source": [
        "Logistic Regression : 83<br>\n",
        "XG Boost : 82<br>\n",
        "Random Forest: 82<br>\n",
        "SVM : 81<br>"
      ],
      "metadata": {
        "id": "guJ45Jtxj9S0"
      }
    },
    {
      "cell_type": "markdown",
      "source": [
        "### Step 4 : Hyperparameter Tuning\n",
        "1. Logistic Regression"
      ],
      "metadata": {
        "id": "SDSZ7j7aoUDA"
      }
    },
    {
      "cell_type": "code",
      "source": [
        "import pandas as pd\n",
        "import numpy as np\n",
        "from sklearn.feature_extraction.text import TfidfVectorizer\n",
        "from sklearn.model_selection import train_test_split, GridSearchCV\n",
        "from sklearn.linear_model import LogisticRegression\n",
        "from sklearn.ensemble import RandomForestClassifier\n",
        "from sklearn.svm import SVC\n",
        "from xgboost import XGBClassifier\n",
        "from sklearn.metrics import accuracy_score, classification_report\n",
        "from sklearn.preprocessing import LabelEncoder\n",
        "\n",
        "# Preprocess the data\n",
        "tfidf_vectorizer = TfidfVectorizer(max_features=1000)\n",
        "X = tfidf_vectorizer.fit_transform(df['Tokenized_Review']).toarray()\n",
        "\n",
        "# Encode labels into numerical format\n",
        "label_encoder = LabelEncoder()\n",
        "y = label_encoder.fit_transform(df['Sarcasm_Label'])\n",
        "\n",
        "# Split the dataset into training and testing sets\n",
        "X_train, X_test, y_train, y_test = train_test_split(X, y, test_size=0.2, random_state=42)\n"
      ],
      "metadata": {
        "id": "mJJqP1JatkYf"
      },
      "execution_count": 47,
      "outputs": []
    },
    {
      "cell_type": "code",
      "source": [
        "# Logistic Regression Hyperparameter Tuning\n",
        "log_reg_params = {\n",
        "    'C': [0.01, 0.1, 1, 10, 100],\n",
        "    'solver': ['liblinear', 'lbfgs']\n",
        "}\n",
        "log_reg = LogisticRegression(max_iter=1000)\n",
        "log_reg_grid = GridSearchCV(log_reg, log_reg_params, cv=5, scoring='accuracy')\n",
        "log_reg_grid.fit(X_train, y_train)"
      ],
      "metadata": {
        "colab": {
          "base_uri": "https://localhost:8080/",
          "height": 117
        },
        "id": "b1i-ZUQ0tkak",
        "outputId": "e9a58241-0fde-4b6f-ab27-64d8dd488e3c"
      },
      "execution_count": 48,
      "outputs": [
        {
          "output_type": "execute_result",
          "data": {
            "text/plain": [
              "GridSearchCV(cv=5, estimator=LogisticRegression(max_iter=1000),\n",
              "             param_grid={'C': [0.01, 0.1, 1, 10, 100],\n",
              "                         'solver': ['liblinear', 'lbfgs']},\n",
              "             scoring='accuracy')"
            ],
            "text/html": [
              "<style>#sk-container-id-1 {color: black;background-color: white;}#sk-container-id-1 pre{padding: 0;}#sk-container-id-1 div.sk-toggleable {background-color: white;}#sk-container-id-1 label.sk-toggleable__label {cursor: pointer;display: block;width: 100%;margin-bottom: 0;padding: 0.3em;box-sizing: border-box;text-align: center;}#sk-container-id-1 label.sk-toggleable__label-arrow:before {content: \"▸\";float: left;margin-right: 0.25em;color: #696969;}#sk-container-id-1 label.sk-toggleable__label-arrow:hover:before {color: black;}#sk-container-id-1 div.sk-estimator:hover label.sk-toggleable__label-arrow:before {color: black;}#sk-container-id-1 div.sk-toggleable__content {max-height: 0;max-width: 0;overflow: hidden;text-align: left;background-color: #f0f8ff;}#sk-container-id-1 div.sk-toggleable__content pre {margin: 0.2em;color: black;border-radius: 0.25em;background-color: #f0f8ff;}#sk-container-id-1 input.sk-toggleable__control:checked~div.sk-toggleable__content {max-height: 200px;max-width: 100%;overflow: auto;}#sk-container-id-1 input.sk-toggleable__control:checked~label.sk-toggleable__label-arrow:before {content: \"▾\";}#sk-container-id-1 div.sk-estimator input.sk-toggleable__control:checked~label.sk-toggleable__label {background-color: #d4ebff;}#sk-container-id-1 div.sk-label input.sk-toggleable__control:checked~label.sk-toggleable__label {background-color: #d4ebff;}#sk-container-id-1 input.sk-hidden--visually {border: 0;clip: rect(1px 1px 1px 1px);clip: rect(1px, 1px, 1px, 1px);height: 1px;margin: -1px;overflow: hidden;padding: 0;position: absolute;width: 1px;}#sk-container-id-1 div.sk-estimator {font-family: monospace;background-color: #f0f8ff;border: 1px dotted black;border-radius: 0.25em;box-sizing: border-box;margin-bottom: 0.5em;}#sk-container-id-1 div.sk-estimator:hover {background-color: #d4ebff;}#sk-container-id-1 div.sk-parallel-item::after {content: \"\";width: 100%;border-bottom: 1px solid gray;flex-grow: 1;}#sk-container-id-1 div.sk-label:hover label.sk-toggleable__label {background-color: #d4ebff;}#sk-container-id-1 div.sk-serial::before {content: \"\";position: absolute;border-left: 1px solid gray;box-sizing: border-box;top: 0;bottom: 0;left: 50%;z-index: 0;}#sk-container-id-1 div.sk-serial {display: flex;flex-direction: column;align-items: center;background-color: white;padding-right: 0.2em;padding-left: 0.2em;position: relative;}#sk-container-id-1 div.sk-item {position: relative;z-index: 1;}#sk-container-id-1 div.sk-parallel {display: flex;align-items: stretch;justify-content: center;background-color: white;position: relative;}#sk-container-id-1 div.sk-item::before, #sk-container-id-1 div.sk-parallel-item::before {content: \"\";position: absolute;border-left: 1px solid gray;box-sizing: border-box;top: 0;bottom: 0;left: 50%;z-index: -1;}#sk-container-id-1 div.sk-parallel-item {display: flex;flex-direction: column;z-index: 1;position: relative;background-color: white;}#sk-container-id-1 div.sk-parallel-item:first-child::after {align-self: flex-end;width: 50%;}#sk-container-id-1 div.sk-parallel-item:last-child::after {align-self: flex-start;width: 50%;}#sk-container-id-1 div.sk-parallel-item:only-child::after {width: 0;}#sk-container-id-1 div.sk-dashed-wrapped {border: 1px dashed gray;margin: 0 0.4em 0.5em 0.4em;box-sizing: border-box;padding-bottom: 0.4em;background-color: white;}#sk-container-id-1 div.sk-label label {font-family: monospace;font-weight: bold;display: inline-block;line-height: 1.2em;}#sk-container-id-1 div.sk-label-container {text-align: center;}#sk-container-id-1 div.sk-container {/* jupyter's `normalize.less` sets `[hidden] { display: none; }` but bootstrap.min.css set `[hidden] { display: none !important; }` so we also need the `!important` here to be able to override the default hidden behavior on the sphinx rendered scikit-learn.org. See: https://github.com/scikit-learn/scikit-learn/issues/21755 */display: inline-block !important;position: relative;}#sk-container-id-1 div.sk-text-repr-fallback {display: none;}</style><div id=\"sk-container-id-1\" class=\"sk-top-container\"><div class=\"sk-text-repr-fallback\"><pre>GridSearchCV(cv=5, estimator=LogisticRegression(max_iter=1000),\n",
              "             param_grid={&#x27;C&#x27;: [0.01, 0.1, 1, 10, 100],\n",
              "                         &#x27;solver&#x27;: [&#x27;liblinear&#x27;, &#x27;lbfgs&#x27;]},\n",
              "             scoring=&#x27;accuracy&#x27;)</pre><b>In a Jupyter environment, please rerun this cell to show the HTML representation or trust the notebook. <br />On GitHub, the HTML representation is unable to render, please try loading this page with nbviewer.org.</b></div><div class=\"sk-container\" hidden><div class=\"sk-item sk-dashed-wrapped\"><div class=\"sk-label-container\"><div class=\"sk-label sk-toggleable\"><input class=\"sk-toggleable__control sk-hidden--visually\" id=\"sk-estimator-id-1\" type=\"checkbox\" ><label for=\"sk-estimator-id-1\" class=\"sk-toggleable__label sk-toggleable__label-arrow\">GridSearchCV</label><div class=\"sk-toggleable__content\"><pre>GridSearchCV(cv=5, estimator=LogisticRegression(max_iter=1000),\n",
              "             param_grid={&#x27;C&#x27;: [0.01, 0.1, 1, 10, 100],\n",
              "                         &#x27;solver&#x27;: [&#x27;liblinear&#x27;, &#x27;lbfgs&#x27;]},\n",
              "             scoring=&#x27;accuracy&#x27;)</pre></div></div></div><div class=\"sk-parallel\"><div class=\"sk-parallel-item\"><div class=\"sk-item\"><div class=\"sk-label-container\"><div class=\"sk-label sk-toggleable\"><input class=\"sk-toggleable__control sk-hidden--visually\" id=\"sk-estimator-id-2\" type=\"checkbox\" ><label for=\"sk-estimator-id-2\" class=\"sk-toggleable__label sk-toggleable__label-arrow\">estimator: LogisticRegression</label><div class=\"sk-toggleable__content\"><pre>LogisticRegression(max_iter=1000)</pre></div></div></div><div class=\"sk-serial\"><div class=\"sk-item\"><div class=\"sk-estimator sk-toggleable\"><input class=\"sk-toggleable__control sk-hidden--visually\" id=\"sk-estimator-id-3\" type=\"checkbox\" ><label for=\"sk-estimator-id-3\" class=\"sk-toggleable__label sk-toggleable__label-arrow\">LogisticRegression</label><div class=\"sk-toggleable__content\"><pre>LogisticRegression(max_iter=1000)</pre></div></div></div></div></div></div></div></div></div></div>"
            ]
          },
          "metadata": {},
          "execution_count": 48
        }
      ]
    },
    {
      "cell_type": "code",
      "source": [
        "# Evaluate Logistic Regression\n",
        "log_reg_best = log_reg_grid.best_estimator_\n",
        "log_reg_pred = log_reg_best.predict(X_test)\n",
        "print(\"Logistic Regression Best Parameters:\", log_reg_grid.best_params_)\n",
        "print(\"Logistic Regression Accuracy:\", accuracy_score(y_test, log_reg_pred))\n",
        "print(\"Logistic Regression Classification Report:\\n\", classification_report(y_test, log_reg_pred))\n"
      ],
      "metadata": {
        "colab": {
          "base_uri": "https://localhost:8080/"
        },
        "id": "WODWJuj92fDx",
        "outputId": "46975b49-6a69-4000-a5c8-3aa0ca6d8477"
      },
      "execution_count": 49,
      "outputs": [
        {
          "output_type": "stream",
          "name": "stdout",
          "text": [
            "Logistic Regression Best Parameters: {'C': 1, 'solver': 'liblinear'}\n",
            "Logistic Regression Accuracy: 0.8115384615384615\n",
            "Logistic Regression Classification Report:\n",
            "               precision    recall  f1-score   support\n",
            "\n",
            "           0       0.79      0.81      0.80       604\n",
            "           1       0.83      0.81      0.82       696\n",
            "\n",
            "    accuracy                           0.81      1300\n",
            "   macro avg       0.81      0.81      0.81      1300\n",
            "weighted avg       0.81      0.81      0.81      1300\n",
            "\n"
          ]
        }
      ]
    },
    {
      "cell_type": "markdown",
      "source": [
        "2. Random Forest"
      ],
      "metadata": {
        "id": "UYw_gFW3ovhv"
      }
    },
    {
      "cell_type": "code",
      "source": [
        "# Random Forest Hyperparameter Tuning\n",
        "rf_params = {\n",
        "    'n_estimators': [50, 100, 200],\n",
        "    'max_depth': [None, 10, 20],\n",
        "    'min_samples_split': [2, 5, 10]\n",
        "}\n",
        "rf = RandomForestClassifier()\n",
        "rf_grid = GridSearchCV(rf, rf_params, cv=5, scoring='accuracy')\n",
        "rf_grid.fit(X_train, y_train)\n"
      ],
      "metadata": {
        "colab": {
          "base_uri": "https://localhost:8080/",
          "height": 117
        },
        "id": "5P5hkUdrwPlW",
        "outputId": "2b7a5522-96dd-4e75-ba09-3271e97fa9db"
      },
      "execution_count": 50,
      "outputs": [
        {
          "output_type": "execute_result",
          "data": {
            "text/plain": [
              "GridSearchCV(cv=5, estimator=RandomForestClassifier(),\n",
              "             param_grid={'max_depth': [None, 10, 20],\n",
              "                         'min_samples_split': [2, 5, 10],\n",
              "                         'n_estimators': [50, 100, 200]},\n",
              "             scoring='accuracy')"
            ],
            "text/html": [
              "<style>#sk-container-id-2 {color: black;background-color: white;}#sk-container-id-2 pre{padding: 0;}#sk-container-id-2 div.sk-toggleable {background-color: white;}#sk-container-id-2 label.sk-toggleable__label {cursor: pointer;display: block;width: 100%;margin-bottom: 0;padding: 0.3em;box-sizing: border-box;text-align: center;}#sk-container-id-2 label.sk-toggleable__label-arrow:before {content: \"▸\";float: left;margin-right: 0.25em;color: #696969;}#sk-container-id-2 label.sk-toggleable__label-arrow:hover:before {color: black;}#sk-container-id-2 div.sk-estimator:hover label.sk-toggleable__label-arrow:before {color: black;}#sk-container-id-2 div.sk-toggleable__content {max-height: 0;max-width: 0;overflow: hidden;text-align: left;background-color: #f0f8ff;}#sk-container-id-2 div.sk-toggleable__content pre {margin: 0.2em;color: black;border-radius: 0.25em;background-color: #f0f8ff;}#sk-container-id-2 input.sk-toggleable__control:checked~div.sk-toggleable__content {max-height: 200px;max-width: 100%;overflow: auto;}#sk-container-id-2 input.sk-toggleable__control:checked~label.sk-toggleable__label-arrow:before {content: \"▾\";}#sk-container-id-2 div.sk-estimator input.sk-toggleable__control:checked~label.sk-toggleable__label {background-color: #d4ebff;}#sk-container-id-2 div.sk-label input.sk-toggleable__control:checked~label.sk-toggleable__label {background-color: #d4ebff;}#sk-container-id-2 input.sk-hidden--visually {border: 0;clip: rect(1px 1px 1px 1px);clip: rect(1px, 1px, 1px, 1px);height: 1px;margin: -1px;overflow: hidden;padding: 0;position: absolute;width: 1px;}#sk-container-id-2 div.sk-estimator {font-family: monospace;background-color: #f0f8ff;border: 1px dotted black;border-radius: 0.25em;box-sizing: border-box;margin-bottom: 0.5em;}#sk-container-id-2 div.sk-estimator:hover {background-color: #d4ebff;}#sk-container-id-2 div.sk-parallel-item::after {content: \"\";width: 100%;border-bottom: 1px solid gray;flex-grow: 1;}#sk-container-id-2 div.sk-label:hover label.sk-toggleable__label {background-color: #d4ebff;}#sk-container-id-2 div.sk-serial::before {content: \"\";position: absolute;border-left: 1px solid gray;box-sizing: border-box;top: 0;bottom: 0;left: 50%;z-index: 0;}#sk-container-id-2 div.sk-serial {display: flex;flex-direction: column;align-items: center;background-color: white;padding-right: 0.2em;padding-left: 0.2em;position: relative;}#sk-container-id-2 div.sk-item {position: relative;z-index: 1;}#sk-container-id-2 div.sk-parallel {display: flex;align-items: stretch;justify-content: center;background-color: white;position: relative;}#sk-container-id-2 div.sk-item::before, #sk-container-id-2 div.sk-parallel-item::before {content: \"\";position: absolute;border-left: 1px solid gray;box-sizing: border-box;top: 0;bottom: 0;left: 50%;z-index: -1;}#sk-container-id-2 div.sk-parallel-item {display: flex;flex-direction: column;z-index: 1;position: relative;background-color: white;}#sk-container-id-2 div.sk-parallel-item:first-child::after {align-self: flex-end;width: 50%;}#sk-container-id-2 div.sk-parallel-item:last-child::after {align-self: flex-start;width: 50%;}#sk-container-id-2 div.sk-parallel-item:only-child::after {width: 0;}#sk-container-id-2 div.sk-dashed-wrapped {border: 1px dashed gray;margin: 0 0.4em 0.5em 0.4em;box-sizing: border-box;padding-bottom: 0.4em;background-color: white;}#sk-container-id-2 div.sk-label label {font-family: monospace;font-weight: bold;display: inline-block;line-height: 1.2em;}#sk-container-id-2 div.sk-label-container {text-align: center;}#sk-container-id-2 div.sk-container {/* jupyter's `normalize.less` sets `[hidden] { display: none; }` but bootstrap.min.css set `[hidden] { display: none !important; }` so we also need the `!important` here to be able to override the default hidden behavior on the sphinx rendered scikit-learn.org. See: https://github.com/scikit-learn/scikit-learn/issues/21755 */display: inline-block !important;position: relative;}#sk-container-id-2 div.sk-text-repr-fallback {display: none;}</style><div id=\"sk-container-id-2\" class=\"sk-top-container\"><div class=\"sk-text-repr-fallback\"><pre>GridSearchCV(cv=5, estimator=RandomForestClassifier(),\n",
              "             param_grid={&#x27;max_depth&#x27;: [None, 10, 20],\n",
              "                         &#x27;min_samples_split&#x27;: [2, 5, 10],\n",
              "                         &#x27;n_estimators&#x27;: [50, 100, 200]},\n",
              "             scoring=&#x27;accuracy&#x27;)</pre><b>In a Jupyter environment, please rerun this cell to show the HTML representation or trust the notebook. <br />On GitHub, the HTML representation is unable to render, please try loading this page with nbviewer.org.</b></div><div class=\"sk-container\" hidden><div class=\"sk-item sk-dashed-wrapped\"><div class=\"sk-label-container\"><div class=\"sk-label sk-toggleable\"><input class=\"sk-toggleable__control sk-hidden--visually\" id=\"sk-estimator-id-4\" type=\"checkbox\" ><label for=\"sk-estimator-id-4\" class=\"sk-toggleable__label sk-toggleable__label-arrow\">GridSearchCV</label><div class=\"sk-toggleable__content\"><pre>GridSearchCV(cv=5, estimator=RandomForestClassifier(),\n",
              "             param_grid={&#x27;max_depth&#x27;: [None, 10, 20],\n",
              "                         &#x27;min_samples_split&#x27;: [2, 5, 10],\n",
              "                         &#x27;n_estimators&#x27;: [50, 100, 200]},\n",
              "             scoring=&#x27;accuracy&#x27;)</pre></div></div></div><div class=\"sk-parallel\"><div class=\"sk-parallel-item\"><div class=\"sk-item\"><div class=\"sk-label-container\"><div class=\"sk-label sk-toggleable\"><input class=\"sk-toggleable__control sk-hidden--visually\" id=\"sk-estimator-id-5\" type=\"checkbox\" ><label for=\"sk-estimator-id-5\" class=\"sk-toggleable__label sk-toggleable__label-arrow\">estimator: RandomForestClassifier</label><div class=\"sk-toggleable__content\"><pre>RandomForestClassifier()</pre></div></div></div><div class=\"sk-serial\"><div class=\"sk-item\"><div class=\"sk-estimator sk-toggleable\"><input class=\"sk-toggleable__control sk-hidden--visually\" id=\"sk-estimator-id-6\" type=\"checkbox\" ><label for=\"sk-estimator-id-6\" class=\"sk-toggleable__label sk-toggleable__label-arrow\">RandomForestClassifier</label><div class=\"sk-toggleable__content\"><pre>RandomForestClassifier()</pre></div></div></div></div></div></div></div></div></div></div>"
            ]
          },
          "metadata": {},
          "execution_count": 50
        }
      ]
    },
    {
      "cell_type": "code",
      "source": [
        "# Evaluate Random Forest\n",
        "rf_best = rf_grid.best_estimator_\n",
        "rf_pred = rf_best.predict(X_test)\n",
        "print(\"Random Forest Best Parameters:\", rf_grid.best_params_)\n",
        "print(\"Random Forest Accuracy:\", accuracy_score(y_test, rf_pred))\n",
        "print(\"Random Forest Classification Report:\\n\", classification_report(y_test, rf_pred))\n"
      ],
      "metadata": {
        "colab": {
          "base_uri": "https://localhost:8080/"
        },
        "id": "FfCrItRdwPqP",
        "outputId": "95a470d5-a683-49f5-edc5-46904fb91e29"
      },
      "execution_count": 51,
      "outputs": [
        {
          "output_type": "stream",
          "name": "stdout",
          "text": [
            "Random Forest Best Parameters: {'max_depth': None, 'min_samples_split': 2, 'n_estimators': 200}\n",
            "Random Forest Accuracy: 0.8246153846153846\n",
            "Random Forest Classification Report:\n",
            "               precision    recall  f1-score   support\n",
            "\n",
            "           0       0.76      0.90      0.83       604\n",
            "           1       0.90      0.76      0.82       696\n",
            "\n",
            "    accuracy                           0.82      1300\n",
            "   macro avg       0.83      0.83      0.82      1300\n",
            "weighted avg       0.84      0.82      0.82      1300\n",
            "\n"
          ]
        }
      ]
    },
    {
      "cell_type": "markdown",
      "source": [
        "3. SVM"
      ],
      "metadata": {
        "id": "d8TL-9YBo1TQ"
      }
    },
    {
      "cell_type": "code",
      "source": [
        "# SVM Hyperparameter Tuning\n",
        "from sklearn.model_selection import RandomizedSearchCV\n",
        "import time\n",
        "\n",
        "# SVM Hyperparameter Tuning with RandomizedSearchCV\n",
        "svm_params = {\n",
        "    'C': [0.1, 1, 10, 100],\n",
        "    'kernel': ['linear', 'rbf', 'poly'],\n",
        "    'gamma': ['scale', 'auto']\n",
        "}\n",
        "svm = SVC()\n",
        "\n",
        "# Use RandomizedSearchCV for faster hyperparameter tuning\n",
        "svm_random_grid = RandomizedSearchCV(svm, svm_params, n_iter=20, cv=5, scoring='accuracy', random_state=42, n_jobs=-1)\n",
        "\n",
        "start_time = time.time()\n",
        "svm_random_grid.fit(X_train, y_train)\n",
        "end_time = time.time()\n"
      ],
      "metadata": {
        "id": "7unPWnLQwPs6"
      },
      "execution_count": 52,
      "outputs": []
    },
    {
      "cell_type": "code",
      "source": [
        "# Evaluate SVM\n",
        "svm_best = svm_random_grid.best_estimator_\n",
        "svm_pred = svm_best.predict(X_test)\n",
        "print(\"SVM Best Parameters:\", svm_random_grid.best_params_)\n",
        "print(\"SVM Accuracy:\", accuracy_score(y_test, svm_pred))\n",
        "print(\"SVM Classification Report:\\n\", classification_report(y_test, svm_pred))\n",
        "print(f\"Time taken for RandomizedSearchCV: {end_time - start_time} seconds\")\n"
      ],
      "metadata": {
        "colab": {
          "base_uri": "https://localhost:8080/"
        },
        "id": "-_H_7-UeBPIQ",
        "outputId": "e929253a-a8ff-421b-e204-2ce01321c58d"
      },
      "execution_count": 53,
      "outputs": [
        {
          "output_type": "stream",
          "name": "stdout",
          "text": [
            "SVM Best Parameters: {'kernel': 'poly', 'gamma': 'scale', 'C': 1}\n",
            "SVM Accuracy: 0.8223076923076923\n",
            "SVM Classification Report:\n",
            "               precision    recall  f1-score   support\n",
            "\n",
            "           0       0.75      0.92      0.83       604\n",
            "           1       0.91      0.74      0.82       696\n",
            "\n",
            "    accuracy                           0.82      1300\n",
            "   macro avg       0.83      0.83      0.82      1300\n",
            "weighted avg       0.84      0.82      0.82      1300\n",
            "\n",
            "Time taken for RandomizedSearchCV: 981.5068371295929 seconds\n"
          ]
        }
      ]
    },
    {
      "cell_type": "markdown",
      "source": [
        "##Conclusion\n",
        "1. Logistic Regression initially had the highest accuracy but dropped slightly after hyperparameter tuning.\n",
        "2. **Random Forest** and **SVM** both improved their accuracy after tuning and now perform comparably well.<br>\n",
        "\n",
        "**Benchmarking** : Use the highest accuracy after hyperparameter tuning as benchmark. In this case, both Random Forest and SVM achieved an accuracy of 82%.\n",
        "\n",
        "**Model Selection** : **Random Forest** and **SVM** also show robust performance and can be considered depending on specific requirements (e.g., handling complex interactions in data for Random Forest, or non-linear decision boundaries for SVM).\n"
      ],
      "metadata": {
        "id": "s4qsA5J9iTK0"
      }
    },
    {
      "cell_type": "code",
      "source": [],
      "metadata": {
        "id": "69OjbgJ6wQG9"
      },
      "execution_count": null,
      "outputs": []
    }
  ]
}