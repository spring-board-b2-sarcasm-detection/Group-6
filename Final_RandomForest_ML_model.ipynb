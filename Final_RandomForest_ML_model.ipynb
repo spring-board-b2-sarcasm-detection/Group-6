{
  "nbformat": 4,
  "nbformat_minor": 0,
  "metadata": {
    "colab": {
      "provenance": [],
      "gpuType": "T4"
    },
    "kernelspec": {
      "name": "python3",
      "display_name": "Python 3"
    },
    "language_info": {
      "name": "python"
    },
    "accelerator": "GPU"
  },
  "cells": [
    {
      "cell_type": "markdown",
      "source": [
        "#**Sarcasm Detection Machine Learning Model for IMDB Movie Reviews**"
      ],
      "metadata": {
        "id": "AoqEheIknBzn"
      }
    },
    {
      "cell_type": "markdown",
      "source": [
        "###**Business Problem**\n",
        "- The movie industry heavily relies on audience reviews for a film's success in theaters.\n",
        "- Understanding and analyzing these reviews is crucial for providing accurate ratings and overall opinions on movies\n",
        "- However, some reviewers express their thoughts sarcastically, which can mislead traditional sentiment analysis models.\n",
        "###**Solution Proposed**\n",
        "- To address the challenge of sarcasm detection, we need to develop and implement Machine Learning models specifically designed to recognize and interpret sarcastic reviews.\n",
        "- By incorporating sarcasm detection into sentiment analysis, we can significantly enhance the accuracy of review analysis."
      ],
      "metadata": {
        "id": "-cj9_Tqqnafe"
      }
    },
    {
      "cell_type": "code",
      "execution_count": 1,
      "metadata": {
        "colab": {
          "base_uri": "https://localhost:8080/"
        },
        "id": "hDdipxx-brU0",
        "outputId": "e9e3755c-7183-44aa-b2dd-c133d8787d09"
      },
      "outputs": [
        {
          "output_type": "stream",
          "name": "stdout",
          "text": [
            "Mounted at /content/drive\n"
          ]
        }
      ],
      "source": [
        "from google.colab import drive\n",
        "drive.mount('/content/drive')"
      ]
    },
    {
      "cell_type": "code",
      "source": [
        "import pandas as pd\n",
        "df= pd.read_excel('/content/drive/MyDrive/Colab Notebooks/Dataset.xlsx')"
      ],
      "metadata": {
        "id": "YFXAwMyg9baP"
      },
      "execution_count": 2,
      "outputs": []
    },
    {
      "cell_type": "code",
      "source": [
        "df.head(10)"
      ],
      "metadata": {
        "colab": {
          "base_uri": "https://localhost:8080/",
          "height": 363
        },
        "id": "-duksYkVUh-T",
        "outputId": "ea3b8ffc-7819-4a47-c9b9-ec59b6767fdd"
      },
      "execution_count": 3,
      "outputs": [
        {
          "output_type": "execute_result",
          "data": {
            "text/plain": [
              "                                             reviews        Sarcasm\n",
              "0  One of the other reviewers has mentioned that ...  not sarcastic\n",
              "1  A wonderful little production. <br /><br />The...  not sarcastic\n",
              "2  This movie was a groundbreaking experience!<br...      sarcastic\n",
              "3  I thought this was a wonderful way to spend ti...  not sarcastic\n",
              "4  Basically there's a family where a little boy ...      sarcastic\n",
              "5  Petter Mattei's \"Love in the Time of Money\" is...  not sarcastic\n",
              "6  Probably my all-time favorite movie, a story o...  not sarcastic\n",
              "7  I sure would like to see a resurrection of a u...  not sarcastic\n",
              "8  This show was an amazing, fresh & innovative i...      sarcastic\n",
              "9  Encouraged by the positive comments about this...      sarcastic"
            ],
            "text/html": [
              "\n",
              "  <div id=\"df-9d658449-281a-4015-b17a-42c941f6518d\" class=\"colab-df-container\">\n",
              "    <div>\n",
              "<style scoped>\n",
              "    .dataframe tbody tr th:only-of-type {\n",
              "        vertical-align: middle;\n",
              "    }\n",
              "\n",
              "    .dataframe tbody tr th {\n",
              "        vertical-align: top;\n",
              "    }\n",
              "\n",
              "    .dataframe thead th {\n",
              "        text-align: right;\n",
              "    }\n",
              "</style>\n",
              "<table border=\"1\" class=\"dataframe\">\n",
              "  <thead>\n",
              "    <tr style=\"text-align: right;\">\n",
              "      <th></th>\n",
              "      <th>reviews</th>\n",
              "      <th>Sarcasm</th>\n",
              "    </tr>\n",
              "  </thead>\n",
              "  <tbody>\n",
              "    <tr>\n",
              "      <th>0</th>\n",
              "      <td>One of the other reviewers has mentioned that ...</td>\n",
              "      <td>not sarcastic</td>\n",
              "    </tr>\n",
              "    <tr>\n",
              "      <th>1</th>\n",
              "      <td>A wonderful little production. &lt;br /&gt;&lt;br /&gt;The...</td>\n",
              "      <td>not sarcastic</td>\n",
              "    </tr>\n",
              "    <tr>\n",
              "      <th>2</th>\n",
              "      <td>This movie was a groundbreaking experience!&lt;br...</td>\n",
              "      <td>sarcastic</td>\n",
              "    </tr>\n",
              "    <tr>\n",
              "      <th>3</th>\n",
              "      <td>I thought this was a wonderful way to spend ti...</td>\n",
              "      <td>not sarcastic</td>\n",
              "    </tr>\n",
              "    <tr>\n",
              "      <th>4</th>\n",
              "      <td>Basically there's a family where a little boy ...</td>\n",
              "      <td>sarcastic</td>\n",
              "    </tr>\n",
              "    <tr>\n",
              "      <th>5</th>\n",
              "      <td>Petter Mattei's \"Love in the Time of Money\" is...</td>\n",
              "      <td>not sarcastic</td>\n",
              "    </tr>\n",
              "    <tr>\n",
              "      <th>6</th>\n",
              "      <td>Probably my all-time favorite movie, a story o...</td>\n",
              "      <td>not sarcastic</td>\n",
              "    </tr>\n",
              "    <tr>\n",
              "      <th>7</th>\n",
              "      <td>I sure would like to see a resurrection of a u...</td>\n",
              "      <td>not sarcastic</td>\n",
              "    </tr>\n",
              "    <tr>\n",
              "      <th>8</th>\n",
              "      <td>This show was an amazing, fresh &amp; innovative i...</td>\n",
              "      <td>sarcastic</td>\n",
              "    </tr>\n",
              "    <tr>\n",
              "      <th>9</th>\n",
              "      <td>Encouraged by the positive comments about this...</td>\n",
              "      <td>sarcastic</td>\n",
              "    </tr>\n",
              "  </tbody>\n",
              "</table>\n",
              "</div>\n",
              "    <div class=\"colab-df-buttons\">\n",
              "\n",
              "  <div class=\"colab-df-container\">\n",
              "    <button class=\"colab-df-convert\" onclick=\"convertToInteractive('df-9d658449-281a-4015-b17a-42c941f6518d')\"\n",
              "            title=\"Convert this dataframe to an interactive table.\"\n",
              "            style=\"display:none;\">\n",
              "\n",
              "  <svg xmlns=\"http://www.w3.org/2000/svg\" height=\"24px\" viewBox=\"0 -960 960 960\">\n",
              "    <path d=\"M120-120v-720h720v720H120Zm60-500h600v-160H180v160Zm220 220h160v-160H400v160Zm0 220h160v-160H400v160ZM180-400h160v-160H180v160Zm440 0h160v-160H620v160ZM180-180h160v-160H180v160Zm440 0h160v-160H620v160Z\"/>\n",
              "  </svg>\n",
              "    </button>\n",
              "\n",
              "  <style>\n",
              "    .colab-df-container {\n",
              "      display:flex;\n",
              "      gap: 12px;\n",
              "    }\n",
              "\n",
              "    .colab-df-convert {\n",
              "      background-color: #E8F0FE;\n",
              "      border: none;\n",
              "      border-radius: 50%;\n",
              "      cursor: pointer;\n",
              "      display: none;\n",
              "      fill: #1967D2;\n",
              "      height: 32px;\n",
              "      padding: 0 0 0 0;\n",
              "      width: 32px;\n",
              "    }\n",
              "\n",
              "    .colab-df-convert:hover {\n",
              "      background-color: #E2EBFA;\n",
              "      box-shadow: 0px 1px 2px rgba(60, 64, 67, 0.3), 0px 1px 3px 1px rgba(60, 64, 67, 0.15);\n",
              "      fill: #174EA6;\n",
              "    }\n",
              "\n",
              "    .colab-df-buttons div {\n",
              "      margin-bottom: 4px;\n",
              "    }\n",
              "\n",
              "    [theme=dark] .colab-df-convert {\n",
              "      background-color: #3B4455;\n",
              "      fill: #D2E3FC;\n",
              "    }\n",
              "\n",
              "    [theme=dark] .colab-df-convert:hover {\n",
              "      background-color: #434B5C;\n",
              "      box-shadow: 0px 1px 3px 1px rgba(0, 0, 0, 0.15);\n",
              "      filter: drop-shadow(0px 1px 2px rgba(0, 0, 0, 0.3));\n",
              "      fill: #FFFFFF;\n",
              "    }\n",
              "  </style>\n",
              "\n",
              "    <script>\n",
              "      const buttonEl =\n",
              "        document.querySelector('#df-9d658449-281a-4015-b17a-42c941f6518d button.colab-df-convert');\n",
              "      buttonEl.style.display =\n",
              "        google.colab.kernel.accessAllowed ? 'block' : 'none';\n",
              "\n",
              "      async function convertToInteractive(key) {\n",
              "        const element = document.querySelector('#df-9d658449-281a-4015-b17a-42c941f6518d');\n",
              "        const dataTable =\n",
              "          await google.colab.kernel.invokeFunction('convertToInteractive',\n",
              "                                                    [key], {});\n",
              "        if (!dataTable) return;\n",
              "\n",
              "        const docLinkHtml = 'Like what you see? Visit the ' +\n",
              "          '<a target=\"_blank\" href=https://colab.research.google.com/notebooks/data_table.ipynb>data table notebook</a>'\n",
              "          + ' to learn more about interactive tables.';\n",
              "        element.innerHTML = '';\n",
              "        dataTable['output_type'] = 'display_data';\n",
              "        await google.colab.output.renderOutput(dataTable, element);\n",
              "        const docLink = document.createElement('div');\n",
              "        docLink.innerHTML = docLinkHtml;\n",
              "        element.appendChild(docLink);\n",
              "      }\n",
              "    </script>\n",
              "  </div>\n",
              "\n",
              "\n",
              "<div id=\"df-6fa3e491-6904-46ec-b7ba-681b0358cfb4\">\n",
              "  <button class=\"colab-df-quickchart\" onclick=\"quickchart('df-6fa3e491-6904-46ec-b7ba-681b0358cfb4')\"\n",
              "            title=\"Suggest charts\"\n",
              "            style=\"display:none;\">\n",
              "\n",
              "<svg xmlns=\"http://www.w3.org/2000/svg\" height=\"24px\"viewBox=\"0 0 24 24\"\n",
              "     width=\"24px\">\n",
              "    <g>\n",
              "        <path d=\"M19 3H5c-1.1 0-2 .9-2 2v14c0 1.1.9 2 2 2h14c1.1 0 2-.9 2-2V5c0-1.1-.9-2-2-2zM9 17H7v-7h2v7zm4 0h-2V7h2v10zm4 0h-2v-4h2v4z\"/>\n",
              "    </g>\n",
              "</svg>\n",
              "  </button>\n",
              "\n",
              "<style>\n",
              "  .colab-df-quickchart {\n",
              "      --bg-color: #E8F0FE;\n",
              "      --fill-color: #1967D2;\n",
              "      --hover-bg-color: #E2EBFA;\n",
              "      --hover-fill-color: #174EA6;\n",
              "      --disabled-fill-color: #AAA;\n",
              "      --disabled-bg-color: #DDD;\n",
              "  }\n",
              "\n",
              "  [theme=dark] .colab-df-quickchart {\n",
              "      --bg-color: #3B4455;\n",
              "      --fill-color: #D2E3FC;\n",
              "      --hover-bg-color: #434B5C;\n",
              "      --hover-fill-color: #FFFFFF;\n",
              "      --disabled-bg-color: #3B4455;\n",
              "      --disabled-fill-color: #666;\n",
              "  }\n",
              "\n",
              "  .colab-df-quickchart {\n",
              "    background-color: var(--bg-color);\n",
              "    border: none;\n",
              "    border-radius: 50%;\n",
              "    cursor: pointer;\n",
              "    display: none;\n",
              "    fill: var(--fill-color);\n",
              "    height: 32px;\n",
              "    padding: 0;\n",
              "    width: 32px;\n",
              "  }\n",
              "\n",
              "  .colab-df-quickchart:hover {\n",
              "    background-color: var(--hover-bg-color);\n",
              "    box-shadow: 0 1px 2px rgba(60, 64, 67, 0.3), 0 1px 3px 1px rgba(60, 64, 67, 0.15);\n",
              "    fill: var(--button-hover-fill-color);\n",
              "  }\n",
              "\n",
              "  .colab-df-quickchart-complete:disabled,\n",
              "  .colab-df-quickchart-complete:disabled:hover {\n",
              "    background-color: var(--disabled-bg-color);\n",
              "    fill: var(--disabled-fill-color);\n",
              "    box-shadow: none;\n",
              "  }\n",
              "\n",
              "  .colab-df-spinner {\n",
              "    border: 2px solid var(--fill-color);\n",
              "    border-color: transparent;\n",
              "    border-bottom-color: var(--fill-color);\n",
              "    animation:\n",
              "      spin 1s steps(1) infinite;\n",
              "  }\n",
              "\n",
              "  @keyframes spin {\n",
              "    0% {\n",
              "      border-color: transparent;\n",
              "      border-bottom-color: var(--fill-color);\n",
              "      border-left-color: var(--fill-color);\n",
              "    }\n",
              "    20% {\n",
              "      border-color: transparent;\n",
              "      border-left-color: var(--fill-color);\n",
              "      border-top-color: var(--fill-color);\n",
              "    }\n",
              "    30% {\n",
              "      border-color: transparent;\n",
              "      border-left-color: var(--fill-color);\n",
              "      border-top-color: var(--fill-color);\n",
              "      border-right-color: var(--fill-color);\n",
              "    }\n",
              "    40% {\n",
              "      border-color: transparent;\n",
              "      border-right-color: var(--fill-color);\n",
              "      border-top-color: var(--fill-color);\n",
              "    }\n",
              "    60% {\n",
              "      border-color: transparent;\n",
              "      border-right-color: var(--fill-color);\n",
              "    }\n",
              "    80% {\n",
              "      border-color: transparent;\n",
              "      border-right-color: var(--fill-color);\n",
              "      border-bottom-color: var(--fill-color);\n",
              "    }\n",
              "    90% {\n",
              "      border-color: transparent;\n",
              "      border-bottom-color: var(--fill-color);\n",
              "    }\n",
              "  }\n",
              "</style>\n",
              "\n",
              "  <script>\n",
              "    async function quickchart(key) {\n",
              "      const quickchartButtonEl =\n",
              "        document.querySelector('#' + key + ' button');\n",
              "      quickchartButtonEl.disabled = true;  // To prevent multiple clicks.\n",
              "      quickchartButtonEl.classList.add('colab-df-spinner');\n",
              "      try {\n",
              "        const charts = await google.colab.kernel.invokeFunction(\n",
              "            'suggestCharts', [key], {});\n",
              "      } catch (error) {\n",
              "        console.error('Error during call to suggestCharts:', error);\n",
              "      }\n",
              "      quickchartButtonEl.classList.remove('colab-df-spinner');\n",
              "      quickchartButtonEl.classList.add('colab-df-quickchart-complete');\n",
              "    }\n",
              "    (() => {\n",
              "      let quickchartButtonEl =\n",
              "        document.querySelector('#df-6fa3e491-6904-46ec-b7ba-681b0358cfb4 button');\n",
              "      quickchartButtonEl.style.display =\n",
              "        google.colab.kernel.accessAllowed ? 'block' : 'none';\n",
              "    })();\n",
              "  </script>\n",
              "</div>\n",
              "\n",
              "    </div>\n",
              "  </div>\n"
            ],
            "application/vnd.google.colaboratory.intrinsic+json": {
              "type": "dataframe",
              "variable_name": "df",
              "summary": "{\n  \"name\": \"df\",\n  \"rows\": 6544,\n  \"fields\": [\n    {\n      \"column\": \"reviews\",\n      \"properties\": {\n        \"dtype\": \"string\",\n        \"num_unique_values\": 6510,\n        \"samples\": [\n          \"What a crime...<br /><br />You forgot to brush your teeth...let's make a 30 minute show about it and have a couple of kids make some noise and then have the dad lecture them all because that's what he has to do.<br /><br />But, don't forget Uncle Joey has to make some weird noises and cooky faces, then Uncle Jesse has to show up with his black leather jacket and some jeans and look pretty for a few minutes while everybody discusses how Mother would have done things if she were around..<br /><br />Yep, full of zany little adventures about a whole bunch of nothing and an entire overlong story to build around it.<br /><br />Full House will not only bore you to tears, but it will make you age twenty times faster than you normally would.\",\n          \"\\\"Thank you, Hollywood, for yet another film that challenges us to see the world through new eyes. This movie opened my mind and touched my soul.\\\"\",\n          \"\\\"A masterful blend of genres that keeps you on the edge of your seat while tugging at your heartstrings.\\\"\"\n        ],\n        \"semantic_type\": \"\",\n        \"description\": \"\"\n      }\n    },\n    {\n      \"column\": \"Sarcasm\",\n      \"properties\": {\n        \"dtype\": \"category\",\n        \"num_unique_values\": 2,\n        \"samples\": [\n          \"sarcastic\",\n          \"not sarcastic\"\n        ],\n        \"semantic_type\": \"\",\n        \"description\": \"\"\n      }\n    }\n  ]\n}"
            }
          },
          "metadata": {},
          "execution_count": 3
        }
      ]
    },
    {
      "cell_type": "markdown",
      "source": [
        "#**1) Data Preparation**\n",
        "\n",
        "we will do the following steps and prepare the dataset for further process:\n",
        "\n",
        "1. Removing duplicate reviews\n",
        "2. Removing null valued labels"
      ],
      "metadata": {
        "id": "6JjMfFO-a0IM"
      }
    },
    {
      "cell_type": "markdown",
      "source": [
        "**Removing the duplicates and null values**"
      ],
      "metadata": {
        "id": "O2WQfgSqgXlF"
      }
    },
    {
      "cell_type": "code",
      "source": [
        "def prepare_dataset(df, label_column, review_column):\n",
        "    initial_shape = df.shape\n",
        "\n",
        "    # Removing duplicate reviews\n",
        "    df = df.drop_duplicates(subset=review_column, keep='first')\n",
        "    final_shape_after_duplicates = df.shape\n",
        "    rows_dropped = initial_shape[0] - final_shape_after_duplicates[0]\n",
        "    print(f\"Number of rows dropped due to duplicates: {rows_dropped}\")\n",
        "\n",
        "    # Checking for null values\n",
        "    rows_with_nulls = df[df.isnull().any(axis=1)]\n",
        "    # Remove rows with any null values\n",
        "    df = df.dropna()\n",
        "    print(f\"Shape of the dataset after removing null values: {df.shape}\")\n",
        "\n",
        "    # Print the final shape of the dataset\n",
        "    print(\"Final shape of the dataset:\", df.shape)\n",
        "    return df\n",
        "\n",
        "df = prepare_dataset(df, 'Sarcasm','reviews')\n"
      ],
      "metadata": {
        "colab": {
          "base_uri": "https://localhost:8080/"
        },
        "id": "3tEmlndhaO41",
        "outputId": "80e07c49-2f93-4ed5-c65f-99a10d412231"
      },
      "execution_count": 4,
      "outputs": [
        {
          "output_type": "stream",
          "name": "stdout",
          "text": [
            "Number of rows dropped due to duplicates: 34\n",
            "Shape of the dataset after removing null values: (6497, 2)\n",
            "Final shape of the dataset: (6497, 2)\n"
          ]
        }
      ]
    },
    {
      "cell_type": "markdown",
      "source": [
        "**Dataset analysis**"
      ],
      "metadata": {
        "id": "bANndNdBUgy7"
      }
    },
    {
      "cell_type": "code",
      "source": [
        "def analyze_excel_dataset(df, label_column, review_column):\n",
        "    # Print the shape of the dataset\n",
        "    print(\"Shape of the dataset:\", df.shape)\n",
        "\n",
        "    # Print the count of each unique label in the 'Sarcasm' column\n",
        "    label_counts = df[label_column].value_counts()\n",
        "    print(\"Count of each unique label in '{}':\".format(label_column))\n",
        "    print(label_counts)\n",
        "    review_length=[]\n",
        "    # Calculate and print the average length of the reviews\n",
        "    review_length = df[review_column].apply(lambda x: len(str(x).split()))\n",
        "    average_length = review_length.mean()\n",
        "    print(\"Average length of the reviews in '{}':\".format(review_column), average_length)\n",
        "\n",
        "\n",
        "analyze_excel_dataset(df,'Sarcasm','reviews')\n"
      ],
      "metadata": {
        "colab": {
          "base_uri": "https://localhost:8080/"
        },
        "id": "MkeB7VBBVggJ",
        "outputId": "22972ecc-13cf-4bce-900f-1a1a39ca9b96"
      },
      "execution_count": 5,
      "outputs": [
        {
          "output_type": "stream",
          "name": "stdout",
          "text": [
            "Shape of the dataset: (6497, 2)\n",
            "Count of each unique label in 'Sarcasm':\n",
            "Sarcasm\n",
            "sarcastic        3518\n",
            "not sarcastic    2979\n",
            "Name: count, dtype: int64\n",
            "Average length of the reviews in 'reviews': 115.17115591811606\n"
          ]
        }
      ]
    },
    {
      "cell_type": "code",
      "source": [
        "df"
      ],
      "metadata": {
        "colab": {
          "base_uri": "https://localhost:8080/",
          "height": 424
        },
        "id": "H1PyJMa1breB",
        "outputId": "e200ea5e-e9fc-426c-a4aa-d52307245847"
      },
      "execution_count": 6,
      "outputs": [
        {
          "output_type": "execute_result",
          "data": {
            "text/plain": [
              "                                                reviews        Sarcasm\n",
              "0     One of the other reviewers has mentioned that ...  not sarcastic\n",
              "1     A wonderful little production. <br /><br />The...  not sarcastic\n",
              "2     This movie was a groundbreaking experience!<br...      sarcastic\n",
              "3     I thought this was a wonderful way to spend ti...  not sarcastic\n",
              "4     Basically there's a family where a little boy ...      sarcastic\n",
              "...                                                 ...            ...\n",
              "6539  This movie's idea of character development is ...      sarcastic\n",
              "6540  I guess they ran out of budget for a decent sc...      sarcastic\n",
              "6541  Who needs a plot when you have explosions ever...      sarcastic\n",
              "6542  Is there an award for most generic action movi...      sarcastic\n",
              "6543        Two hours of non-stop, mind-numbing action.      sarcastic\n",
              "\n",
              "[6497 rows x 2 columns]"
            ],
            "text/html": [
              "\n",
              "  <div id=\"df-fb8dc8e9-6463-4122-97ec-c50bb37cf4a7\" class=\"colab-df-container\">\n",
              "    <div>\n",
              "<style scoped>\n",
              "    .dataframe tbody tr th:only-of-type {\n",
              "        vertical-align: middle;\n",
              "    }\n",
              "\n",
              "    .dataframe tbody tr th {\n",
              "        vertical-align: top;\n",
              "    }\n",
              "\n",
              "    .dataframe thead th {\n",
              "        text-align: right;\n",
              "    }\n",
              "</style>\n",
              "<table border=\"1\" class=\"dataframe\">\n",
              "  <thead>\n",
              "    <tr style=\"text-align: right;\">\n",
              "      <th></th>\n",
              "      <th>reviews</th>\n",
              "      <th>Sarcasm</th>\n",
              "    </tr>\n",
              "  </thead>\n",
              "  <tbody>\n",
              "    <tr>\n",
              "      <th>0</th>\n",
              "      <td>One of the other reviewers has mentioned that ...</td>\n",
              "      <td>not sarcastic</td>\n",
              "    </tr>\n",
              "    <tr>\n",
              "      <th>1</th>\n",
              "      <td>A wonderful little production. &lt;br /&gt;&lt;br /&gt;The...</td>\n",
              "      <td>not sarcastic</td>\n",
              "    </tr>\n",
              "    <tr>\n",
              "      <th>2</th>\n",
              "      <td>This movie was a groundbreaking experience!&lt;br...</td>\n",
              "      <td>sarcastic</td>\n",
              "    </tr>\n",
              "    <tr>\n",
              "      <th>3</th>\n",
              "      <td>I thought this was a wonderful way to spend ti...</td>\n",
              "      <td>not sarcastic</td>\n",
              "    </tr>\n",
              "    <tr>\n",
              "      <th>4</th>\n",
              "      <td>Basically there's a family where a little boy ...</td>\n",
              "      <td>sarcastic</td>\n",
              "    </tr>\n",
              "    <tr>\n",
              "      <th>...</th>\n",
              "      <td>...</td>\n",
              "      <td>...</td>\n",
              "    </tr>\n",
              "    <tr>\n",
              "      <th>6539</th>\n",
              "      <td>This movie's idea of character development is ...</td>\n",
              "      <td>sarcastic</td>\n",
              "    </tr>\n",
              "    <tr>\n",
              "      <th>6540</th>\n",
              "      <td>I guess they ran out of budget for a decent sc...</td>\n",
              "      <td>sarcastic</td>\n",
              "    </tr>\n",
              "    <tr>\n",
              "      <th>6541</th>\n",
              "      <td>Who needs a plot when you have explosions ever...</td>\n",
              "      <td>sarcastic</td>\n",
              "    </tr>\n",
              "    <tr>\n",
              "      <th>6542</th>\n",
              "      <td>Is there an award for most generic action movi...</td>\n",
              "      <td>sarcastic</td>\n",
              "    </tr>\n",
              "    <tr>\n",
              "      <th>6543</th>\n",
              "      <td>Two hours of non-stop, mind-numbing action.</td>\n",
              "      <td>sarcastic</td>\n",
              "    </tr>\n",
              "  </tbody>\n",
              "</table>\n",
              "<p>6497 rows × 2 columns</p>\n",
              "</div>\n",
              "    <div class=\"colab-df-buttons\">\n",
              "\n",
              "  <div class=\"colab-df-container\">\n",
              "    <button class=\"colab-df-convert\" onclick=\"convertToInteractive('df-fb8dc8e9-6463-4122-97ec-c50bb37cf4a7')\"\n",
              "            title=\"Convert this dataframe to an interactive table.\"\n",
              "            style=\"display:none;\">\n",
              "\n",
              "  <svg xmlns=\"http://www.w3.org/2000/svg\" height=\"24px\" viewBox=\"0 -960 960 960\">\n",
              "    <path d=\"M120-120v-720h720v720H120Zm60-500h600v-160H180v160Zm220 220h160v-160H400v160Zm0 220h160v-160H400v160ZM180-400h160v-160H180v160Zm440 0h160v-160H620v160ZM180-180h160v-160H180v160Zm440 0h160v-160H620v160Z\"/>\n",
              "  </svg>\n",
              "    </button>\n",
              "\n",
              "  <style>\n",
              "    .colab-df-container {\n",
              "      display:flex;\n",
              "      gap: 12px;\n",
              "    }\n",
              "\n",
              "    .colab-df-convert {\n",
              "      background-color: #E8F0FE;\n",
              "      border: none;\n",
              "      border-radius: 50%;\n",
              "      cursor: pointer;\n",
              "      display: none;\n",
              "      fill: #1967D2;\n",
              "      height: 32px;\n",
              "      padding: 0 0 0 0;\n",
              "      width: 32px;\n",
              "    }\n",
              "\n",
              "    .colab-df-convert:hover {\n",
              "      background-color: #E2EBFA;\n",
              "      box-shadow: 0px 1px 2px rgba(60, 64, 67, 0.3), 0px 1px 3px 1px rgba(60, 64, 67, 0.15);\n",
              "      fill: #174EA6;\n",
              "    }\n",
              "\n",
              "    .colab-df-buttons div {\n",
              "      margin-bottom: 4px;\n",
              "    }\n",
              "\n",
              "    [theme=dark] .colab-df-convert {\n",
              "      background-color: #3B4455;\n",
              "      fill: #D2E3FC;\n",
              "    }\n",
              "\n",
              "    [theme=dark] .colab-df-convert:hover {\n",
              "      background-color: #434B5C;\n",
              "      box-shadow: 0px 1px 3px 1px rgba(0, 0, 0, 0.15);\n",
              "      filter: drop-shadow(0px 1px 2px rgba(0, 0, 0, 0.3));\n",
              "      fill: #FFFFFF;\n",
              "    }\n",
              "  </style>\n",
              "\n",
              "    <script>\n",
              "      const buttonEl =\n",
              "        document.querySelector('#df-fb8dc8e9-6463-4122-97ec-c50bb37cf4a7 button.colab-df-convert');\n",
              "      buttonEl.style.display =\n",
              "        google.colab.kernel.accessAllowed ? 'block' : 'none';\n",
              "\n",
              "      async function convertToInteractive(key) {\n",
              "        const element = document.querySelector('#df-fb8dc8e9-6463-4122-97ec-c50bb37cf4a7');\n",
              "        const dataTable =\n",
              "          await google.colab.kernel.invokeFunction('convertToInteractive',\n",
              "                                                    [key], {});\n",
              "        if (!dataTable) return;\n",
              "\n",
              "        const docLinkHtml = 'Like what you see? Visit the ' +\n",
              "          '<a target=\"_blank\" href=https://colab.research.google.com/notebooks/data_table.ipynb>data table notebook</a>'\n",
              "          + ' to learn more about interactive tables.';\n",
              "        element.innerHTML = '';\n",
              "        dataTable['output_type'] = 'display_data';\n",
              "        await google.colab.output.renderOutput(dataTable, element);\n",
              "        const docLink = document.createElement('div');\n",
              "        docLink.innerHTML = docLinkHtml;\n",
              "        element.appendChild(docLink);\n",
              "      }\n",
              "    </script>\n",
              "  </div>\n",
              "\n",
              "\n",
              "<div id=\"df-32cc0f74-d622-43e1-b998-e64905c4602f\">\n",
              "  <button class=\"colab-df-quickchart\" onclick=\"quickchart('df-32cc0f74-d622-43e1-b998-e64905c4602f')\"\n",
              "            title=\"Suggest charts\"\n",
              "            style=\"display:none;\">\n",
              "\n",
              "<svg xmlns=\"http://www.w3.org/2000/svg\" height=\"24px\"viewBox=\"0 0 24 24\"\n",
              "     width=\"24px\">\n",
              "    <g>\n",
              "        <path d=\"M19 3H5c-1.1 0-2 .9-2 2v14c0 1.1.9 2 2 2h14c1.1 0 2-.9 2-2V5c0-1.1-.9-2-2-2zM9 17H7v-7h2v7zm4 0h-2V7h2v10zm4 0h-2v-4h2v4z\"/>\n",
              "    </g>\n",
              "</svg>\n",
              "  </button>\n",
              "\n",
              "<style>\n",
              "  .colab-df-quickchart {\n",
              "      --bg-color: #E8F0FE;\n",
              "      --fill-color: #1967D2;\n",
              "      --hover-bg-color: #E2EBFA;\n",
              "      --hover-fill-color: #174EA6;\n",
              "      --disabled-fill-color: #AAA;\n",
              "      --disabled-bg-color: #DDD;\n",
              "  }\n",
              "\n",
              "  [theme=dark] .colab-df-quickchart {\n",
              "      --bg-color: #3B4455;\n",
              "      --fill-color: #D2E3FC;\n",
              "      --hover-bg-color: #434B5C;\n",
              "      --hover-fill-color: #FFFFFF;\n",
              "      --disabled-bg-color: #3B4455;\n",
              "      --disabled-fill-color: #666;\n",
              "  }\n",
              "\n",
              "  .colab-df-quickchart {\n",
              "    background-color: var(--bg-color);\n",
              "    border: none;\n",
              "    border-radius: 50%;\n",
              "    cursor: pointer;\n",
              "    display: none;\n",
              "    fill: var(--fill-color);\n",
              "    height: 32px;\n",
              "    padding: 0;\n",
              "    width: 32px;\n",
              "  }\n",
              "\n",
              "  .colab-df-quickchart:hover {\n",
              "    background-color: var(--hover-bg-color);\n",
              "    box-shadow: 0 1px 2px rgba(60, 64, 67, 0.3), 0 1px 3px 1px rgba(60, 64, 67, 0.15);\n",
              "    fill: var(--button-hover-fill-color);\n",
              "  }\n",
              "\n",
              "  .colab-df-quickchart-complete:disabled,\n",
              "  .colab-df-quickchart-complete:disabled:hover {\n",
              "    background-color: var(--disabled-bg-color);\n",
              "    fill: var(--disabled-fill-color);\n",
              "    box-shadow: none;\n",
              "  }\n",
              "\n",
              "  .colab-df-spinner {\n",
              "    border: 2px solid var(--fill-color);\n",
              "    border-color: transparent;\n",
              "    border-bottom-color: var(--fill-color);\n",
              "    animation:\n",
              "      spin 1s steps(1) infinite;\n",
              "  }\n",
              "\n",
              "  @keyframes spin {\n",
              "    0% {\n",
              "      border-color: transparent;\n",
              "      border-bottom-color: var(--fill-color);\n",
              "      border-left-color: var(--fill-color);\n",
              "    }\n",
              "    20% {\n",
              "      border-color: transparent;\n",
              "      border-left-color: var(--fill-color);\n",
              "      border-top-color: var(--fill-color);\n",
              "    }\n",
              "    30% {\n",
              "      border-color: transparent;\n",
              "      border-left-color: var(--fill-color);\n",
              "      border-top-color: var(--fill-color);\n",
              "      border-right-color: var(--fill-color);\n",
              "    }\n",
              "    40% {\n",
              "      border-color: transparent;\n",
              "      border-right-color: var(--fill-color);\n",
              "      border-top-color: var(--fill-color);\n",
              "    }\n",
              "    60% {\n",
              "      border-color: transparent;\n",
              "      border-right-color: var(--fill-color);\n",
              "    }\n",
              "    80% {\n",
              "      border-color: transparent;\n",
              "      border-right-color: var(--fill-color);\n",
              "      border-bottom-color: var(--fill-color);\n",
              "    }\n",
              "    90% {\n",
              "      border-color: transparent;\n",
              "      border-bottom-color: var(--fill-color);\n",
              "    }\n",
              "  }\n",
              "</style>\n",
              "\n",
              "  <script>\n",
              "    async function quickchart(key) {\n",
              "      const quickchartButtonEl =\n",
              "        document.querySelector('#' + key + ' button');\n",
              "      quickchartButtonEl.disabled = true;  // To prevent multiple clicks.\n",
              "      quickchartButtonEl.classList.add('colab-df-spinner');\n",
              "      try {\n",
              "        const charts = await google.colab.kernel.invokeFunction(\n",
              "            'suggestCharts', [key], {});\n",
              "      } catch (error) {\n",
              "        console.error('Error during call to suggestCharts:', error);\n",
              "      }\n",
              "      quickchartButtonEl.classList.remove('colab-df-spinner');\n",
              "      quickchartButtonEl.classList.add('colab-df-quickchart-complete');\n",
              "    }\n",
              "    (() => {\n",
              "      let quickchartButtonEl =\n",
              "        document.querySelector('#df-32cc0f74-d622-43e1-b998-e64905c4602f button');\n",
              "      quickchartButtonEl.style.display =\n",
              "        google.colab.kernel.accessAllowed ? 'block' : 'none';\n",
              "    })();\n",
              "  </script>\n",
              "</div>\n",
              "\n",
              "  <div id=\"id_bbf870f7-4cb1-4090-98ad-df58a1a39cdd\">\n",
              "    <style>\n",
              "      .colab-df-generate {\n",
              "        background-color: #E8F0FE;\n",
              "        border: none;\n",
              "        border-radius: 50%;\n",
              "        cursor: pointer;\n",
              "        display: none;\n",
              "        fill: #1967D2;\n",
              "        height: 32px;\n",
              "        padding: 0 0 0 0;\n",
              "        width: 32px;\n",
              "      }\n",
              "\n",
              "      .colab-df-generate:hover {\n",
              "        background-color: #E2EBFA;\n",
              "        box-shadow: 0px 1px 2px rgba(60, 64, 67, 0.3), 0px 1px 3px 1px rgba(60, 64, 67, 0.15);\n",
              "        fill: #174EA6;\n",
              "      }\n",
              "\n",
              "      [theme=dark] .colab-df-generate {\n",
              "        background-color: #3B4455;\n",
              "        fill: #D2E3FC;\n",
              "      }\n",
              "\n",
              "      [theme=dark] .colab-df-generate:hover {\n",
              "        background-color: #434B5C;\n",
              "        box-shadow: 0px 1px 3px 1px rgba(0, 0, 0, 0.15);\n",
              "        filter: drop-shadow(0px 1px 2px rgba(0, 0, 0, 0.3));\n",
              "        fill: #FFFFFF;\n",
              "      }\n",
              "    </style>\n",
              "    <button class=\"colab-df-generate\" onclick=\"generateWithVariable('df')\"\n",
              "            title=\"Generate code using this dataframe.\"\n",
              "            style=\"display:none;\">\n",
              "\n",
              "  <svg xmlns=\"http://www.w3.org/2000/svg\" height=\"24px\"viewBox=\"0 0 24 24\"\n",
              "       width=\"24px\">\n",
              "    <path d=\"M7,19H8.4L18.45,9,17,7.55,7,17.6ZM5,21V16.75L18.45,3.32a2,2,0,0,1,2.83,0l1.4,1.43a1.91,1.91,0,0,1,.58,1.4,1.91,1.91,0,0,1-.58,1.4L9.25,21ZM18.45,9,17,7.55Zm-12,3A5.31,5.31,0,0,0,4.9,8.1,5.31,5.31,0,0,0,1,6.5,5.31,5.31,0,0,0,4.9,4.9,5.31,5.31,0,0,0,6.5,1,5.31,5.31,0,0,0,8.1,4.9,5.31,5.31,0,0,0,12,6.5,5.46,5.46,0,0,0,6.5,12Z\"/>\n",
              "  </svg>\n",
              "    </button>\n",
              "    <script>\n",
              "      (() => {\n",
              "      const buttonEl =\n",
              "        document.querySelector('#id_bbf870f7-4cb1-4090-98ad-df58a1a39cdd button.colab-df-generate');\n",
              "      buttonEl.style.display =\n",
              "        google.colab.kernel.accessAllowed ? 'block' : 'none';\n",
              "\n",
              "      buttonEl.onclick = () => {\n",
              "        google.colab.notebook.generateWithVariable('df');\n",
              "      }\n",
              "      })();\n",
              "    </script>\n",
              "  </div>\n",
              "\n",
              "    </div>\n",
              "  </div>\n"
            ],
            "application/vnd.google.colaboratory.intrinsic+json": {
              "type": "dataframe",
              "variable_name": "df",
              "summary": "{\n  \"name\": \"df\",\n  \"rows\": 6497,\n  \"fields\": [\n    {\n      \"column\": \"reviews\",\n      \"properties\": {\n        \"dtype\": \"string\",\n        \"num_unique_values\": 6497,\n        \"samples\": [\n          \"First off, I'm not a firefighter, but I'm in some kind of para-firefighting unit (the guys who get called if an earthquake hits and the real firefighters need more people for SAR), so I had some training and simulation but I have no real-life experience.<br /><br />But still, there are some points one notices as totally unbelievable. I can understand that they removed the mouth/nose-pieces of the masks and that there is not enough smoke, because the public would otherwise see nothing. But some things defy logic: <br /><br />- No second mask attached to the oxygen. How the hell do you want to rescue people trough the smoke without one? <br /><br />- Rappelling people. No, it's not done like that. I'd be screaming too if somebody hitched a rope around me in that fashion and hung me from a building. If I could scream, that is, and not pass out from want of air because the rope squeezes my lungs. The second time when they're abseiling Jack it's better but still weird.<br /><br />- \\\"Aim high\\\". No, you bloody don't. You always fight fire from as low as possible. You don't fight want to sprinkle flames, you'll want to extinguish the fire, and that's below the flames.<br /><br />- No discipline. They're running around like chicken. And they shout all the time, instead of using radio, and keeping discipline.<br /><br />- No tactics. Why don't they work in teams of at least two? You still can get separated, but it takes much more than if everyone just scurries around alone in search for victims.<br /><br />- Do they really enter buildings without bringing water? I Europe, firefighters would never enter a burning building without.<br /><br />- Firefighters on the roof. WTF do they think they're doing there without security lines or water? - Exploding rooms. Wood and brick does not \\\"explode suddenly\\\".<br /><br />The better points are actually camaraderie and the other non-firefighting parts of the movie. It's a lot of kitsch, but that's alright. I'll give it a point for this.\",\n          \"\\\"Stargate SG-1\\\" follows the intergalactic explorations of a team named SG-1 through a device called the Stargate and all the surprises awaiting on the other side of the wormhole.<br /><br />Having seen this series sporadically for it's first few seasons when it first came out, I didn't know how good this series would really be, 10 years after I had last seen an episode. My old impression was that the series was great, but my impression was far from the truth. \\\"Stargate SG-1\\\" is more than just a simple sci-fi series, it is one of the most well made, interesting, long running, exciting sci-fi ever produced. And why? Because it runs on an amazing premise.<br /><br />This series value far surpasses that of the movie it was based on and I think it is a very good example that television, as a medium, with a suitable premise, is able to provide something that doesn't work on the time restriction of film. The sense of familiarity created by a long running series, watching the characters and their circumstances progressing with time is stunning and just adds to the ability to suspend disbelief, and it's all a result of terrific writing and a lot of dedication by the all crew to the show.<br /><br />\\\"Stargate SG-1\\\" kept offering great adventures throughout the 10 years, but was never afraid of the challenge of moving the plot and it gave way for some very different time periods of the show: <br /><br />- The first few seasons, perhaps up to the 4th/5th, focused a lot more on the exploration of planets and different situations, keeping the episodes fairly unrelated to each other if it were not for the always impending Goaul'd threat. <br /><br />- From the 5th to the 7th there was increasingly more episodes focusing on fighting the Goaul'd and preventing attacks on Earth. After this seasons exploration of the planets was almost only an excuse for putting sg-1 in a place of Goaul'd/replicator/ori conflicts<br /><br />- The 8th season is probably the most mixed one. It has a stream of episodes that includes minor earth matters in which the stargate is hardly even mentioned, but the last episodes feature some great replicator moments. <br /><br />- The 9th and 10th travel together because they have the same new enemy and no Jack O'Neil. They are both good continuations, although the first few episodes of the 10th season are a little weak, because they seem to be about little more than SG-1 and human/Jaffa losing battle after battle to the Ori.<br /><br />Basically, after season 7, exploration was pushed to the background, which in many ways was a shame, because of the potential and mystery each planet(episode) presented; on the other hand, it made for so many great episodes of the ongoing conflicts that the change of nature of the show still worked and shows how great and bold the writers were.<br /><br />Even tough I believe the series have a high quality ending that nicely puts it to rest, the feeling I have is that it could go on; the people involved were all great professionals and the series narrative had plenty to offer. A last season returning to the beginning nature of the series was very doable and would have been most welcome, but ultimately things are as they are.<br /><br />In the end, because of the fact that I enjoyed everything, it's a little hard to find that it ends. The big picture, however, the one drawn by the work of hundreds of people over the course of 10 years, is a sight of beauty and a true testament to the dedication of the crew, those outstanding actors and the characters the we will always remember as a collective by the name of SG-1.\",\n          \"\\\"Thank you, Hollywood, for yet another comedy movie that fetishizes sexism and racism. Because clearly, bigotry is hilarious.\\\"\"\n        ],\n        \"semantic_type\": \"\",\n        \"description\": \"\"\n      }\n    },\n    {\n      \"column\": \"Sarcasm\",\n      \"properties\": {\n        \"dtype\": \"category\",\n        \"num_unique_values\": 2,\n        \"samples\": [\n          \"sarcastic\",\n          \"not sarcastic\"\n        ],\n        \"semantic_type\": \"\",\n        \"description\": \"\"\n      }\n    }\n  ]\n}"
            }
          },
          "metadata": {},
          "execution_count": 6
        }
      ]
    },
    {
      "cell_type": "markdown",
      "source": [
        "#**2) Cleaning data**\n",
        "\n",
        "Cleaning the input Dataset reviews by performing the following steps:\n",
        "\n",
        "1.  Removing HTML tags from reviews.\n",
        "\n",
        "2.  Removing URLs from reviews.\n",
        "\n",
        "3.  Removing specified punctuation marks from reviews.\n",
        "\n",
        "4.  Removing extra white spaces from reviews."
      ],
      "metadata": {
        "id": "K9F1ANp_j3pP"
      }
    },
    {
      "cell_type": "code",
      "execution_count": 7,
      "metadata": {
        "id": "J4L44RSbjg9L"
      },
      "outputs": [],
      "source": [
        "import re\n",
        "import string"
      ]
    },
    {
      "cell_type": "code",
      "execution_count": 8,
      "metadata": {
        "id": "6dXWkkTrf1M4"
      },
      "outputs": [],
      "source": [
        "def clean_text(text):\n",
        "    # Compile regular expressions for HTML tags and URLs , defining punctuation marks to remove\n",
        "    html_pattern = re.compile('<.*?>')\n",
        "    url_pattern = re.compile(r'https?://\\S+|www\\.\\S+')\n",
        "    punctuation_to_remove = ''.join(p for p in string.punctuation if p not in ['?', '!', '.'])\n",
        "\n",
        "    # Remove HTML tags,urls,punctuation marks\n",
        "    text = html_pattern.sub('', text)\n",
        "    text = url_pattern.sub('', text)\n",
        "    text = text.translate(str.maketrans('', '', punctuation_to_remove))\n",
        "\n",
        "    # Remove extra white spaces\n",
        "    text = re.sub(r'\\s+', ' ', text).strip()\n",
        "\n",
        "    return text"
      ]
    },
    {
      "cell_type": "code",
      "source": [
        "df['cleaned_reviews'] = df['reviews'].apply(clean_text)"
      ],
      "metadata": {
        "id": "ehIUdvtdU1iT"
      },
      "execution_count": 9,
      "outputs": []
    },
    {
      "cell_type": "code",
      "source": [
        "df.head(5)"
      ],
      "metadata": {
        "colab": {
          "base_uri": "https://localhost:8080/",
          "height": 206
        },
        "id": "GB78UfDtcX5Y",
        "outputId": "6004ca55-7ab6-4ce3-c376-d41b7dba9548"
      },
      "execution_count": 10,
      "outputs": [
        {
          "output_type": "execute_result",
          "data": {
            "text/plain": [
              "                                             reviews        Sarcasm  \\\n",
              "0  One of the other reviewers has mentioned that ...  not sarcastic   \n",
              "1  A wonderful little production. <br /><br />The...  not sarcastic   \n",
              "2  This movie was a groundbreaking experience!<br...      sarcastic   \n",
              "3  I thought this was a wonderful way to spend ti...  not sarcastic   \n",
              "4  Basically there's a family where a little boy ...      sarcastic   \n",
              "\n",
              "                                     cleaned_reviews  \n",
              "0  One of the other reviewers has mentioned that ...  \n",
              "1  A wonderful little production. The filming tec...  \n",
              "2  This movie was a groundbreaking experience! Iv...  \n",
              "3  I thought this was a wonderful way to spend ti...  \n",
              "4  Basically theres a family where a little boy J...  "
            ],
            "text/html": [
              "\n",
              "  <div id=\"df-0cbf8536-b56c-46ea-a2d4-44f45b6ea4c8\" class=\"colab-df-container\">\n",
              "    <div>\n",
              "<style scoped>\n",
              "    .dataframe tbody tr th:only-of-type {\n",
              "        vertical-align: middle;\n",
              "    }\n",
              "\n",
              "    .dataframe tbody tr th {\n",
              "        vertical-align: top;\n",
              "    }\n",
              "\n",
              "    .dataframe thead th {\n",
              "        text-align: right;\n",
              "    }\n",
              "</style>\n",
              "<table border=\"1\" class=\"dataframe\">\n",
              "  <thead>\n",
              "    <tr style=\"text-align: right;\">\n",
              "      <th></th>\n",
              "      <th>reviews</th>\n",
              "      <th>Sarcasm</th>\n",
              "      <th>cleaned_reviews</th>\n",
              "    </tr>\n",
              "  </thead>\n",
              "  <tbody>\n",
              "    <tr>\n",
              "      <th>0</th>\n",
              "      <td>One of the other reviewers has mentioned that ...</td>\n",
              "      <td>not sarcastic</td>\n",
              "      <td>One of the other reviewers has mentioned that ...</td>\n",
              "    </tr>\n",
              "    <tr>\n",
              "      <th>1</th>\n",
              "      <td>A wonderful little production. &lt;br /&gt;&lt;br /&gt;The...</td>\n",
              "      <td>not sarcastic</td>\n",
              "      <td>A wonderful little production. The filming tec...</td>\n",
              "    </tr>\n",
              "    <tr>\n",
              "      <th>2</th>\n",
              "      <td>This movie was a groundbreaking experience!&lt;br...</td>\n",
              "      <td>sarcastic</td>\n",
              "      <td>This movie was a groundbreaking experience! Iv...</td>\n",
              "    </tr>\n",
              "    <tr>\n",
              "      <th>3</th>\n",
              "      <td>I thought this was a wonderful way to spend ti...</td>\n",
              "      <td>not sarcastic</td>\n",
              "      <td>I thought this was a wonderful way to spend ti...</td>\n",
              "    </tr>\n",
              "    <tr>\n",
              "      <th>4</th>\n",
              "      <td>Basically there's a family where a little boy ...</td>\n",
              "      <td>sarcastic</td>\n",
              "      <td>Basically theres a family where a little boy J...</td>\n",
              "    </tr>\n",
              "  </tbody>\n",
              "</table>\n",
              "</div>\n",
              "    <div class=\"colab-df-buttons\">\n",
              "\n",
              "  <div class=\"colab-df-container\">\n",
              "    <button class=\"colab-df-convert\" onclick=\"convertToInteractive('df-0cbf8536-b56c-46ea-a2d4-44f45b6ea4c8')\"\n",
              "            title=\"Convert this dataframe to an interactive table.\"\n",
              "            style=\"display:none;\">\n",
              "\n",
              "  <svg xmlns=\"http://www.w3.org/2000/svg\" height=\"24px\" viewBox=\"0 -960 960 960\">\n",
              "    <path d=\"M120-120v-720h720v720H120Zm60-500h600v-160H180v160Zm220 220h160v-160H400v160Zm0 220h160v-160H400v160ZM180-400h160v-160H180v160Zm440 0h160v-160H620v160ZM180-180h160v-160H180v160Zm440 0h160v-160H620v160Z\"/>\n",
              "  </svg>\n",
              "    </button>\n",
              "\n",
              "  <style>\n",
              "    .colab-df-container {\n",
              "      display:flex;\n",
              "      gap: 12px;\n",
              "    }\n",
              "\n",
              "    .colab-df-convert {\n",
              "      background-color: #E8F0FE;\n",
              "      border: none;\n",
              "      border-radius: 50%;\n",
              "      cursor: pointer;\n",
              "      display: none;\n",
              "      fill: #1967D2;\n",
              "      height: 32px;\n",
              "      padding: 0 0 0 0;\n",
              "      width: 32px;\n",
              "    }\n",
              "\n",
              "    .colab-df-convert:hover {\n",
              "      background-color: #E2EBFA;\n",
              "      box-shadow: 0px 1px 2px rgba(60, 64, 67, 0.3), 0px 1px 3px 1px rgba(60, 64, 67, 0.15);\n",
              "      fill: #174EA6;\n",
              "    }\n",
              "\n",
              "    .colab-df-buttons div {\n",
              "      margin-bottom: 4px;\n",
              "    }\n",
              "\n",
              "    [theme=dark] .colab-df-convert {\n",
              "      background-color: #3B4455;\n",
              "      fill: #D2E3FC;\n",
              "    }\n",
              "\n",
              "    [theme=dark] .colab-df-convert:hover {\n",
              "      background-color: #434B5C;\n",
              "      box-shadow: 0px 1px 3px 1px rgba(0, 0, 0, 0.15);\n",
              "      filter: drop-shadow(0px 1px 2px rgba(0, 0, 0, 0.3));\n",
              "      fill: #FFFFFF;\n",
              "    }\n",
              "  </style>\n",
              "\n",
              "    <script>\n",
              "      const buttonEl =\n",
              "        document.querySelector('#df-0cbf8536-b56c-46ea-a2d4-44f45b6ea4c8 button.colab-df-convert');\n",
              "      buttonEl.style.display =\n",
              "        google.colab.kernel.accessAllowed ? 'block' : 'none';\n",
              "\n",
              "      async function convertToInteractive(key) {\n",
              "        const element = document.querySelector('#df-0cbf8536-b56c-46ea-a2d4-44f45b6ea4c8');\n",
              "        const dataTable =\n",
              "          await google.colab.kernel.invokeFunction('convertToInteractive',\n",
              "                                                    [key], {});\n",
              "        if (!dataTable) return;\n",
              "\n",
              "        const docLinkHtml = 'Like what you see? Visit the ' +\n",
              "          '<a target=\"_blank\" href=https://colab.research.google.com/notebooks/data_table.ipynb>data table notebook</a>'\n",
              "          + ' to learn more about interactive tables.';\n",
              "        element.innerHTML = '';\n",
              "        dataTable['output_type'] = 'display_data';\n",
              "        await google.colab.output.renderOutput(dataTable, element);\n",
              "        const docLink = document.createElement('div');\n",
              "        docLink.innerHTML = docLinkHtml;\n",
              "        element.appendChild(docLink);\n",
              "      }\n",
              "    </script>\n",
              "  </div>\n",
              "\n",
              "\n",
              "<div id=\"df-9e515c7b-b3e0-4b57-966a-a9449046a70d\">\n",
              "  <button class=\"colab-df-quickchart\" onclick=\"quickchart('df-9e515c7b-b3e0-4b57-966a-a9449046a70d')\"\n",
              "            title=\"Suggest charts\"\n",
              "            style=\"display:none;\">\n",
              "\n",
              "<svg xmlns=\"http://www.w3.org/2000/svg\" height=\"24px\"viewBox=\"0 0 24 24\"\n",
              "     width=\"24px\">\n",
              "    <g>\n",
              "        <path d=\"M19 3H5c-1.1 0-2 .9-2 2v14c0 1.1.9 2 2 2h14c1.1 0 2-.9 2-2V5c0-1.1-.9-2-2-2zM9 17H7v-7h2v7zm4 0h-2V7h2v10zm4 0h-2v-4h2v4z\"/>\n",
              "    </g>\n",
              "</svg>\n",
              "  </button>\n",
              "\n",
              "<style>\n",
              "  .colab-df-quickchart {\n",
              "      --bg-color: #E8F0FE;\n",
              "      --fill-color: #1967D2;\n",
              "      --hover-bg-color: #E2EBFA;\n",
              "      --hover-fill-color: #174EA6;\n",
              "      --disabled-fill-color: #AAA;\n",
              "      --disabled-bg-color: #DDD;\n",
              "  }\n",
              "\n",
              "  [theme=dark] .colab-df-quickchart {\n",
              "      --bg-color: #3B4455;\n",
              "      --fill-color: #D2E3FC;\n",
              "      --hover-bg-color: #434B5C;\n",
              "      --hover-fill-color: #FFFFFF;\n",
              "      --disabled-bg-color: #3B4455;\n",
              "      --disabled-fill-color: #666;\n",
              "  }\n",
              "\n",
              "  .colab-df-quickchart {\n",
              "    background-color: var(--bg-color);\n",
              "    border: none;\n",
              "    border-radius: 50%;\n",
              "    cursor: pointer;\n",
              "    display: none;\n",
              "    fill: var(--fill-color);\n",
              "    height: 32px;\n",
              "    padding: 0;\n",
              "    width: 32px;\n",
              "  }\n",
              "\n",
              "  .colab-df-quickchart:hover {\n",
              "    background-color: var(--hover-bg-color);\n",
              "    box-shadow: 0 1px 2px rgba(60, 64, 67, 0.3), 0 1px 3px 1px rgba(60, 64, 67, 0.15);\n",
              "    fill: var(--button-hover-fill-color);\n",
              "  }\n",
              "\n",
              "  .colab-df-quickchart-complete:disabled,\n",
              "  .colab-df-quickchart-complete:disabled:hover {\n",
              "    background-color: var(--disabled-bg-color);\n",
              "    fill: var(--disabled-fill-color);\n",
              "    box-shadow: none;\n",
              "  }\n",
              "\n",
              "  .colab-df-spinner {\n",
              "    border: 2px solid var(--fill-color);\n",
              "    border-color: transparent;\n",
              "    border-bottom-color: var(--fill-color);\n",
              "    animation:\n",
              "      spin 1s steps(1) infinite;\n",
              "  }\n",
              "\n",
              "  @keyframes spin {\n",
              "    0% {\n",
              "      border-color: transparent;\n",
              "      border-bottom-color: var(--fill-color);\n",
              "      border-left-color: var(--fill-color);\n",
              "    }\n",
              "    20% {\n",
              "      border-color: transparent;\n",
              "      border-left-color: var(--fill-color);\n",
              "      border-top-color: var(--fill-color);\n",
              "    }\n",
              "    30% {\n",
              "      border-color: transparent;\n",
              "      border-left-color: var(--fill-color);\n",
              "      border-top-color: var(--fill-color);\n",
              "      border-right-color: var(--fill-color);\n",
              "    }\n",
              "    40% {\n",
              "      border-color: transparent;\n",
              "      border-right-color: var(--fill-color);\n",
              "      border-top-color: var(--fill-color);\n",
              "    }\n",
              "    60% {\n",
              "      border-color: transparent;\n",
              "      border-right-color: var(--fill-color);\n",
              "    }\n",
              "    80% {\n",
              "      border-color: transparent;\n",
              "      border-right-color: var(--fill-color);\n",
              "      border-bottom-color: var(--fill-color);\n",
              "    }\n",
              "    90% {\n",
              "      border-color: transparent;\n",
              "      border-bottom-color: var(--fill-color);\n",
              "    }\n",
              "  }\n",
              "</style>\n",
              "\n",
              "  <script>\n",
              "    async function quickchart(key) {\n",
              "      const quickchartButtonEl =\n",
              "        document.querySelector('#' + key + ' button');\n",
              "      quickchartButtonEl.disabled = true;  // To prevent multiple clicks.\n",
              "      quickchartButtonEl.classList.add('colab-df-spinner');\n",
              "      try {\n",
              "        const charts = await google.colab.kernel.invokeFunction(\n",
              "            'suggestCharts', [key], {});\n",
              "      } catch (error) {\n",
              "        console.error('Error during call to suggestCharts:', error);\n",
              "      }\n",
              "      quickchartButtonEl.classList.remove('colab-df-spinner');\n",
              "      quickchartButtonEl.classList.add('colab-df-quickchart-complete');\n",
              "    }\n",
              "    (() => {\n",
              "      let quickchartButtonEl =\n",
              "        document.querySelector('#df-9e515c7b-b3e0-4b57-966a-a9449046a70d button');\n",
              "      quickchartButtonEl.style.display =\n",
              "        google.colab.kernel.accessAllowed ? 'block' : 'none';\n",
              "    })();\n",
              "  </script>\n",
              "</div>\n",
              "\n",
              "    </div>\n",
              "  </div>\n"
            ],
            "application/vnd.google.colaboratory.intrinsic+json": {
              "type": "dataframe",
              "variable_name": "df",
              "summary": "{\n  \"name\": \"df\",\n  \"rows\": 6497,\n  \"fields\": [\n    {\n      \"column\": \"reviews\",\n      \"properties\": {\n        \"dtype\": \"string\",\n        \"num_unique_values\": 6497,\n        \"samples\": [\n          \"First off, I'm not a firefighter, but I'm in some kind of para-firefighting unit (the guys who get called if an earthquake hits and the real firefighters need more people for SAR), so I had some training and simulation but I have no real-life experience.<br /><br />But still, there are some points one notices as totally unbelievable. I can understand that they removed the mouth/nose-pieces of the masks and that there is not enough smoke, because the public would otherwise see nothing. But some things defy logic: <br /><br />- No second mask attached to the oxygen. How the hell do you want to rescue people trough the smoke without one? <br /><br />- Rappelling people. No, it's not done like that. I'd be screaming too if somebody hitched a rope around me in that fashion and hung me from a building. If I could scream, that is, and not pass out from want of air because the rope squeezes my lungs. The second time when they're abseiling Jack it's better but still weird.<br /><br />- \\\"Aim high\\\". No, you bloody don't. You always fight fire from as low as possible. You don't fight want to sprinkle flames, you'll want to extinguish the fire, and that's below the flames.<br /><br />- No discipline. They're running around like chicken. And they shout all the time, instead of using radio, and keeping discipline.<br /><br />- No tactics. Why don't they work in teams of at least two? You still can get separated, but it takes much more than if everyone just scurries around alone in search for victims.<br /><br />- Do they really enter buildings without bringing water? I Europe, firefighters would never enter a burning building without.<br /><br />- Firefighters on the roof. WTF do they think they're doing there without security lines or water? - Exploding rooms. Wood and brick does not \\\"explode suddenly\\\".<br /><br />The better points are actually camaraderie and the other non-firefighting parts of the movie. It's a lot of kitsch, but that's alright. I'll give it a point for this.\",\n          \"\\\"Stargate SG-1\\\" follows the intergalactic explorations of a team named SG-1 through a device called the Stargate and all the surprises awaiting on the other side of the wormhole.<br /><br />Having seen this series sporadically for it's first few seasons when it first came out, I didn't know how good this series would really be, 10 years after I had last seen an episode. My old impression was that the series was great, but my impression was far from the truth. \\\"Stargate SG-1\\\" is more than just a simple sci-fi series, it is one of the most well made, interesting, long running, exciting sci-fi ever produced. And why? Because it runs on an amazing premise.<br /><br />This series value far surpasses that of the movie it was based on and I think it is a very good example that television, as a medium, with a suitable premise, is able to provide something that doesn't work on the time restriction of film. The sense of familiarity created by a long running series, watching the characters and their circumstances progressing with time is stunning and just adds to the ability to suspend disbelief, and it's all a result of terrific writing and a lot of dedication by the all crew to the show.<br /><br />\\\"Stargate SG-1\\\" kept offering great adventures throughout the 10 years, but was never afraid of the challenge of moving the plot and it gave way for some very different time periods of the show: <br /><br />- The first few seasons, perhaps up to the 4th/5th, focused a lot more on the exploration of planets and different situations, keeping the episodes fairly unrelated to each other if it were not for the always impending Goaul'd threat. <br /><br />- From the 5th to the 7th there was increasingly more episodes focusing on fighting the Goaul'd and preventing attacks on Earth. After this seasons exploration of the planets was almost only an excuse for putting sg-1 in a place of Goaul'd/replicator/ori conflicts<br /><br />- The 8th season is probably the most mixed one. It has a stream of episodes that includes minor earth matters in which the stargate is hardly even mentioned, but the last episodes feature some great replicator moments. <br /><br />- The 9th and 10th travel together because they have the same new enemy and no Jack O'Neil. They are both good continuations, although the first few episodes of the 10th season are a little weak, because they seem to be about little more than SG-1 and human/Jaffa losing battle after battle to the Ori.<br /><br />Basically, after season 7, exploration was pushed to the background, which in many ways was a shame, because of the potential and mystery each planet(episode) presented; on the other hand, it made for so many great episodes of the ongoing conflicts that the change of nature of the show still worked and shows how great and bold the writers were.<br /><br />Even tough I believe the series have a high quality ending that nicely puts it to rest, the feeling I have is that it could go on; the people involved were all great professionals and the series narrative had plenty to offer. A last season returning to the beginning nature of the series was very doable and would have been most welcome, but ultimately things are as they are.<br /><br />In the end, because of the fact that I enjoyed everything, it's a little hard to find that it ends. The big picture, however, the one drawn by the work of hundreds of people over the course of 10 years, is a sight of beauty and a true testament to the dedication of the crew, those outstanding actors and the characters the we will always remember as a collective by the name of SG-1.\",\n          \"\\\"Thank you, Hollywood, for yet another comedy movie that fetishizes sexism and racism. Because clearly, bigotry is hilarious.\\\"\"\n        ],\n        \"semantic_type\": \"\",\n        \"description\": \"\"\n      }\n    },\n    {\n      \"column\": \"Sarcasm\",\n      \"properties\": {\n        \"dtype\": \"category\",\n        \"num_unique_values\": 2,\n        \"samples\": [\n          \"sarcastic\",\n          \"not sarcastic\"\n        ],\n        \"semantic_type\": \"\",\n        \"description\": \"\"\n      }\n    },\n    {\n      \"column\": \"cleaned_reviews\",\n      \"properties\": {\n        \"dtype\": \"string\",\n        \"num_unique_values\": 6475,\n        \"samples\": [\n          \"What we have here is a damn good little nineties thriller that while perhaps lacking in substance still provides great entertainment throughout its running time and overall does everything you could possibly want a film of this nature to do. I saw this film principally because it was directed by John Dahl a highly underrated director behind great thrillers such as The Last Seduction Rounders and Roadkill. I figured that if this film was up to standard of what Ive already seen from the director it would be well worth watching and Red Rock West is certainly a film that Dahl can be proud of. The plot focuses on the overly moral Michael a man travelling across America looking for work. He ends up finding it one day when he stumbles upon a bar in Red Rock County only catch is that the job is to murder a mans wife. Hes been mistaken for a killer named Lyle but instead of doing the job he plays both sides against each other and eventually plans to make a getaway. However his attempts to escape are unsuccessful and he finds himself in a bad situation when the real Lyle turns up...John Dahl appears to enjoy setting thrillers on the road he did it three years earlier with Kill Me Again and again almost a decade on from this film with Roadkill. Its not hard to see why Dahl chooses this sort of location as it provides a fabulous atmosphere for a thriller the likes of this one. Dahl also provides his film with a film noir like atmosphere as the plot mainly focuses on the central character and the word he is plunged into is full of dark and mysterious characters. The acting is largely very good with Nicholas Cage doing an excellent job in the lead role and getting Aclass support from Lara Flynn Boyle J.T. Walsh and of course Dennis Hopper who once again commands the screen with his over the top performance. It has to be said that the second half of the film isnt as gripping as the first but Red Rock West certainly is never boring and the way that Dahl orchestrates the grand finale is excellent in that all the central characters get to be a part of it. Overall Red Rock West is a film that youre unlikely to regret watching. Its thrilling throughout and you cant ask for much more than that!\",\n          \"This movie has got to be the biggest disappointment Ive ever experienced with a film. The acting is horrific the suspense build up minimal and the plot overall is ridiculous. I found myself rooting for the victim to just hurry up and become a victim because she obviously needed to be put out of her misery. Anyone with rudimentary knowledge of how the world works will immediately be disgusted at the leaps were asked to make in logic and the socalled suspenseful buildup would be lucky to get a 3 year old to be mildly worried. Im dismayed that a sequel is planned because it means theyll be asking us to once again swallow a sub par plot line. If this is an example of Raw Feeds work I think Ill be avoiding any and all future films by them.\"\n        ],\n        \"semantic_type\": \"\",\n        \"description\": \"\"\n      }\n    }\n  ]\n}"
            }
          },
          "metadata": {},
          "execution_count": 10
        }
      ]
    },
    {
      "cell_type": "markdown",
      "source": [
        "#**3) Data Preprocessing**\n",
        "\n",
        "We will follow the following methods in order for preprocessing the data :\n",
        "\n",
        "\n",
        "1.   Stop words removal\n",
        "2.   Lemmatization\n",
        "3.   Checking for dataset imbalance\n",
        "4.   Tokenization\n",
        "5.   Input data Embeddings\n",
        "6.   Encoding the labels"
      ],
      "metadata": {
        "id": "Dm5fnBaZj_J_"
      }
    },
    {
      "cell_type": "code",
      "execution_count": 11,
      "metadata": {
        "id": "DTjbXc1ZlGXs"
      },
      "outputs": [],
      "source": [
        "import nltk\n",
        "from nltk.corpus import stopwords\n",
        "from nltk.tokenize import word_tokenize\n",
        "from nltk.stem import WordNetLemmatizer\n",
        "from nltk.corpus import wordnet\n",
        "from nltk import pos_tag"
      ]
    },
    {
      "cell_type": "code",
      "execution_count": 12,
      "metadata": {
        "colab": {
          "base_uri": "https://localhost:8080/"
        },
        "id": "9-p618NnELvC",
        "outputId": "19653525-6dd1-428b-db6c-b35ee4d0af07"
      },
      "outputs": [
        {
          "output_type": "stream",
          "name": "stderr",
          "text": [
            "[nltk_data] Downloading package averaged_perceptron_tagger to\n",
            "[nltk_data]     /root/nltk_data...\n",
            "[nltk_data]   Unzipping taggers/averaged_perceptron_tagger.zip.\n",
            "[nltk_data] Downloading package wordnet to /root/nltk_data...\n",
            "[nltk_data] Downloading package stopwords to /root/nltk_data...\n",
            "[nltk_data]   Unzipping corpora/stopwords.zip.\n"
          ]
        },
        {
          "output_type": "execute_result",
          "data": {
            "text/plain": [
              "True"
            ]
          },
          "metadata": {},
          "execution_count": 12
        }
      ],
      "source": [
        "nltk.download('averaged_perceptron_tagger')\n",
        "nltk.download('wordnet')\n",
        "nltk.download('stopwords')"
      ]
    },
    {
      "cell_type": "code",
      "source": [
        "# Initialize stop words and lemmatizer\n",
        "stop_words = set(stopwords.words('english'))\n",
        "lemmatizer = WordNetLemmatizer()\n",
        "\n",
        "def get_wordnet_pos(tag):\n",
        "    if tag.startswith('J'):\n",
        "        return wordnet.ADJ\n",
        "    elif tag.startswith('V'):\n",
        "        return wordnet.VERB\n",
        "    elif tag.startswith('N'):\n",
        "        return wordnet.NOUN\n",
        "    elif tag.startswith('R'):\n",
        "        return wordnet.ADV\n",
        "    else:\n",
        "        return wordnet.NOUN\n",
        "\n",
        "def process_review(review):\n",
        "    # Remove stopwords\n",
        "    filtered_words = [word for word in review.split() if word.lower() not in stop_words]\n",
        "    filtered_sentence = ' '.join(filtered_words)\n",
        "\n",
        "    # Perform lemmatization\n",
        "    words = filtered_sentence.split()\n",
        "    pos_tags = pos_tag(words)\n",
        "    lemmatized_sentence = ' '.join([lemmatizer.lemmatize(word, get_wordnet_pos(tag)) for word, tag in pos_tags])\n",
        "\n",
        "    return lemmatized_sentence\n"
      ],
      "metadata": {
        "id": "vrggaPG6cYkI"
      },
      "execution_count": 13,
      "outputs": []
    },
    {
      "cell_type": "code",
      "source": [
        "df['lemmatized_reviews'] = df['cleaned_reviews'].apply(process_review)"
      ],
      "metadata": {
        "id": "252myKYrdfxq"
      },
      "execution_count": 14,
      "outputs": []
    },
    {
      "cell_type": "code",
      "source": [
        "df.head(5)"
      ],
      "metadata": {
        "colab": {
          "base_uri": "https://localhost:8080/",
          "height": 293
        },
        "id": "Zmjv3ih9eMQb",
        "outputId": "45d89a1b-1a9c-4e90-de76-2547071054e2"
      },
      "execution_count": 15,
      "outputs": [
        {
          "output_type": "execute_result",
          "data": {
            "text/plain": [
              "                                             reviews        Sarcasm  \\\n",
              "0  One of the other reviewers has mentioned that ...  not sarcastic   \n",
              "1  A wonderful little production. <br /><br />The...  not sarcastic   \n",
              "2  This movie was a groundbreaking experience!<br...      sarcastic   \n",
              "3  I thought this was a wonderful way to spend ti...  not sarcastic   \n",
              "4  Basically there's a family where a little boy ...      sarcastic   \n",
              "\n",
              "                                     cleaned_reviews  \\\n",
              "0  One of the other reviewers has mentioned that ...   \n",
              "1  A wonderful little production. The filming tec...   \n",
              "2  This movie was a groundbreaking experience! Iv...   \n",
              "3  I thought this was a wonderful way to spend ti...   \n",
              "4  Basically theres a family where a little boy J...   \n",
              "\n",
              "                                  lemmatized_reviews  \n",
              "0  One reviewer mention watch 1 Oz episode youll ...  \n",
              "1  wonderful little production. filming technique...  \n",
              "2  movie groundbreaking experience! Ive never see...  \n",
              "3  think wonderful way spend time hot summer week...  \n",
              "4  Basically there family little boy Jake think t...  "
            ],
            "text/html": [
              "\n",
              "  <div id=\"df-339b7b65-ae9f-472f-82dc-b5f4c879a2ff\" class=\"colab-df-container\">\n",
              "    <div>\n",
              "<style scoped>\n",
              "    .dataframe tbody tr th:only-of-type {\n",
              "        vertical-align: middle;\n",
              "    }\n",
              "\n",
              "    .dataframe tbody tr th {\n",
              "        vertical-align: top;\n",
              "    }\n",
              "\n",
              "    .dataframe thead th {\n",
              "        text-align: right;\n",
              "    }\n",
              "</style>\n",
              "<table border=\"1\" class=\"dataframe\">\n",
              "  <thead>\n",
              "    <tr style=\"text-align: right;\">\n",
              "      <th></th>\n",
              "      <th>reviews</th>\n",
              "      <th>Sarcasm</th>\n",
              "      <th>cleaned_reviews</th>\n",
              "      <th>lemmatized_reviews</th>\n",
              "    </tr>\n",
              "  </thead>\n",
              "  <tbody>\n",
              "    <tr>\n",
              "      <th>0</th>\n",
              "      <td>One of the other reviewers has mentioned that ...</td>\n",
              "      <td>not sarcastic</td>\n",
              "      <td>One of the other reviewers has mentioned that ...</td>\n",
              "      <td>One reviewer mention watch 1 Oz episode youll ...</td>\n",
              "    </tr>\n",
              "    <tr>\n",
              "      <th>1</th>\n",
              "      <td>A wonderful little production. &lt;br /&gt;&lt;br /&gt;The...</td>\n",
              "      <td>not sarcastic</td>\n",
              "      <td>A wonderful little production. The filming tec...</td>\n",
              "      <td>wonderful little production. filming technique...</td>\n",
              "    </tr>\n",
              "    <tr>\n",
              "      <th>2</th>\n",
              "      <td>This movie was a groundbreaking experience!&lt;br...</td>\n",
              "      <td>sarcastic</td>\n",
              "      <td>This movie was a groundbreaking experience! Iv...</td>\n",
              "      <td>movie groundbreaking experience! Ive never see...</td>\n",
              "    </tr>\n",
              "    <tr>\n",
              "      <th>3</th>\n",
              "      <td>I thought this was a wonderful way to spend ti...</td>\n",
              "      <td>not sarcastic</td>\n",
              "      <td>I thought this was a wonderful way to spend ti...</td>\n",
              "      <td>think wonderful way spend time hot summer week...</td>\n",
              "    </tr>\n",
              "    <tr>\n",
              "      <th>4</th>\n",
              "      <td>Basically there's a family where a little boy ...</td>\n",
              "      <td>sarcastic</td>\n",
              "      <td>Basically theres a family where a little boy J...</td>\n",
              "      <td>Basically there family little boy Jake think t...</td>\n",
              "    </tr>\n",
              "  </tbody>\n",
              "</table>\n",
              "</div>\n",
              "    <div class=\"colab-df-buttons\">\n",
              "\n",
              "  <div class=\"colab-df-container\">\n",
              "    <button class=\"colab-df-convert\" onclick=\"convertToInteractive('df-339b7b65-ae9f-472f-82dc-b5f4c879a2ff')\"\n",
              "            title=\"Convert this dataframe to an interactive table.\"\n",
              "            style=\"display:none;\">\n",
              "\n",
              "  <svg xmlns=\"http://www.w3.org/2000/svg\" height=\"24px\" viewBox=\"0 -960 960 960\">\n",
              "    <path d=\"M120-120v-720h720v720H120Zm60-500h600v-160H180v160Zm220 220h160v-160H400v160Zm0 220h160v-160H400v160ZM180-400h160v-160H180v160Zm440 0h160v-160H620v160ZM180-180h160v-160H180v160Zm440 0h160v-160H620v160Z\"/>\n",
              "  </svg>\n",
              "    </button>\n",
              "\n",
              "  <style>\n",
              "    .colab-df-container {\n",
              "      display:flex;\n",
              "      gap: 12px;\n",
              "    }\n",
              "\n",
              "    .colab-df-convert {\n",
              "      background-color: #E8F0FE;\n",
              "      border: none;\n",
              "      border-radius: 50%;\n",
              "      cursor: pointer;\n",
              "      display: none;\n",
              "      fill: #1967D2;\n",
              "      height: 32px;\n",
              "      padding: 0 0 0 0;\n",
              "      width: 32px;\n",
              "    }\n",
              "\n",
              "    .colab-df-convert:hover {\n",
              "      background-color: #E2EBFA;\n",
              "      box-shadow: 0px 1px 2px rgba(60, 64, 67, 0.3), 0px 1px 3px 1px rgba(60, 64, 67, 0.15);\n",
              "      fill: #174EA6;\n",
              "    }\n",
              "\n",
              "    .colab-df-buttons div {\n",
              "      margin-bottom: 4px;\n",
              "    }\n",
              "\n",
              "    [theme=dark] .colab-df-convert {\n",
              "      background-color: #3B4455;\n",
              "      fill: #D2E3FC;\n",
              "    }\n",
              "\n",
              "    [theme=dark] .colab-df-convert:hover {\n",
              "      background-color: #434B5C;\n",
              "      box-shadow: 0px 1px 3px 1px rgba(0, 0, 0, 0.15);\n",
              "      filter: drop-shadow(0px 1px 2px rgba(0, 0, 0, 0.3));\n",
              "      fill: #FFFFFF;\n",
              "    }\n",
              "  </style>\n",
              "\n",
              "    <script>\n",
              "      const buttonEl =\n",
              "        document.querySelector('#df-339b7b65-ae9f-472f-82dc-b5f4c879a2ff button.colab-df-convert');\n",
              "      buttonEl.style.display =\n",
              "        google.colab.kernel.accessAllowed ? 'block' : 'none';\n",
              "\n",
              "      async function convertToInteractive(key) {\n",
              "        const element = document.querySelector('#df-339b7b65-ae9f-472f-82dc-b5f4c879a2ff');\n",
              "        const dataTable =\n",
              "          await google.colab.kernel.invokeFunction('convertToInteractive',\n",
              "                                                    [key], {});\n",
              "        if (!dataTable) return;\n",
              "\n",
              "        const docLinkHtml = 'Like what you see? Visit the ' +\n",
              "          '<a target=\"_blank\" href=https://colab.research.google.com/notebooks/data_table.ipynb>data table notebook</a>'\n",
              "          + ' to learn more about interactive tables.';\n",
              "        element.innerHTML = '';\n",
              "        dataTable['output_type'] = 'display_data';\n",
              "        await google.colab.output.renderOutput(dataTable, element);\n",
              "        const docLink = document.createElement('div');\n",
              "        docLink.innerHTML = docLinkHtml;\n",
              "        element.appendChild(docLink);\n",
              "      }\n",
              "    </script>\n",
              "  </div>\n",
              "\n",
              "\n",
              "<div id=\"df-bc9c3011-847f-400b-8097-db9d0f475b3e\">\n",
              "  <button class=\"colab-df-quickchart\" onclick=\"quickchart('df-bc9c3011-847f-400b-8097-db9d0f475b3e')\"\n",
              "            title=\"Suggest charts\"\n",
              "            style=\"display:none;\">\n",
              "\n",
              "<svg xmlns=\"http://www.w3.org/2000/svg\" height=\"24px\"viewBox=\"0 0 24 24\"\n",
              "     width=\"24px\">\n",
              "    <g>\n",
              "        <path d=\"M19 3H5c-1.1 0-2 .9-2 2v14c0 1.1.9 2 2 2h14c1.1 0 2-.9 2-2V5c0-1.1-.9-2-2-2zM9 17H7v-7h2v7zm4 0h-2V7h2v10zm4 0h-2v-4h2v4z\"/>\n",
              "    </g>\n",
              "</svg>\n",
              "  </button>\n",
              "\n",
              "<style>\n",
              "  .colab-df-quickchart {\n",
              "      --bg-color: #E8F0FE;\n",
              "      --fill-color: #1967D2;\n",
              "      --hover-bg-color: #E2EBFA;\n",
              "      --hover-fill-color: #174EA6;\n",
              "      --disabled-fill-color: #AAA;\n",
              "      --disabled-bg-color: #DDD;\n",
              "  }\n",
              "\n",
              "  [theme=dark] .colab-df-quickchart {\n",
              "      --bg-color: #3B4455;\n",
              "      --fill-color: #D2E3FC;\n",
              "      --hover-bg-color: #434B5C;\n",
              "      --hover-fill-color: #FFFFFF;\n",
              "      --disabled-bg-color: #3B4455;\n",
              "      --disabled-fill-color: #666;\n",
              "  }\n",
              "\n",
              "  .colab-df-quickchart {\n",
              "    background-color: var(--bg-color);\n",
              "    border: none;\n",
              "    border-radius: 50%;\n",
              "    cursor: pointer;\n",
              "    display: none;\n",
              "    fill: var(--fill-color);\n",
              "    height: 32px;\n",
              "    padding: 0;\n",
              "    width: 32px;\n",
              "  }\n",
              "\n",
              "  .colab-df-quickchart:hover {\n",
              "    background-color: var(--hover-bg-color);\n",
              "    box-shadow: 0 1px 2px rgba(60, 64, 67, 0.3), 0 1px 3px 1px rgba(60, 64, 67, 0.15);\n",
              "    fill: var(--button-hover-fill-color);\n",
              "  }\n",
              "\n",
              "  .colab-df-quickchart-complete:disabled,\n",
              "  .colab-df-quickchart-complete:disabled:hover {\n",
              "    background-color: var(--disabled-bg-color);\n",
              "    fill: var(--disabled-fill-color);\n",
              "    box-shadow: none;\n",
              "  }\n",
              "\n",
              "  .colab-df-spinner {\n",
              "    border: 2px solid var(--fill-color);\n",
              "    border-color: transparent;\n",
              "    border-bottom-color: var(--fill-color);\n",
              "    animation:\n",
              "      spin 1s steps(1) infinite;\n",
              "  }\n",
              "\n",
              "  @keyframes spin {\n",
              "    0% {\n",
              "      border-color: transparent;\n",
              "      border-bottom-color: var(--fill-color);\n",
              "      border-left-color: var(--fill-color);\n",
              "    }\n",
              "    20% {\n",
              "      border-color: transparent;\n",
              "      border-left-color: var(--fill-color);\n",
              "      border-top-color: var(--fill-color);\n",
              "    }\n",
              "    30% {\n",
              "      border-color: transparent;\n",
              "      border-left-color: var(--fill-color);\n",
              "      border-top-color: var(--fill-color);\n",
              "      border-right-color: var(--fill-color);\n",
              "    }\n",
              "    40% {\n",
              "      border-color: transparent;\n",
              "      border-right-color: var(--fill-color);\n",
              "      border-top-color: var(--fill-color);\n",
              "    }\n",
              "    60% {\n",
              "      border-color: transparent;\n",
              "      border-right-color: var(--fill-color);\n",
              "    }\n",
              "    80% {\n",
              "      border-color: transparent;\n",
              "      border-right-color: var(--fill-color);\n",
              "      border-bottom-color: var(--fill-color);\n",
              "    }\n",
              "    90% {\n",
              "      border-color: transparent;\n",
              "      border-bottom-color: var(--fill-color);\n",
              "    }\n",
              "  }\n",
              "</style>\n",
              "\n",
              "  <script>\n",
              "    async function quickchart(key) {\n",
              "      const quickchartButtonEl =\n",
              "        document.querySelector('#' + key + ' button');\n",
              "      quickchartButtonEl.disabled = true;  // To prevent multiple clicks.\n",
              "      quickchartButtonEl.classList.add('colab-df-spinner');\n",
              "      try {\n",
              "        const charts = await google.colab.kernel.invokeFunction(\n",
              "            'suggestCharts', [key], {});\n",
              "      } catch (error) {\n",
              "        console.error('Error during call to suggestCharts:', error);\n",
              "      }\n",
              "      quickchartButtonEl.classList.remove('colab-df-spinner');\n",
              "      quickchartButtonEl.classList.add('colab-df-quickchart-complete');\n",
              "    }\n",
              "    (() => {\n",
              "      let quickchartButtonEl =\n",
              "        document.querySelector('#df-bc9c3011-847f-400b-8097-db9d0f475b3e button');\n",
              "      quickchartButtonEl.style.display =\n",
              "        google.colab.kernel.accessAllowed ? 'block' : 'none';\n",
              "    })();\n",
              "  </script>\n",
              "</div>\n",
              "\n",
              "    </div>\n",
              "  </div>\n"
            ],
            "application/vnd.google.colaboratory.intrinsic+json": {
              "type": "dataframe",
              "variable_name": "df",
              "summary": "{\n  \"name\": \"df\",\n  \"rows\": 6497,\n  \"fields\": [\n    {\n      \"column\": \"reviews\",\n      \"properties\": {\n        \"dtype\": \"string\",\n        \"num_unique_values\": 6497,\n        \"samples\": [\n          \"First off, I'm not a firefighter, but I'm in some kind of para-firefighting unit (the guys who get called if an earthquake hits and the real firefighters need more people for SAR), so I had some training and simulation but I have no real-life experience.<br /><br />But still, there are some points one notices as totally unbelievable. I can understand that they removed the mouth/nose-pieces of the masks and that there is not enough smoke, because the public would otherwise see nothing. But some things defy logic: <br /><br />- No second mask attached to the oxygen. How the hell do you want to rescue people trough the smoke without one? <br /><br />- Rappelling people. No, it's not done like that. I'd be screaming too if somebody hitched a rope around me in that fashion and hung me from a building. If I could scream, that is, and not pass out from want of air because the rope squeezes my lungs. The second time when they're abseiling Jack it's better but still weird.<br /><br />- \\\"Aim high\\\". No, you bloody don't. You always fight fire from as low as possible. You don't fight want to sprinkle flames, you'll want to extinguish the fire, and that's below the flames.<br /><br />- No discipline. They're running around like chicken. And they shout all the time, instead of using radio, and keeping discipline.<br /><br />- No tactics. Why don't they work in teams of at least two? You still can get separated, but it takes much more than if everyone just scurries around alone in search for victims.<br /><br />- Do they really enter buildings without bringing water? I Europe, firefighters would never enter a burning building without.<br /><br />- Firefighters on the roof. WTF do they think they're doing there without security lines or water? - Exploding rooms. Wood and brick does not \\\"explode suddenly\\\".<br /><br />The better points are actually camaraderie and the other non-firefighting parts of the movie. It's a lot of kitsch, but that's alright. I'll give it a point for this.\",\n          \"\\\"Stargate SG-1\\\" follows the intergalactic explorations of a team named SG-1 through a device called the Stargate and all the surprises awaiting on the other side of the wormhole.<br /><br />Having seen this series sporadically for it's first few seasons when it first came out, I didn't know how good this series would really be, 10 years after I had last seen an episode. My old impression was that the series was great, but my impression was far from the truth. \\\"Stargate SG-1\\\" is more than just a simple sci-fi series, it is one of the most well made, interesting, long running, exciting sci-fi ever produced. And why? Because it runs on an amazing premise.<br /><br />This series value far surpasses that of the movie it was based on and I think it is a very good example that television, as a medium, with a suitable premise, is able to provide something that doesn't work on the time restriction of film. The sense of familiarity created by a long running series, watching the characters and their circumstances progressing with time is stunning and just adds to the ability to suspend disbelief, and it's all a result of terrific writing and a lot of dedication by the all crew to the show.<br /><br />\\\"Stargate SG-1\\\" kept offering great adventures throughout the 10 years, but was never afraid of the challenge of moving the plot and it gave way for some very different time periods of the show: <br /><br />- The first few seasons, perhaps up to the 4th/5th, focused a lot more on the exploration of planets and different situations, keeping the episodes fairly unrelated to each other if it were not for the always impending Goaul'd threat. <br /><br />- From the 5th to the 7th there was increasingly more episodes focusing on fighting the Goaul'd and preventing attacks on Earth. After this seasons exploration of the planets was almost only an excuse for putting sg-1 in a place of Goaul'd/replicator/ori conflicts<br /><br />- The 8th season is probably the most mixed one. It has a stream of episodes that includes minor earth matters in which the stargate is hardly even mentioned, but the last episodes feature some great replicator moments. <br /><br />- The 9th and 10th travel together because they have the same new enemy and no Jack O'Neil. They are both good continuations, although the first few episodes of the 10th season are a little weak, because they seem to be about little more than SG-1 and human/Jaffa losing battle after battle to the Ori.<br /><br />Basically, after season 7, exploration was pushed to the background, which in many ways was a shame, because of the potential and mystery each planet(episode) presented; on the other hand, it made for so many great episodes of the ongoing conflicts that the change of nature of the show still worked and shows how great and bold the writers were.<br /><br />Even tough I believe the series have a high quality ending that nicely puts it to rest, the feeling I have is that it could go on; the people involved were all great professionals and the series narrative had plenty to offer. A last season returning to the beginning nature of the series was very doable and would have been most welcome, but ultimately things are as they are.<br /><br />In the end, because of the fact that I enjoyed everything, it's a little hard to find that it ends. The big picture, however, the one drawn by the work of hundreds of people over the course of 10 years, is a sight of beauty and a true testament to the dedication of the crew, those outstanding actors and the characters the we will always remember as a collective by the name of SG-1.\",\n          \"\\\"Thank you, Hollywood, for yet another comedy movie that fetishizes sexism and racism. Because clearly, bigotry is hilarious.\\\"\"\n        ],\n        \"semantic_type\": \"\",\n        \"description\": \"\"\n      }\n    },\n    {\n      \"column\": \"Sarcasm\",\n      \"properties\": {\n        \"dtype\": \"category\",\n        \"num_unique_values\": 2,\n        \"samples\": [\n          \"sarcastic\",\n          \"not sarcastic\"\n        ],\n        \"semantic_type\": \"\",\n        \"description\": \"\"\n      }\n    },\n    {\n      \"column\": \"cleaned_reviews\",\n      \"properties\": {\n        \"dtype\": \"string\",\n        \"num_unique_values\": 6475,\n        \"samples\": [\n          \"What we have here is a damn good little nineties thriller that while perhaps lacking in substance still provides great entertainment throughout its running time and overall does everything you could possibly want a film of this nature to do. I saw this film principally because it was directed by John Dahl a highly underrated director behind great thrillers such as The Last Seduction Rounders and Roadkill. I figured that if this film was up to standard of what Ive already seen from the director it would be well worth watching and Red Rock West is certainly a film that Dahl can be proud of. The plot focuses on the overly moral Michael a man travelling across America looking for work. He ends up finding it one day when he stumbles upon a bar in Red Rock County only catch is that the job is to murder a mans wife. Hes been mistaken for a killer named Lyle but instead of doing the job he plays both sides against each other and eventually plans to make a getaway. However his attempts to escape are unsuccessful and he finds himself in a bad situation when the real Lyle turns up...John Dahl appears to enjoy setting thrillers on the road he did it three years earlier with Kill Me Again and again almost a decade on from this film with Roadkill. Its not hard to see why Dahl chooses this sort of location as it provides a fabulous atmosphere for a thriller the likes of this one. Dahl also provides his film with a film noir like atmosphere as the plot mainly focuses on the central character and the word he is plunged into is full of dark and mysterious characters. The acting is largely very good with Nicholas Cage doing an excellent job in the lead role and getting Aclass support from Lara Flynn Boyle J.T. Walsh and of course Dennis Hopper who once again commands the screen with his over the top performance. It has to be said that the second half of the film isnt as gripping as the first but Red Rock West certainly is never boring and the way that Dahl orchestrates the grand finale is excellent in that all the central characters get to be a part of it. Overall Red Rock West is a film that youre unlikely to regret watching. Its thrilling throughout and you cant ask for much more than that!\",\n          \"This movie has got to be the biggest disappointment Ive ever experienced with a film. The acting is horrific the suspense build up minimal and the plot overall is ridiculous. I found myself rooting for the victim to just hurry up and become a victim because she obviously needed to be put out of her misery. Anyone with rudimentary knowledge of how the world works will immediately be disgusted at the leaps were asked to make in logic and the socalled suspenseful buildup would be lucky to get a 3 year old to be mildly worried. Im dismayed that a sequel is planned because it means theyll be asking us to once again swallow a sub par plot line. If this is an example of Raw Feeds work I think Ill be avoiding any and all future films by them.\"\n        ],\n        \"semantic_type\": \"\",\n        \"description\": \"\"\n      }\n    },\n    {\n      \"column\": \"lemmatized_reviews\",\n      \"properties\": {\n        \"dtype\": \"string\",\n        \"num_unique_values\": 6464,\n        \"samples\": [\n          \"Alexander Nevsky 1938 brilliant piece cinematic propaganda. people Russia threaten two major enemy Mongols Teutonic Knights Holy Roman Empire. order unite war rival Princes Russian Realm Nevsky take charge fight lesser two evil Teutonics. influential film copy many time still hold day. soundtrack composer Prokiev Eisentsteins direction sight sound behold Many year later John Milius use many movie scene set piece costume film incorporate Conan.One favorite line Conan take movie. strength iron weapon strength person wields matters. comparison unmistakable. armor James Earl Jones Leader Teutonic Knights wear virtually identical. true tribute pay one director another.I give Alexander Nevsky one high recommendations. movie play like final Act Richard III. presence Prince Alexander screen truly amazing.\",\n          \"knew would give rent laugh maybe mindless fun. Anyone whose read review see Im pretty easy please. really didnt think Id end feel negatively towards it.The plot ancient army dragon lead huge serpent destroy world unless choose hero inherit responsibility can\\u00c2\\u2026 become one with\\u00c2\\u2026 good dragon\\u00c2\\u2026 something\\u00c2\\u2026 dont know. stupid didnt bother put much effort retain it.It feature really dumb story full ridiculous moment goofy concepts. many event felt totally random sudden.I assume studio interference something big problem movie fact story seem like try grand epic yet everything happen fast go quickly. feel like Ive hit million plot point action sequence one big ball. film like punch face. doesnt take much time establish character drama. Imagine Lord Rings trilogy 90 minutes\\u00c2\\u2026 could epic battle sequence would absolutely buildup youd hardly care outcome battles. case Dragon Wars\\u00c2\\u2026 90 minute give crap wait over.Fantastic CGI okay direct horrible act speedy pace dumb story make hard enjoy grounds. probably would love 6.\"\n        ],\n        \"semantic_type\": \"\",\n        \"description\": \"\"\n      }\n    }\n  ]\n}"
            }
          },
          "metadata": {},
          "execution_count": 15
        }
      ]
    },
    {
      "cell_type": "markdown",
      "metadata": {
        "id": "lmN6w5yincu_"
      },
      "source": [
        "**Checking for dataset IMBALANCE**"
      ]
    },
    {
      "cell_type": "code",
      "execution_count": 16,
      "metadata": {
        "colab": {
          "base_uri": "https://localhost:8080/"
        },
        "id": "8c9x5T2xncN3",
        "outputId": "8187a5b6-1784-4854-aa5b-a260258ebf41"
      },
      "outputs": [
        {
          "output_type": "stream",
          "name": "stdout",
          "text": [
            "The dataset is balanced.\n"
          ]
        }
      ],
      "source": [
        "def check_imbalance(df, label_column, threshold=0.05):\n",
        "    label_counts = df[label_column].value_counts()\n",
        "    class_proportions = label_counts / label_counts.sum()\n",
        "    return any(class_proportions < threshold)\n",
        "\n",
        "label = 'Sarcasm'\n",
        "is_imbalanced = check_imbalance(df, label)\n",
        "if is_imbalanced:\n",
        "    print(\"The dataset is imbalanced.\")\n",
        "else:\n",
        "    print(\"The dataset is balanced.\")\n"
      ]
    },
    {
      "cell_type": "markdown",
      "metadata": {
        "id": "qBVBNUrLISQX"
      },
      "source": [
        "**Encoding the labels**"
      ]
    },
    {
      "cell_type": "code",
      "execution_count": 17,
      "metadata": {
        "colab": {
          "base_uri": "https://localhost:8080/"
        },
        "id": "l1YNFBawIQ2L",
        "outputId": "d9af64dc-6847-47ae-cb44-bc8e09dab34b"
      },
      "outputs": [
        {
          "output_type": "stream",
          "name": "stdout",
          "text": [
            "Mapping of sarcasm labels to numerical values:\n",
            "not sarcastic: 0\n",
            "sarcastic: 1\n"
          ]
        }
      ],
      "source": [
        "from sklearn import preprocessing\n",
        "\n",
        "label_encoder = preprocessing.LabelEncoder()\n",
        "\n",
        "df['Sarcasm'] = label_encoder.fit_transform(df['Sarcasm'])\n",
        "\n",
        "mapping = dict(zip(label_encoder.classes_, label_encoder.transform(label_encoder.classes_)))\n",
        "\n",
        "print(\"Mapping of sarcasm labels to numerical values:\")\n",
        "for sarcasm, label in mapping.items():\n",
        "    print(f\"{sarcasm}: {label}\")"
      ]
    },
    {
      "cell_type": "markdown",
      "source": [
        "**Spliting the data into train and test data**"
      ],
      "metadata": {
        "id": "DLSkG0A9z4Om"
      }
    },
    {
      "cell_type": "code",
      "source": [
        "from sklearn.model_selection import train_test_split"
      ],
      "metadata": {
        "id": "kGEUZvLOeD-s"
      },
      "execution_count": 18,
      "outputs": []
    },
    {
      "cell_type": "code",
      "source": [
        "# Prepare the data for training\n",
        "X = df['lemmatized_reviews']\n",
        "Y = df['Sarcasm']\n",
        "\n",
        "# Split the dataset into training and testing sets\n",
        "X_train, X_test, y_train, y_test = train_test_split(X, Y, test_size=0.2, random_state=42)"
      ],
      "metadata": {
        "id": "xr9jLVivdv_i"
      },
      "execution_count": 19,
      "outputs": []
    },
    {
      "cell_type": "code",
      "source": [
        "X_train.shape"
      ],
      "metadata": {
        "colab": {
          "base_uri": "https://localhost:8080/"
        },
        "id": "xiVj3Ev6ekmj",
        "outputId": "811b4fa6-30ed-48d4-e38b-6f2476450680"
      },
      "execution_count": 20,
      "outputs": [
        {
          "output_type": "execute_result",
          "data": {
            "text/plain": [
              "(5197,)"
            ]
          },
          "metadata": {},
          "execution_count": 20
        }
      ]
    },
    {
      "cell_type": "code",
      "source": [
        "X_test.shape"
      ],
      "metadata": {
        "colab": {
          "base_uri": "https://localhost:8080/"
        },
        "id": "r4No4THQep-z",
        "outputId": "1fe99667-8d8c-4b35-f0ee-dc35c545128d"
      },
      "execution_count": 21,
      "outputs": [
        {
          "output_type": "execute_result",
          "data": {
            "text/plain": [
              "(1300,)"
            ]
          },
          "metadata": {},
          "execution_count": 21
        }
      ]
    },
    {
      "cell_type": "markdown",
      "metadata": {
        "id": "Zv_IMcn3lT5D"
      },
      "source": [
        "**Tokenization and Embeddings**"
      ]
    },
    {
      "cell_type": "code",
      "execution_count": 22,
      "metadata": {
        "id": "Lf0FCwLi8O_u"
      },
      "outputs": [],
      "source": [
        "import tensorflow as tf\n",
        "from keras.preprocessing.sequence import pad_sequences\n",
        "from keras.preprocessing.text import Tokenizer"
      ]
    },
    {
      "cell_type": "code",
      "source": [
        "# Tokenizer and padding\n",
        "tokenizer = Tokenizer()\n",
        "tokenizer.fit_on_texts(X_train)\n",
        "\n",
        "X_train_seq = tokenizer.texts_to_sequences(X_train)\n",
        "X_train_ = pad_sequences(X_train_seq, padding='post')\n",
        "\n",
        "X_test_seq = tokenizer.texts_to_sequences(X_test)\n",
        "X_test_ = pad_sequences(X_test_seq, padding='post', maxlen=X_train_.shape[1])\n",
        "\n",
        "# Vocabulary size\n",
        "vocab_size = len(tokenizer.word_index) + 1\n",
        "max_length = X_train_.shape[1]\n"
      ],
      "metadata": {
        "id": "OdHV_YSBBkq3"
      },
      "execution_count": 23,
      "outputs": []
    },
    {
      "cell_type": "code",
      "source": [
        "print(f\"vocabulary size: {vocab_size} \")\n",
        "print(f\"maximum length of input review embedding: {max_length}\" )"
      ],
      "metadata": {
        "id": "3KE7xen5SNGq",
        "colab": {
          "base_uri": "https://localhost:8080/"
        },
        "outputId": "d345ca36-6668-4fa7-d56c-66b09a254af7"
      },
      "execution_count": 24,
      "outputs": [
        {
          "output_type": "stream",
          "name": "stdout",
          "text": [
            "vocabulary size: 29783 \n",
            "maximum length of input review embedding: 944\n"
          ]
        }
      ]
    },
    {
      "cell_type": "markdown",
      "metadata": {
        "id": "JcJJvTF5nMkX"
      },
      "source": [
        "##**4) RANDOM FOREST ML MODEL TRAINING**"
      ]
    },
    {
      "cell_type": "markdown",
      "source": [
        "**About Random Forest model**\n",
        "\n",
        "- Random Forest is a powerful ensemble learning technique in machine learning.\n",
        "\n",
        "- It combines the output of multiple decision trees to reach a single result.\n",
        "\n",
        "- Random Forest handles both classification and regression problems.\n",
        "\n",
        "**How Does Random Forest Work?**\n",
        "- **During training:**\n",
        "  - Multiple decision trees are created, each using a random subset of the dataset.\n",
        "  - Each tree measures a random subset of features in each partition.\n",
        "  - This randomness introduces variability, reducing overfitting.\n",
        "- **In prediction:**\n",
        "  - The algorithm aggregates results from all trees:\n",
        "      - For classification tasks, it uses voting.\n",
        "      - For regression tasks, it averages predictions.\n",
        "  - The collaborative decision-making process provides stable and precise results.\n",
        "\n",
        "**Advantages:**\n",
        "- Handles complex data.\n",
        "- Reduces overfitting.\n",
        "- Provides reliable forecasts."
      ],
      "metadata": {
        "id": "V7dnMC8Ws6bP"
      }
    },
    {
      "cell_type": "code",
      "execution_count": 25,
      "metadata": {
        "id": "6wc6b0o3nDVE"
      },
      "outputs": [],
      "source": [
        "import numpy as np\n",
        "from sklearn.metrics import accuracy_score, confusion_matrix, classification_report\n",
        "from sklearn.ensemble import RandomForestClassifier"
      ]
    },
    {
      "cell_type": "code",
      "execution_count": 26,
      "metadata": {
        "id": "K6tXSWw0m2Lc",
        "colab": {
          "base_uri": "https://localhost:8080/"
        },
        "outputId": "2b1e95b9-bc78-4851-a6ee-fd19fc588961"
      },
      "outputs": [
        {
          "output_type": "stream",
          "name": "stdout",
          "text": [
            "Evaluation for the given vectors:\n",
            "\n",
            "Accuracy: 0.75\n",
            "Confusion Matrix:\n",
            "[[451 153]\n",
            " [175 521]]\n",
            "Classification Report:\n",
            "              precision    recall  f1-score   support\n",
            "\n",
            "           0       0.72      0.75      0.73       604\n",
            "           1       0.77      0.75      0.76       696\n",
            "\n",
            "    accuracy                           0.75      1300\n",
            "   macro avg       0.75      0.75      0.75      1300\n",
            "weighted avg       0.75      0.75      0.75      1300\n",
            "\n"
          ]
        }
      ],
      "source": [
        "def random_forest(X_train, X_test, y_train, y_test):\n",
        "    model = RandomForestClassifier(n_estimators=5, random_state=42)\n",
        "    model.fit(X_train, y_train)\n",
        "    y_pred = model.predict(X_test)\n",
        "\n",
        "    accuracy = accuracy_score(y_test, y_pred)\n",
        "    conf_matrix = confusion_matrix(y_test, y_pred)\n",
        "    class_report = classification_report(y_test, y_pred)\n",
        "\n",
        "    print(f\"Evaluation for the given vectors:\\n\")\n",
        "    print(f'Accuracy: {accuracy:.2f}')\n",
        "    print('Confusion Matrix:')\n",
        "    print(conf_matrix)\n",
        "    print('Classification Report:')\n",
        "    print(class_report)\n",
        "\n",
        "    return model\n",
        "\n",
        "model_rf=random_forest(X_train_, X_test_, y_train, y_test)"
      ]
    },
    {
      "cell_type": "markdown",
      "metadata": {
        "id": "xekQAtUfoToI"
      },
      "source": [
        "**Performing the hyper parameter tuning**"
      ]
    },
    {
      "cell_type": "code",
      "execution_count": 27,
      "metadata": {
        "id": "l_qek4LtoSwG"
      },
      "outputs": [],
      "source": [
        "from sklearn.model_selection import GridSearchCV"
      ]
    },
    {
      "cell_type": "code",
      "execution_count": 28,
      "metadata": {
        "colab": {
          "base_uri": "https://localhost:8080/"
        },
        "id": "QZp09x11ogYr",
        "outputId": "7f1a1bd5-3b92-48a2-e047-748b2e38b4e2"
      },
      "outputs": [
        {
          "output_type": "stream",
          "name": "stdout",
          "text": [
            "Best parameters found: {'max_depth': None, 'min_samples_leaf': 1, 'min_samples_split': 2, 'n_estimators': 100}\n",
            "Classification Report:\n",
            "              precision    recall  f1-score   support\n",
            "\n",
            "           0       0.75      0.83      0.79       604\n",
            "           1       0.84      0.75      0.79       696\n",
            "\n",
            "    accuracy                           0.79      1300\n",
            "   macro avg       0.79      0.79      0.79      1300\n",
            "weighted avg       0.80      0.79      0.79      1300\n",
            "\n"
          ]
        }
      ],
      "source": [
        "#hyper Parameters\n",
        "parameters = {\n",
        "    'n_estimators': [100, 150, 200],\n",
        "    'max_depth': [None, 10, 20],\n",
        "    'min_samples_split': [2, 5, 10],\n",
        "    'min_samples_leaf': [1, 2, 4]\n",
        "}\n",
        "\n",
        "grid_search = GridSearchCV(model_rf, parameters, cv=5, scoring='accuracy')\n",
        "grid_search.fit(X_train_, y_train)\n",
        "# Extract best parameters\n",
        "best_params = grid_search.best_params_\n",
        "print(f\"Best parameters found: {best_params}\")\n",
        "rf_model = RandomForestClassifier(**best_params)\n",
        "rf_model.fit(X_train_,y_train)\n",
        "rf_preds = rf_model.predict(X_test_)\n",
        "\n",
        "# Evaluation\n",
        "\n",
        "class_report = classification_report(y_test, rf_preds)\n",
        "print('Classification Report:')\n",
        "print(class_report)"
      ]
    },
    {
      "cell_type": "markdown",
      "metadata": {
        "id": "QOCldRSCo9wc"
      },
      "source": [
        "###**5) Predictions and Analysis**"
      ]
    },
    {
      "cell_type": "code",
      "source": [
        "def predict_new_data(text, model, tokenizer, max_length):\n",
        "    # Preprocess the new data\n",
        "     new_data_cleaned = []\n",
        "     text_cleaned = clean_text(text)\n",
        "     processed_review = process_review(review)\n",
        "     new_data_cleaned.append(processed_review)\n",
        "     # Tokenize and pad the new data\n",
        "     new_data_seq = tokenizer.texts_to_sequences(new_data_cleaned)\n",
        "     new_data_padded = pad_sequences(new_data_seq, padding='post', maxlen=max_length)\n",
        "     # Predict using GRU model\n",
        "     gru_predictions = model.predict(new_data_padded)\n",
        "     predictions = np.where(gru_predictions > 0.5, 1, 0).flatten()\n",
        "     if (predictions==1):\n",
        "      return(\"Sarcastic\")\n",
        "     else: return(\"Not Sarcastic\")"
      ],
      "metadata": {
        "id": "5bLnxhHdn6q6"
      },
      "execution_count": 29,
      "outputs": []
    },
    {
      "cell_type": "code",
      "source": [
        "review= \"Despite its star-studded cast, 'Cats' fails to capture the magic of the stage musical.The awkward CGI and lackluster choreography detract from the experience, resulting in a confusing and unsettling film that left audiences disappointed.\"\n",
        "print(\"actual : Not Sarcastic\")\n",
        "a=predict_new_data(review, rf_model, tokenizer, max_length)\n",
        "print(a)\n"
      ],
      "metadata": {
        "colab": {
          "base_uri": "https://localhost:8080/"
        },
        "id": "RqLrK9G-R0q1",
        "outputId": "5ec12338-c94e-430a-f6e5-e84a2fb2abc5"
      },
      "execution_count": 30,
      "outputs": [
        {
          "output_type": "stream",
          "name": "stdout",
          "text": [
            "actual : Not Sarcastic\n",
            "Sarcastic\n"
          ]
        }
      ]
    },
    {
      "cell_type": "code",
      "source": [
        "review= \"Kalki presents a fresh take on mythology, blending traditional elements with modern storytelling. The unique premise keeps the audience engaged throughout\"\n",
        "print(\"actual : Not Sarcastic\")\n",
        "g=predict_new_data(review, rf_model, tokenizer, max_length)\n",
        "print (g)\n"
      ],
      "metadata": {
        "colab": {
          "base_uri": "https://localhost:8080/"
        },
        "id": "kfZesWDMXwbc",
        "outputId": "7f599772-ef04-454b-9492-39d29b39f4b4"
      },
      "execution_count": 34,
      "outputs": [
        {
          "output_type": "stream",
          "name": "stdout",
          "text": [
            "actual : Not Sarcastic\n",
            "Not Sarcastic\n"
          ]
        }
      ]
    },
    {
      "cell_type": "code",
      "source": [
        "review= \"Jawan, delivers a high-octane blend of action and drama, showcasing Shah Rukh Khan in a dual role. The film's pacing keeps you on the edge of your seat, making it a must-watch for action enthusiasts.\"\n",
        "print(\"actual : Not Sarcastic\")\n",
        "h=predict_new_data(review, rf_model, tokenizer, max_length)\n",
        "print(h)"
      ],
      "metadata": {
        "colab": {
          "base_uri": "https://localhost:8080/"
        },
        "id": "_sa71MuMYLHr",
        "outputId": "854a2cb5-321f-4996-f30e-e0581bc9baa3"
      },
      "execution_count": 38,
      "outputs": [
        {
          "output_type": "stream",
          "name": "stdout",
          "text": [
            "actual : Not Sarcastic\n",
            "Sarcastic\n"
          ]
        }
      ]
    },
    {
      "cell_type": "code",
      "source": [
        "review= \"Congratulations to the special effects team for making everything look like it came straight out of a video game from the '90s! I didn’t realize I was watching a film; I thought I was playing an outdated arcade game. Truly groundbreaking work!\"\n",
        "print(\"actual : Sarcastic\")\n",
        "b=predict_new_data(review, rf_model, tokenizer, max_length)\n",
        "print(b)"
      ],
      "metadata": {
        "colab": {
          "base_uri": "https://localhost:8080/"
        },
        "id": "uUrGsIYAQs54",
        "outputId": "1b434b07-8f4b-4c7c-a65e-14b41d51479a"
      },
      "execution_count": 35,
      "outputs": [
        {
          "output_type": "stream",
          "name": "stdout",
          "text": [
            "actual : Sarcastic\n",
            "Sarcastic\n"
          ]
        }
      ]
    },
    {
      "cell_type": "code",
      "source": [
        "review= \"A touching story about a man who travels across borders—too bad he didn’t bother with a map!\"\n",
        "print(\"actual : Sarcastic\")\n",
        "d=predict_new_data(review, rf_model, tokenizer, max_length)\n",
        "print(d)"
      ],
      "metadata": {
        "colab": {
          "base_uri": "https://localhost:8080/"
        },
        "id": "YwJhzDnUU_SN",
        "outputId": "b1ef1415-f292-48b9-94cc-8f418493967c"
      },
      "execution_count": 37,
      "outputs": [
        {
          "output_type": "stream",
          "name": "stdout",
          "text": [
            "actual : Sarcastic\n",
            "Sarcastic\n"
          ]
        }
      ]
    },
    {
      "cell_type": "markdown",
      "source": [
        "#**Conclusion**\n",
        "\n",
        "The Random Forest model achieved an overall accuracy of 79%. It demonstrated a balanced performance between the two classes:\n",
        "\n",
        "- *Not Sarcastic* reviews: The model achieved a precision of 74%, a recall of 84%, and an F1-score of 79%.\n",
        "- *Sarcastic* reviews: The model achieved a precision of 84%, a recall of 75%, and an F1-score of 79%.\n",
        "\n",
        "This Random Forest model serves as a benchmark for training the deep learning model. Its performance metrics provide a reference point for evaluating and improving the deep learning model's effectiveness in classifying sarcastic and non-sarcastic reviews."
      ],
      "metadata": {
        "id": "Wz_Mzr8Z_bPK"
      }
    },
    {
      "cell_type": "code",
      "source": [],
      "metadata": {
        "id": "ZmFHTyWFCwZE"
      },
      "execution_count": null,
      "outputs": []
    }
  ]
}